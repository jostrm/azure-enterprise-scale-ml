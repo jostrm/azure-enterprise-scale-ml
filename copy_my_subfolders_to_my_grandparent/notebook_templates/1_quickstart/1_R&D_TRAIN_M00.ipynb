{
 "cells": [
  {
   "cell_type": "markdown",
   "metadata": {},
   "source": [
    "# R&D phase: About this notebook\n",
    "- This notebooks support both CLASSIFICATION and REGRESSION\n",
    "- Purpose: TRAINS a model with Azure AutoML and with AZURE compute cluster and calculates test_set scoring, automatically compares if newly trained model is better.\n",
    "    - To iteratively try different ML-algorithms see what's best, change performance settings, train again.\n",
    "    - Also to try different apporoaches, classification or regression approach - which is better for the use case.\n",
    "\n",
    "- Q: `WHEN to move on form R&D phase to PRODUCTION phase notebook?`\n",
    "    - When you are happy with the MODEL (or if you have a big dataset that requires pipeline for training) - then go to the next notebook `2a_PRODUCTION_phase` to create PIPELINES: \n",
    "        - PRODUCTION PHASE & MLOps requires 1 `training pipeline`, and a `scoring pipeline` or `scoring online endpoint`, for inference \n",
    "- This notebook - Details:\n",
    "    - 1) Automaps data as Azure ML datasets. Based on your `lake_settings.json`\n",
    "    - 2) Splits the GOLD data into 3 buckets. \n",
    "        - NB this is done with local compute, not Azure, use \n",
    "             - Option 1: `2a_PRODUCTION_phase` training pipeline if data is too big for local RAM memory\n",
    "             - Option 2: Stay in this notebook & local split of data, but increase RAM memory of your/this Azure VM developer (DSVM) computer.\n",
    "             - Option 2: Stay in this notebook & local split of data, but reduce data size. Only use a sample .parquet (or .csv) file in the IN-folder.\n",
    "    - 3) Trains model\n",
    "    - 4) Registers model\n",
    "    - 5) Calculate test_set scoring\n",
    "    - 6) Deploys model - ONLINE endpoint to AKS\n",
    "    - 7) Inference: Smoke testing, using the ONLINE endpoint - get result back, saves the result to datalake also\n",
    "    - DONE.\n",
    "    \n",
    "- This notebook is called: `M10_v143_esml_classification_1_train_env_dev.ipynb` in the notebook_templates folder\n",
    " "
   ]
  },
  {
   "cell_type": "markdown",
   "metadata": {},
   "source": [
    "# NB ! You need to run Azure machine learnig workspace in `v1_legacy_mode=True`"
   ]
  },
  {
   "cell_type": "code",
   "execution_count": null,
   "metadata": {},
   "outputs": [],
   "source": [
    "# Uncomment below row, Run this one time.\n",
    "#p.ws.update(v1_legacy_mode=True) # If you happen to have a workspace in v2 mode, and want to change back to v1 legacy mode. "
   ]
  },
  {
   "cell_type": "markdown",
   "metadata": {},
   "source": [
    "# Login / Switch DEV_TEST_PROD environment (1-timer)"
   ]
  },
  {
   "cell_type": "code",
   "execution_count": 1,
   "metadata": {},
   "outputs": [
    {
     "name": "stdout",
     "output_type": "stream",
     "text": [
      "Using lake_settings.json with ESML version 1.4 - Models array support including LABEL\n",
      "846f02b7-f92a-4053-9a99-094e5ba2e1a4\n",
      "aml-prj001-weu-DEV-001\n",
      "50ef5835-c45a-4c2e-a596-2a9e0e2a0a33\n",
      "dc-heroes-esml-project001-weu-DEV-001-rg\n",
      "Performing interactive authentication. Please follow the instructions on the terminal.\n",
      "Interactive authentication successfully completed.\n"
     ]
    }
   ],
   "source": [
    "import sys\n",
    "sys.path.insert(0, \"../azure-enterprise-scale-ml/esml/common/\")\n",
    "from azureml.core.authentication import InteractiveLoginAuthentication\n",
    "from esml import ESMLProject\n",
    "\n",
    "p = ESMLProject()\n",
    "p.dev_test_prod=\"dev\"\n",
    "\n",
    "print(p.tenant)\n",
    "print(p.workspace_name) # self.workspace_name,subscription_id = self.subscription_id,resource_group = self.resource_group\n",
    "print(p.subscription_id)\n",
    "print(p.resource_group)\n",
    "\n",
    "auth = InteractiveLoginAuthentication(force=True, tenant_id = p.tenant)\n",
    "ws, config_name = p.authenticate_workspace_and_write_config(auth)\n",
    "p.ws = ws"
   ]
  },
  {
   "cell_type": "markdown",
   "metadata": {},
   "source": [
    "# TODO for you: CONFIGURATION\n",
    "- 1) Change `p.active_model=11` to correct model number `1` if your model has that number.\n",
    "        - See  [lake_settings.json](./settings/project_specific/model/lake_settings.json) to find YOUR model number.\n",
    "        - Example: `model_number: 10`\n",
    "- 2) Verify/Change `param_scoring_folder_date` and `param_train_in_folder_date` to correct `datalake datefolder folder`, in UTC format\n",
    "        - The ESML admin should already have added data to your date folder `1000/01/01` for all your datasets, both under `train` folder and under `inference/0/` folder structure.\n",
    "- 3) Create YOUR feature engineering logic, in the CELL in this notebook. Cell location: [2b) TODO 4 YOU - Your feature engineering](#2b_your_feature_engineering)\n",
    "        - See  [lake_settings.json](./settings/project_specific/model/lake_settings.json) to find YOUR dataset names in the `dataset_folder_names` array\n",
    "        - Example: `dataset_folder_names: [\"ds01_titanic\",\"ds02_haircolor\",\"ds03_housing\",\"ds04_lightsaber\"]`"
   ]
  },
  {
   "cell_type": "markdown",
   "metadata": {},
   "source": [
    "# 1) ESML - TRAIN Classification or Regression, with AutoML\n",
    "DEMO models: \n",
    "- M10: TITANIC model use case, \"predict survival or not\".\n",
    "- M11: Diabetes regression use case\n",
    "\n",
    "This notebook works for your model also. It is a generic template"
   ]
  },
  {
   "cell_type": "code",
   "execution_count": 1,
   "metadata": {},
   "outputs": [
    {
     "name": "stdout",
     "output_type": "stream",
     "text": [
      "Using lake_settings.json with ESML version 1.4 - Models array support including LABEL\n",
      "Using GEN2 as Datastore\n",
      "use_project_sp_2_mount: True\n",
      "Searching for setting in ESML datalake...\n",
      "ESML in-folder settings override = TRUE \n",
      " - Found settings in the ESML AutoLake  [active_in_folder.json,active_scoring_in_folder.json], to override ArgParse/GIT config with.\n",
      " - TRAIN in date:  1000/01/01\n",
      " - INFERENCE in date: 1000/01/01 and ModelVersion to score with: 0 (0=latest)\n",
      "...\n"
     ]
    }
   ],
   "source": [
    "import sys\n",
    "sys.path.insert(0, \"../azure-enterprise-scale-ml/\")\n",
    "from esmlfac.adapter import ESMLFactory\n",
    "sys.path.insert(0, \"../azure-enterprise-scale-ml/esml/common/\")\n",
    "from esml import ESMLProject\n",
    "import pandas as pd\n",
    "\n",
    "param_esml_env = \"dev\" \n",
    "param_inference_model_version = \"1\" # DATALAKE(my_model/inference/active) | settings/project_specific/active/active_scoring_in_folder.json\n",
    "param_scoring_folder_date = \"1000-01-01 00:00:01.243860\" # DATALAKE(my_model/inference/active) | settings/project_specific/active/active_scoring_in_folder.json\n",
    "param_train_in_folder_date = \"1000-01-01 00:00:01.243860\" # DATALAKE(my_model/train/active) | settings/project_specific/active/active_in_folder.json\n",
    "\n",
    "p = ESMLProject(param_esml_env,param_inference_model_version,param_scoring_folder_date,param_train_in_folder_date)\n",
    "#p = ESMLProject() # Alternatively use empty contructor, which takes parameters from settings\\project_specific\\model\\active\\active_in_folder.json\n",
    "\n",
    "p.active_model = 11\n",
    "p.inference_mode = False\n",
    "p.ws = p.get_workspace_from_config() #2) Load DEV or TEST or PROD Azure ML Studio workspace\n",
    "p.verbose_logging = False\n",
    "\n",
    "# Init a ESMLController from ESMLProject configuration: Needed for \n",
    "datastore = p.connect_to_lake() # Connects to the correct ALDS GEN 2 storage account (DEV, TEST or PROD)\n",
    "controller = ESMLFactory.get_esml_controller_from_notebook(p)\n",
    "#p.describe()"
   ]
  },
  {
   "cell_type": "markdown",
   "metadata": {},
   "source": [
    "## \"One time a day\" - the below is needed to be done, to ensure Azure ML v1"
   ]
  },
  {
   "cell_type": "code",
   "execution_count": 2,
   "metadata": {},
   "outputs": [
    {
     "name": "stdout",
     "output_type": "stream",
     "text": [
      "NB! The below command you only need to run 1 time a day - then you can disable this cell. comment the code lines\n",
      "\n"
     ]
    },
    {
     "data": {
      "text/plain": [
       "{'id': '/subscriptions/50ef5835-c45a-4c2e-a596-2a9e0e2a0a33/resourceGroups/dc-heroes-esml-project001-weu-dev-001-rg/providers/Microsoft.MachineLearningServices/workspaces/aml-prj001-weu-dev-001',\n",
       " 'name': 'aml-prj001-weu-dev-001',\n",
       " 'identity': {'principal_id': '32f3a889-570a-404b-bd49-29d7b761aa13',\n",
       "  'tenant_id': '846f02b7-f92a-4053-9a99-094e5ba2e1a4',\n",
       "  'type': 'SystemAssigned'},\n",
       " 'location': 'westeurope',\n",
       " 'type': 'Microsoft.MachineLearningServices/workspaces',\n",
       " 'tags': {'Application Name': 'Enterprise Scale ML (ESML)',\n",
       "  'BA ID': 'NA',\n",
       "  'BCIO': 'Robin',\n",
       "  'Business Area': 'NA',\n",
       "  'Cost Center': '123456',\n",
       "  'Resource Managed By': 'The Riddler',\n",
       "  'TechnicalContact': 'batman@gothamcity.dc_',\n",
       "  'Project': 'Batcave upgrade',\n",
       "  'Description': 'ESML AI Factory'},\n",
       " 'sku': 'Basic',\n",
       " 'workspaceid': '14329cb6-9c78-4714-89e1-5bde1f975f93',\n",
       " 'sdkTelemetryAppInsightsKey': '9ac578de-874f-4fea-85bc-7e4cefd0d47f',\n",
       " 'description': 'Azure ML workspace for prj001 in ESML-dev environment. In AI Factory(001), in westeurope',\n",
       " 'friendlyName': 'prj001-dev-001',\n",
       " 'creationTime': '2023-01-11T15:27:06.5179266Z',\n",
       " 'containerRegistry': '/subscriptions/50ef5835-c45a-4c2e-a596-2a9e0e2a0a33/resourceGroups/dc-heroes-esml-project001-weu-dev-001-rg/providers/Microsoft.ContainerRegistry/registries/acrprj001weugderqdev001',\n",
       " 'keyVault': '/subscriptions/50ef5835-c45a-4c2e-a596-2a9e0e2a0a33/resourceGroups/dc-heroes-esml-project001-weu-dev-001-rg/providers/Microsoft.Keyvault/vaults/kv-p001-weu-dev-gderq01',\n",
       " 'applicationInsights': '/subscriptions/50ef5835-c45a-4c2e-a596-2a9e0e2a0a33/resourceGroups/dc-heroes-esml-project001-weu-dev-001-rg/providers/Microsoft.insights/components/ain-prj001-weu-dev-gderq-001',\n",
       " 'storageAccount': '/subscriptions/50ef5835-c45a-4c2e-a596-2a9e0e2a0a33/resourceGroups/dc-heroes-esml-project001-weu-dev-001-rg/providers/Microsoft.Storage/storageAccounts/saprj001weugderq001dev',\n",
       " 'hbiWorkspace': False,\n",
       " 'provisioningState': 'Succeeded',\n",
       " 'imageBuildCompute': 'p001-m11weu-dev',\n",
       " 'discoveryUrl': 'https://14329cb6-9c78-4714-89e1-5bde1f975f93.workspace.westeurope.api.azureml.ms/discovery/workspaces/14329cb6-9c78-4714-89e1-5bde1f975f93',\n",
       " 'privateEndpointConnections': [{'id': '/subscriptions/50ef5835-c45a-4c2e-a596-2a9e0e2a0a33/resourceGroups/dc-heroes-esml-project001-weu-dev-001-rg/providers/Microsoft.MachineLearningServices/workspaces/aml-prj001-weu-dev-001/privateEndpointConnections/aml-prj001-weu-dev-001.9c7fc1b8-4b70-4993-9c69-02de894fa09f',\n",
       "   'properties': {'provisioning_state': 'Succeeded',\n",
       "    'private_endpoint': {'id': '/subscriptions/50ef5835-c45a-4c2e-a596-2a9e0e2a0a33/resourceGroups/dc-heroes-esml-project001-weu-dev-001-rg/providers/Microsoft.Network/privateEndpoints/pend-prj001-aml-to-vnt-mlcmn'},\n",
       "    'privatelink_service_connection_state': {'status': 'Approved',\n",
       "     'description': 'Auto-Approved',\n",
       "     'actionsRequired': 'None'}}}],\n",
       " 'notebookInfo': {'fqdn': 'ml-aml-prj001-w-westeurope-14329cb6-9c78-4714-89e1-5bde1f975f93.westeurope.notebooks.azure.net',\n",
       "  'resource_id': 'b5f1067af16b4790bc3ab2dcfd6cb8d5'},\n",
       " 'v1LegacyMode': True}"
      ]
     },
     "execution_count": 2,
     "metadata": {},
     "output_type": "execute_result"
    }
   ],
   "source": [
    "print(\"NB! The below command you only need to run 1 time a day - then you can disable this cell. comment the code lines\")\n",
    "print(\"\")\n",
    "p.ws.update(v1_legacy_mode=True)"
   ]
  },
  {
   "cell_type": "markdown",
   "metadata": {},
   "source": [
    "### Below is optional - if you want to start over / clean your DATA sets registry"
   ]
  },
  {
   "cell_type": "code",
   "execution_count": null,
   "metadata": {},
   "outputs": [],
   "source": [
    "unregister_all_datasets=False\n",
    "if(unregister_all_datasets):\n",
    "    p.unregister_all_datasets(p.ws) # For DEMO purpose"
   ]
  },
  {
   "cell_type": "markdown",
   "metadata": {},
   "source": [
    "## 2) CUSTOMIZE - FEATURE ENGINEERING (classification or regression)"
   ]
  },
  {
   "cell_type": "markdown",
   "metadata": {},
   "source": [
    "### 2a) DEMO feature engineering: Models M10, M11"
   ]
  },
  {
   "cell_type": "code",
   "execution_count": 2,
   "metadata": {},
   "outputs": [],
   "source": [
    "def feature_engieering_regression_m11():\n",
    "    # Feture engineering: Bronze 2 Gold - working with Azure ML Datasets with Bronze, Silver, Gold concept\n",
    "    esml_dataset = p.DatasetByName(\"ds01_diabetes\") # Get dataset\n",
    "    df_bronze = esml_dataset.Bronze.to_pandas_dataframe()\n",
    "    p.save_silver(esml_dataset,df_bronze)  #Bronze -> Silver: ESML saves and registers as Azure ML Datasets.\n",
    "\n",
    "    esml_dataset2 = p.DatasetByName(\"ds02_other\") # Get dataset\n",
    "    df_bronze2 = esml_dataset2.Bronze.to_pandas_dataframe()\n",
    "    p.save_silver(esml_dataset2,df_bronze2)  #Bronze -> Silver: ESML saves and registers as Azure ML Datasets.\n",
    "\n",
    "    df = esml_dataset.Silver.to_pandas_dataframe() \n",
    "    df_filtered = df[df.AGE > 0.015] \n",
    "    gold = p.save_gold(df_filtered)  # Silver -> Gold: ESML saves and registers as Azure ML Datasets.\n",
    "    return gold\n",
    "\n",
    "def feature_engieering_classification_m10():\n",
    "    # R&D purpose: Try some data wrangling here...we will later incorporate this in an Azure ML Pipeline, as \"steps\"\n",
    "    esml_dataset = p.DatasetByName(\"ds01_titanic\") \n",
    "    df_bronze = esml_dataset.Bronze.to_pandas_dataframe()\n",
    "    df_bronze.columns = df_bronze.columns.str.replace(\"[/]\", \"_\") # Rename werid column names\n",
    "\n",
    "    silver_aml_dataset = p.save_silver(esml_dataset,df_bronze) #Bronze -> Silver: ESML saves and registers as Azure ML Datasets. (esml_dataset.Silver == silver_aml_dataset)\n",
    "\n",
    "    esml_dataset2 = p.DatasetByName(\"ds02_haircolor\")\n",
    "    esml_dataset3 = p.DatasetByName(\"ds03_housing\")\n",
    "    esml_dataset4 = p.DatasetByName(\"ds04_lightsaber\")\n",
    "\n",
    "    p.save_silver(esml_dataset2,esml_dataset2.Bronze.to_pandas_dataframe()) #Bronze -> Silver: ESML saves and registers as Azure ML Datasets.\n",
    "    p.save_silver(esml_dataset3,esml_dataset3.Bronze.to_pandas_dataframe()) #Bronze -> Silver:ESML saves and registers as Azure ML Datasets.\n",
    "    p.save_silver(esml_dataset4,esml_dataset4.Bronze.to_pandas_dataframe()) #Bronze -> Silver:ESML saves and registers as Azure ML Datasets.\n",
    "\n",
    "    gold_aml_dataset = p.save_gold(esml_dataset.Silver.to_pandas_dataframe())  #Silver -> Gold: ESML saves and registers as Azure ML Datasets.\n",
    "    return gold_aml_dataset # p.Gold"
   ]
  },
  {
   "cell_type": "markdown",
   "metadata": {},
   "source": [
    "### About: YOUR feature engineering: Models M01, M02, ...\n",
    "- Note: When you are happy with the code in CURRENT notebook, and are going to PRODUCTION PHASE [2_PRODUCTION_phase_TRAIN_Pipeline_M10_M11.ipynb](./1_quickstart/2_PRODUCTION_phase_TRAIN_Pipeline_M10_M11.ipynb), then just copy and paste this code into a `your_custom_code.py` which resides in the pipeline SNAPSHOT FOLDER `M01` code that will run in the PIPELINE\n",
    "    - Example of location of file, in pipeline snapshot folder: 01_pipelines\\batch\\\\`M11`\\\\your_code\\your_custom_code.py\n",
    "    - The code in this cell below, you can add as static methods to a CLASS in the `your_custom_code.py` after you have genereated the snapshot folder.\n",
    "    - Q: How to generate snapshot folder? I cannot see  `01_pipelines\\batch\\\\`M11`\\\\your_code\\your_custom_code.py`\n",
    "        - A: See notebook [2_PRODUCTION_phase_TRAIN_Pipeline_M10_M11.ipynb](./1_quickstart/2_PRODUCTION_phase_TRAIN_Pipeline_M10_M11.ipynb)\n",
    "\n",
    "...but lets leave all that for later, lets get back to THIS notebook, and the R&D phase, where it is easier to just have the code in a cell, a below."
   ]
  },
  {
   "cell_type": "markdown",
   "metadata": {},
   "source": [
    "# 2b) TODO 4 YOU: CUSTOMIZE - Your feature engineering\n",
    "<a id='2b_your_feature_engineering'></a>\n",
    "- See  [lake_settings.json](./settings/project_specific/model/lake_settings.json) to find YOUR dataset names in the `dataset_folder_names` array\n",
    "    - Example: `dataset_folder_names: [\"ds01_titanic\",\"ds02_haircolor\",\"ds03_housing\",\"ds04_lightsaber\"]`"
   ]
  },
  {
   "cell_type": "code",
   "execution_count": 3,
   "metadata": {},
   "outputs": [
    {
     "name": "stdout",
     "output_type": "stream",
     "text": [
      "Label is: Y\n",
      "ml_type / task is: regression\n",
      "dataset_folder_names are: ['ds01_diabetes', 'ds02_other']\n"
     ]
    }
   ],
   "source": [
    "print('Label is: {}'.format(p.active_model[\"label\"]))\n",
    "print('ml_type / task is: {}'.format(p.active_model[\"ml_type\"]))\n",
    "print('dataset_folder_names are: {}'.format(p.active_model[\"dataset_folder_names\"]))"
   ]
  },
  {
   "cell_type": "code",
   "execution_count": 4,
   "metadata": {},
   "outputs": [],
   "source": [
    "#ESML INFO: You are now in R&D phase / notbook. When in PRODUCITON phase/notebook - copy the code/methods below as a clas in 'your_custom_code.py', in your models snapshot folder.\n",
    "def ds01_process_in2silver(df_bronze):\n",
    "    df_silver = df_bronze\n",
    "\n",
    "    # TODO: Customize this logic, to target YOUR model    \n",
    "    df_silver.columns = df_silver.columns.str.replace(\"[/]\", \"_\") # Rename werid column names.\n",
    "    # ...\n",
    "    # ...\n",
    "    return df_silver\n",
    "\n",
    "def ds02_process_in2silver(df_2_bronze = None):\n",
    "    df2_silver = df_2_bronze\n",
    "    # TODO: Customize this logic, to target YOUR model\n",
    "    return df2_silver # Optional, you can have 1 dataset, or 50...\n",
    "\n",
    "def merge_silvers_2_gold(df_silver, df2_silver = None):\n",
    "    df_gold_state = None\n",
    "    if (df2_silver is not None):# merge multiple datasets?\n",
    "        #df_gold_state = pd.merge(df_silver, df2_silver, left_on='Xyz', right_on='Zxy') # TODO: Customize this logic, to target YOUR model\n",
    "        df_gold_state = df_silver\n",
    "    else: # just save the 1 silver, as gold, since only 1 dataset exists\n",
    "        df_gold_state = df_silver\n",
    "    return df_gold_state\n",
    "\n",
    "def your_feature_engieering():\n",
    "\n",
    "    # 1) Fetch 1-M datasets\n",
    "    ds01_name = p.active_model[\"dataset_folder_names\"][0]\n",
    "    esml_dataset = p.DatasetByName(ds01_name) # Edit in lake_settings.json - print(p.active_model[\"dataset_folder_names\"])\n",
    "    esml_dataset2 = None\n",
    "\n",
    "    try:\n",
    "        ds02_name = p.active_model[\"dataset_folder_names\"][1]\n",
    "        esml_dataset2 = p.DatasetByName(ds02_name)\n",
    "    except:\n",
    "        print(\"Seems like you don't have anymore datasets, only 1.\")\n",
    "    \n",
    "    # 2) Do some feature engineering & save BRONZE-> SILVER\n",
    "    df_bronze = esml_dataset.Bronze.to_pandas_dataframe()\n",
    "    df_silver_state = ds01_process_in2silver(df_bronze)\n",
    "    aml_dataset_silver = p.save_silver(esml_dataset,df_silver_state) # ESML saves and registers as Azure ML Datasets. Do not do this in PRODUCTION PHASE (your_custom_code.py) since pipeline will do this for you. just return the PANDAS dataframe gold_state\n",
    "\n",
    "    df_silver = esml_dataset.Silver.to_pandas_dataframe() #  'aml_dataset_silver.to_pandas_dataframe()' would be same thing as 'esml_dataset.Silver.to_pandas_dataframe()'\n",
    "    df2_silver = None\n",
    "    if (esml_dataset2 is not None):# multiple datasets?\n",
    "        df2_bronze = esml_dataset2.Bronze.to_pandas_dataframe()\n",
    "        df2_silver_state = ds02_process_in2silver(df2_bronze)\n",
    "        aml_dataset2_silver = p.save_silver(esml_dataset2,df2_silver_state) # ESML saves and registers as Azure ML Datasets. Do not do this in PRODUCTION PHASE (your_custom_code.py) since pipeline will do this for you\n",
    "        df2_silver = aml_dataset2_silver.to_pandas_dataframe() #  'aml_dataset_silver.to_pandas_dataframe()' would be same thing as 'esml_dataset.Silver.to_pandas_dataframe()'\n",
    "            \n",
    "    # 3) Merge SILVER datasets to GOLD\n",
    "    df_gold_state = merge_silvers_2_gold(df_silver,df2_silver)\n",
    "    \n",
    "    gold = p.save_gold(df_gold_state)  # ESML saves and registers as Azure ML Datasets.  Do not do this in PRODUCTION PHASE (your_custom_code.py), just return the PANDAS dataframe gold_state\n",
    "    return gold\n",
    "    "
   ]
  },
  {
   "cell_type": "markdown",
   "metadata": {},
   "source": [
    "# CUSTOMIZE ------ END"
   ]
  },
  {
   "cell_type": "markdown",
   "metadata": {},
   "source": [
    "## Connect to DATALAKE, call FEATURE ENGINEERING\n",
    "- DEMO logic: If not the first time, then just CONNECT to lake. If first time, then also call feature engineering"
   ]
  },
  {
   "cell_type": "code",
   "execution_count": 5,
   "metadata": {},
   "outputs": [
    {
     "data": {
      "text/plain": [
       "{'model_number': 11,\n",
       " 'model_folder_name': '11_diabetes_model_reg',\n",
       " 'model_short_alias': 'M11',\n",
       " 'dataset_folder_names': ['ds01_diabetes', 'ds02_other'],\n",
       " 'label': 'Y',\n",
       " 'ml_type': 'regression',\n",
       " 'ml_metric': 'normalized_mean_absolute_error',\n",
       " 'ml_time_out_score': 0.3}"
      ]
     },
     "execution_count": 5,
     "metadata": {},
     "output_type": "execute_result"
    }
   ],
   "source": [
    "p.active_model"
   ]
  },
  {
   "cell_type": "code",
   "execution_count": 6,
   "metadata": {},
   "outputs": [
    {
     "name": "stdout",
     "output_type": "stream",
     "text": [
      "Using GEN2 as Datastore\n",
      "use_project_sp_2_mount: True\n",
      "Searching for setting in ESML datalake...\n",
      "ESML in-folder settings override = TRUE \n",
      " - Found settings in the ESML AutoLake  [active_in_folder.json,active_scoring_in_folder.json], to override ArgParse/GIT config with.\n",
      " - TRAIN in date:  1000/01/01\n",
      " - INFERENCE in date: 1000/01/01 and ModelVersion to score with: 0 (0=latest)\n",
      "\n",
      "Inference mode (False = Training mode): False\n",
      "Load data as Datasets....\n",
      "ds01_diabetes\n",
      "ds02_other\n",
      "\n",
      "####### Automap & Autoregister - SUCCESS!\n",
      "1) Auto mapped 2 ESML Dataset with registered Azure ML Datasets (potentially all 3: IN,BRONZE, SILVER) in Datastore esmlprojectstore \n",
      "\n",
      "Dataset 'ds01_diabetes' status:\n",
      " - IN_Folder_has_files\n",
      " - BRONZE_Folder_has_files\n",
      " - SILVER_Folder_has_files\n",
      "Dataset 'ds02_other' status:\n",
      " - IN_Folder_has_files\n",
      " - BRONZE_Folder_has_files\n",
      " - SILVER_Folder_has_files\n",
      "\n",
      "2) Registered each Dataset with suffixes (_IN, _BRONZE, _SILVER) \n",
      " Tip: Use ESMLProject.Datasets list or .DatasetByName(myDatasetName) to read/write\n",
      "#######\n"
     ]
    }
   ],
   "source": [
    "datastore = None\n",
    "always_run_feature_engineering = True\n",
    "\n",
    "model_number = p.active_model[\"model_number\"]\n",
    "\n",
    "if(always_run_feature_engineering):\n",
    "    datastore = p.init() # 3) Automapping from datalake to Azure ML datasets\n",
    "    if (p.active_model[\"model_number\"] == 10):\n",
    "        gold_aml_dataset = feature_engieering_classification_m10()\n",
    "    elif (p.active_model[\"model_number\"] == 11):\n",
    "        gold_aml_dataset = feature_engieering_regression_m11()\n",
    "    elif((model_number > 0) and (model_number < 10)):\n",
    "        gold_aml_dataset = your_feature_engieering()\n",
    "else: # Only run feature engineering,1st time e.g. if data is splitted to GoldTrain\n",
    "    try:\n",
    "        datastore = p.connect_to_lake() # Connects to the correct ALDS GEN 2 storage account (DEV, TEST or PROD)\n",
    "        gold_train = p.GoldTrain\n",
    "        gold_train.name\n",
    "        print(\"Not 1st time. We have data mapped already...and splitted. Now connected to LAKE\")\n",
    "    except: # If 1st time....no Gold exists, nor any mapping\n",
    "        print(\"1st time. Lets init, map what data we have in LAKE, as Azure ML Datasets\")\n",
    "        datastore = p.init() # 3) Automapping from datalake to Azure ML datasets\n",
    "        if (p.active_model[\"model_number\"] == 10):\n",
    "            gold_aml_dataset = feature_engieering_classification_m10()\n",
    "        elif (p.active_model[\"model_number\"] == 11):\n",
    "            gold_aml_dataset = feature_engieering_regression_m11()\n",
    "        elif((model_number > 0) and (model_number < 10)): # TODO: Customize this logic, to target YOUR model\n",
    "            gold_aml_dataset = your_feature_engieering()  # TODO: Customize this logic, to target YOUR models feature engineering"
   ]
  },
  {
   "cell_type": "code",
   "execution_count": 7,
   "metadata": {},
   "outputs": [
    {
     "data": {
      "text/html": [
       "<div>\n",
       "<style scoped>\n",
       "    .dataframe tbody tr th:only-of-type {\n",
       "        vertical-align: middle;\n",
       "    }\n",
       "\n",
       "    .dataframe tbody tr th {\n",
       "        vertical-align: top;\n",
       "    }\n",
       "\n",
       "    .dataframe thead th {\n",
       "        text-align: right;\n",
       "    }\n",
       "</style>\n",
       "<table border=\"1\" class=\"dataframe\">\n",
       "  <thead>\n",
       "    <tr style=\"text-align: right;\">\n",
       "      <th></th>\n",
       "      <th>AGE</th>\n",
       "      <th>SEX</th>\n",
       "      <th>BMI</th>\n",
       "      <th>BP</th>\n",
       "      <th>S1</th>\n",
       "      <th>S2</th>\n",
       "      <th>S3</th>\n",
       "      <th>S4</th>\n",
       "      <th>S5</th>\n",
       "      <th>S6</th>\n",
       "      <th>Y</th>\n",
       "    </tr>\n",
       "  </thead>\n",
       "  <tbody>\n",
       "    <tr>\n",
       "      <th>0</th>\n",
       "      <td>0.038076</td>\n",
       "      <td>0.05068</td>\n",
       "      <td>0.061696</td>\n",
       "      <td>0.021872</td>\n",
       "      <td>-0.044223</td>\n",
       "      <td>-0.034821</td>\n",
       "      <td>-0.043401</td>\n",
       "      <td>-0.002592</td>\n",
       "      <td>0.019908</td>\n",
       "      <td>-0.017646</td>\n",
       "      <td>151.0</td>\n",
       "    </tr>\n",
       "    <tr>\n",
       "      <th>1</th>\n",
       "      <td>0.085299</td>\n",
       "      <td>0.05068</td>\n",
       "      <td>0.044451</td>\n",
       "      <td>-0.005671</td>\n",
       "      <td>-0.045599</td>\n",
       "      <td>-0.034194</td>\n",
       "      <td>-0.032356</td>\n",
       "      <td>-0.002592</td>\n",
       "      <td>0.002864</td>\n",
       "      <td>-0.025930</td>\n",
       "      <td>141.0</td>\n",
       "    </tr>\n",
       "    <tr>\n",
       "      <th>2</th>\n",
       "      <td>0.063504</td>\n",
       "      <td>0.05068</td>\n",
       "      <td>-0.001895</td>\n",
       "      <td>0.066630</td>\n",
       "      <td>0.090620</td>\n",
       "      <td>0.108914</td>\n",
       "      <td>0.022869</td>\n",
       "      <td>0.017703</td>\n",
       "      <td>-0.035817</td>\n",
       "      <td>0.003064</td>\n",
       "      <td>63.0</td>\n",
       "    </tr>\n",
       "    <tr>\n",
       "      <th>3</th>\n",
       "      <td>0.041708</td>\n",
       "      <td>0.05068</td>\n",
       "      <td>0.061696</td>\n",
       "      <td>-0.040099</td>\n",
       "      <td>-0.013953</td>\n",
       "      <td>0.006202</td>\n",
       "      <td>-0.028674</td>\n",
       "      <td>-0.002592</td>\n",
       "      <td>-0.014956</td>\n",
       "      <td>0.011349</td>\n",
       "      <td>110.0</td>\n",
       "    </tr>\n",
       "    <tr>\n",
       "      <th>4</th>\n",
       "      <td>0.027178</td>\n",
       "      <td>0.05068</td>\n",
       "      <td>0.017506</td>\n",
       "      <td>-0.033214</td>\n",
       "      <td>-0.007073</td>\n",
       "      <td>0.045972</td>\n",
       "      <td>-0.065491</td>\n",
       "      <td>0.071210</td>\n",
       "      <td>-0.096433</td>\n",
       "      <td>-0.059067</td>\n",
       "      <td>69.0</td>\n",
       "    </tr>\n",
       "  </tbody>\n",
       "</table>\n",
       "</div>"
      ],
      "text/plain": [
       "        AGE      SEX       BMI        BP        S1        S2        S3  \\\n",
       "0  0.038076  0.05068  0.061696  0.021872 -0.044223 -0.034821 -0.043401   \n",
       "1  0.085299  0.05068  0.044451 -0.005671 -0.045599 -0.034194 -0.032356   \n",
       "2  0.063504  0.05068 -0.001895  0.066630  0.090620  0.108914  0.022869   \n",
       "3  0.041708  0.05068  0.061696 -0.040099 -0.013953  0.006202 -0.028674   \n",
       "4  0.027178  0.05068  0.017506 -0.033214 -0.007073  0.045972 -0.065491   \n",
       "\n",
       "         S4        S5        S6      Y  \n",
       "0 -0.002592  0.019908 -0.017646  151.0  \n",
       "1 -0.002592  0.002864 -0.025930  141.0  \n",
       "2  0.017703 -0.035817  0.003064   63.0  \n",
       "3 -0.002592 -0.014956  0.011349  110.0  \n",
       "4  0.071210 -0.096433 -0.059067   69.0  "
      ]
     },
     "execution_count": 7,
     "metadata": {},
     "output_type": "execute_result"
    }
   ],
   "source": [
    "p.Gold.to_pandas_dataframe().head()"
   ]
  },
  {
   "attachments": {},
   "cell_type": "markdown",
   "metadata": {},
   "source": [
    "## SUMMARY - step 1, 2\n",
    "- ESML has now `Automap` and `Autoregister` Azure ML Datasets as: `IN, SILVER, BRONZE, GOLD`\n",
    "- ESML has read configuration for correct environment (DEV, TEST, PROD). \n",
    "    - Both small customers, and large Enterprise customers often wants:  DEV, TEST, PROD in `diffferent Azure ML workspaces` (and different subscriptions)\n",
    "- User has done feature engineering, and saved GOLD `p.save_gold`"
   ]
  },
  {
   "cell_type": "code",
   "execution_count": 8,
   "metadata": {},
   "outputs": [
    {
     "name": "stdout",
     "output_type": "stream",
     "text": [
      "rows in GOLD 185\n"
     ]
    }
   ],
   "source": [
    "print(\"rows in GOLD {}\".format(p.Gold.to_pandas_dataframe().shape[0]))"
   ]
  },
  {
   "cell_type": "markdown",
   "metadata": {},
   "source": [
    "### SPLIT option A) ESML default split logic, which you can override"
   ]
  },
  {
   "cell_type": "code",
   "execution_count": 9,
   "metadata": {},
   "outputs": [
    {
     "name": "stdout",
     "output_type": "stream",
     "text": [
      "...\n"
     ]
    }
   ],
   "source": [
    "M10_GOLD_TRAIN, M10_GOLD_VALIDATE, M10_GOLD_TEST = p.split_gold_3(0.6,label=p.active_model[\"label\"],stratified=False) # Splits and Auto-registers as AZUREM ML Datasets"
   ]
  },
  {
   "cell_type": "markdown",
   "metadata": {},
   "source": [
    "### SPLIT option B) Use YOUR split logic, override the default\n",
    "- You need to create your own class (ESMLSplitter is just an example class) such as MySplitter(IESMLSplitter)"
   ]
  },
  {
   "cell_type": "code",
   "execution_count": 10,
   "metadata": {},
   "outputs": [
    {
     "name": "stdout",
     "output_type": "stream",
     "text": [
      "...\n"
     ]
    }
   ],
   "source": [
    "import sys\n",
    "sys.path.insert(0, \"../azure-enterprise-scale-ml/\")\n",
    "\n",
    "from esmlrt.interfaces.iESMLSplitter import IESMLSplitter # Just for reference to see where the abstract class exists\n",
    "from esmlrt.runtime.ESMLSplitter import ESMLSplitter1 # Point at your own code/class here instead..that needst to implement the IESMLSplitter class\n",
    "\n",
    "my_IESMLSplitter = ESMLSplitter1()\n",
    "M10_GOLD_TRAIN, M10_GOLD_VALIDATE, M10_GOLD_TEST = p.split_gold_3(train_percentage=0.6,label=p.active_model[\"label\"],stratified=False,override_with_custom_iESMLSplitter=my_IESMLSplitter) # Splits and Auto-registers as AZUREM ML Datasets"
   ]
  },
  {
   "cell_type": "markdown",
   "metadata": {},
   "source": [
    "# IN_2_GOLD\n",
    "- If just wanting to refine data to GOLD, for a Power BI report (No ML involved)\n",
    "- Scenario: You want to refine data from \"IN_2_GOLD\" with an easy way to READ/WRITE data (using the enterprise datalake via ESML AutoLake and ESML SDK)"
   ]
  },
  {
   "cell_type": "code",
   "execution_count": 11,
   "metadata": {},
   "outputs": [
    {
     "data": {
      "text/html": [
       "<div>\n",
       "<style scoped>\n",
       "    .dataframe tbody tr th:only-of-type {\n",
       "        vertical-align: middle;\n",
       "    }\n",
       "\n",
       "    .dataframe tbody tr th {\n",
       "        vertical-align: top;\n",
       "    }\n",
       "\n",
       "    .dataframe thead th {\n",
       "        text-align: right;\n",
       "    }\n",
       "</style>\n",
       "<table border=\"1\" class=\"dataframe\">\n",
       "  <thead>\n",
       "    <tr style=\"text-align: right;\">\n",
       "      <th></th>\n",
       "      <th>AGE</th>\n",
       "      <th>SEX</th>\n",
       "      <th>BMI</th>\n",
       "      <th>BP</th>\n",
       "      <th>S1</th>\n",
       "      <th>S2</th>\n",
       "      <th>S3</th>\n",
       "      <th>S4</th>\n",
       "      <th>S5</th>\n",
       "      <th>S6</th>\n",
       "      <th>Y</th>\n",
       "    </tr>\n",
       "  </thead>\n",
       "  <tbody>\n",
       "    <tr>\n",
       "      <th>0</th>\n",
       "      <td>0.034443</td>\n",
       "      <td>-0.044642</td>\n",
       "      <td>-0.007284</td>\n",
       "      <td>0.014987</td>\n",
       "      <td>-0.044223</td>\n",
       "      <td>-0.037326</td>\n",
       "      <td>-0.002903</td>\n",
       "      <td>-0.039493</td>\n",
       "      <td>-0.021394</td>\n",
       "      <td>0.007207</td>\n",
       "      <td>155.0</td>\n",
       "    </tr>\n",
       "    <tr>\n",
       "      <th>1</th>\n",
       "      <td>0.019913</td>\n",
       "      <td>0.050680</td>\n",
       "      <td>0.014272</td>\n",
       "      <td>0.063187</td>\n",
       "      <td>0.014942</td>\n",
       "      <td>0.020293</td>\n",
       "      <td>-0.047082</td>\n",
       "      <td>0.034309</td>\n",
       "      <td>0.046661</td>\n",
       "      <td>0.090049</td>\n",
       "      <td>297.0</td>\n",
       "    </tr>\n",
       "    <tr>\n",
       "      <th>2</th>\n",
       "      <td>0.019913</td>\n",
       "      <td>-0.044642</td>\n",
       "      <td>-0.057941</td>\n",
       "      <td>-0.057314</td>\n",
       "      <td>-0.001569</td>\n",
       "      <td>-0.012587</td>\n",
       "      <td>0.074412</td>\n",
       "      <td>-0.039493</td>\n",
       "      <td>-0.061177</td>\n",
       "      <td>-0.075636</td>\n",
       "      <td>63.0</td>\n",
       "    </tr>\n",
       "    <tr>\n",
       "      <th>3</th>\n",
       "      <td>0.074401</td>\n",
       "      <td>0.050680</td>\n",
       "      <td>-0.020218</td>\n",
       "      <td>0.045972</td>\n",
       "      <td>0.074108</td>\n",
       "      <td>0.032819</td>\n",
       "      <td>-0.036038</td>\n",
       "      <td>0.071210</td>\n",
       "      <td>0.106354</td>\n",
       "      <td>0.036201</td>\n",
       "      <td>241.0</td>\n",
       "    </tr>\n",
       "    <tr>\n",
       "      <th>4</th>\n",
       "      <td>0.081666</td>\n",
       "      <td>0.050680</td>\n",
       "      <td>-0.002973</td>\n",
       "      <td>-0.033214</td>\n",
       "      <td>0.042462</td>\n",
       "      <td>0.057871</td>\n",
       "      <td>-0.010266</td>\n",
       "      <td>0.034309</td>\n",
       "      <td>-0.000609</td>\n",
       "      <td>-0.001078</td>\n",
       "      <td>139.0</td>\n",
       "    </tr>\n",
       "  </tbody>\n",
       "</table>\n",
       "</div>"
      ],
      "text/plain": [
       "        AGE       SEX       BMI        BP        S1        S2        S3  \\\n",
       "0  0.034443 -0.044642 -0.007284  0.014987 -0.044223 -0.037326 -0.002903   \n",
       "1  0.019913  0.050680  0.014272  0.063187  0.014942  0.020293 -0.047082   \n",
       "2  0.019913 -0.044642 -0.057941 -0.057314 -0.001569 -0.012587  0.074412   \n",
       "3  0.074401  0.050680 -0.020218  0.045972  0.074108  0.032819 -0.036038   \n",
       "4  0.081666  0.050680 -0.002973 -0.033214  0.042462  0.057871 -0.010266   \n",
       "\n",
       "         S4        S5        S6      Y  \n",
       "0 -0.039493 -0.021394  0.007207  155.0  \n",
       "1  0.034309  0.046661  0.090049  297.0  \n",
       "2 -0.039493 -0.061177 -0.075636   63.0  \n",
       "3  0.071210  0.106354  0.036201  241.0  \n",
       "4  0.034309 -0.000609 -0.001078  139.0  "
      ]
     },
     "execution_count": 11,
     "metadata": {},
     "output_type": "execute_result"
    }
   ],
   "source": [
    "p.GoldTrain.to_pandas_dataframe().head()  # Azure ML Dataset"
   ]
  },
  {
   "attachments": {},
   "cell_type": "markdown",
   "metadata": {},
   "source": [
    "# 3) `ESML` Train model in `5 codelines`"
   ]
  },
  {
   "cell_type": "code",
   "execution_count": 12,
   "metadata": {},
   "outputs": [
    {
     "name": "stdout",
     "output_type": "stream",
     "text": [
      "We are in environment dev\n",
      "Loading AutoML config settings from: dev\n"
     ]
    },
    {
     "data": {
      "text/plain": [
       "{'enable_voting_ensemble': True,\n",
       " 'enable_stack_ensemble': False,\n",
       " 'model_explainability': True,\n",
       " 'experiment_timeout_hours': 0.75,\n",
       " 'iteration_timeout_minutes': 5,\n",
       " 'n_cross_validations': 3,\n",
       " 'enable_early_stopping': False,\n",
       " 'iterations': 100,\n",
       " 'max_cores_per_iteration': -1,\n",
       " 'allowed_models': ['LightGBM', 'DecisionTree', 'ExtremeRandomTrees', 'KNN'],\n",
       " 'path': '.',\n",
       " 'debug_log': 'azure_automl_debug_dev.log'}"
      ]
     },
     "execution_count": 12,
     "metadata": {},
     "output_type": "execute_result"
    }
   ],
   "source": [
    "print(\"We are in environment {}\".format(p.dev_test_prod))\n",
    "# Lets look at our AutoML performance settings:\n",
    "automl_performance_config = p.get_automl_performance_config() # 1)Get config, for active environment (dev,test or prod)\n",
    "automl_performance_config"
   ]
  },
  {
   "cell_type": "markdown",
   "metadata": {},
   "source": [
    "Lets look at our label, and our machine learning task type:"
   ]
  },
  {
   "cell_type": "code",
   "execution_count": 13,
   "metadata": {},
   "outputs": [
    {
     "name": "stdout",
     "output_type": "stream",
     "text": [
      "Label is: Y\n",
      "ml_type / task is: regression\n",
      "dataset_folder_names are: ['ds01_diabetes', 'ds02_other']\n"
     ]
    }
   ],
   "source": [
    "print('Label is: {}'.format(p.active_model[\"label\"]))\n",
    "print('ml_type / task is: {}'.format(p.active_model[\"ml_type\"]))\n",
    "print('dataset_folder_names are: {}'.format(p.active_model[\"dataset_folder_names\"]))"
   ]
  },
  {
   "cell_type": "markdown",
   "metadata": {},
   "source": [
    "### Lets TRAIN with AutoML & Azure compute cluster (M11 demo takes ~ 10-15min)"
   ]
  },
  {
   "cell_type": "code",
   "execution_count": 14,
   "metadata": {},
   "outputs": [
    {
     "name": "stdout",
     "output_type": "stream",
     "text": [
      "Loading AutoML config settings from: dev\n",
      "Note: OVERRIDING enterprise performance settings with project specifics. (to change, set flag in 'dev_test_prod_settings.json' -> override_enterprise_settings_with_model_specific=False)\n",
      "Using a model specific cluster, per configuration in project specific settings, (the integer of 'model_number' is the base for the name)\n",
      "Note: OVERRIDING enterprise performance settings with project specifics. (to change, set flag in 'dev_test_prod_settings.json' -> override_enterprise_settings_with_model_specific=False)\n",
      "Creating new cluster - p001-m11weu-dev\n",
      "InProgress..\n",
      "SucceededProvisioning operation finished, operation \"Succeeded\"\n",
      "Succeeded\n",
      "AmlCompute wait for completion finished\n",
      "\n",
      "Minimum number of nodes requested have been provisioned\n",
      "image_build_compute = p001-m11weu-dev\n",
      "Experiment name: 11_diabetes_model_reg\n",
      "Azure ML Studio Workspace: aml-prj001-weu-DEV-001\n",
      "Start training run...\n",
      "Submitting remote run.\n",
      "No run_configuration provided, running on p001-m11weu-dev with default configuration\n",
      "Running on remote compute: p001-m11weu-dev\n"
     ]
    },
    {
     "data": {
      "text/html": [
       "<table style=\"width:100%\"><tr><th>Experiment</th><th>Id</th><th>Type</th><th>Status</th><th>Details Page</th><th>Docs Page</th></tr><tr><td>11_diabetes_model_reg</td><td>AutoML_03534c53-e646-4372-8132-75e45d2fcaba</td><td>automl</td><td>NotStarted</td><td><a href=\"https://ml.azure.com/runs/AutoML_03534c53-e646-4372-8132-75e45d2fcaba?wsid=/subscriptions/50ef5835-c45a-4c2e-a596-2a9e0e2a0a33/resourcegroups/dc-heroes-esml-project001-weu-DEV-001-rg/workspaces/aml-prj001-weu-DEV-001&amp;tid=846f02b7-f92a-4053-9a99-094e5ba2e1a4\" target=\"_blank\" rel=\"noopener\">Link to Azure Machine Learning studio</a></td><td><a href=\"https://docs.microsoft.com/en-us/python/api/overview/azure/ml/intro?view=azure-ml-py\" target=\"_blank\" rel=\"noopener\">Link to Documentation</a></td></tr></table>"
      ],
      "text/plain": [
       "<IPython.core.display.HTML object>"
      ]
     },
     "metadata": {},
     "output_type": "display_data"
    },
    {
     "name": "stdout",
     "output_type": "stream",
     "text": [
      "\n",
      "Current status: FeaturesGeneration. Generating features for the dataset.\n",
      "Current status: ModelSelection. Beginning model selection.\n",
      "\n",
      "********************************************************************************************\n",
      "DATA GUARDRAILS: \n",
      "\n",
      "TYPE:         Missing feature values imputation\n",
      "STATUS:       PASSED\n",
      "DESCRIPTION:  No feature missing values were detected in the training data.\n",
      "              Learn more about missing value imputation: https://aka.ms/AutomatedMLFeaturization\n",
      "\n",
      "********************************************************************************************\n",
      "\n",
      "TYPE:         High cardinality feature detection\n",
      "STATUS:       PASSED\n",
      "DESCRIPTION:  Your inputs were analyzed, and no high cardinality features were detected.\n",
      "              Learn more about high cardinality feature handling: https://aka.ms/AutomatedMLFeaturization\n",
      "\n",
      "********************************************************************************************\n",
      "\n",
      "********************************************************************************************\n",
      "ITER: The iteration being evaluated.\n",
      "PIPELINE: A summary description of the pipeline being evaluated.\n",
      "DURATION: Time taken for the current iteration.\n",
      "METRIC: The result of computing score on the fitted pipeline.\n",
      "BEST: The best observed score thus far.\n",
      "********************************************************************************************\n",
      "\n",
      " ITER   PIPELINE                                       DURATION            METRIC      BEST\n",
      "    0   MaxAbsScaler LightGBM                          0:00:16             0.1641    0.1641\n",
      "    1   RobustScaler DecisionTree                      0:00:01                nan    0.1641\n",
      "    2                                                  0:00:41                nan    0.1641\n",
      "    3                                                  0:00:41                nan    0.1641\n",
      "    4                                                  0:00:40                nan    0.1641\n",
      "    5                                                  0:00:40                nan    0.1641\n",
      "    6                                                  0:00:39                nan    0.1641\n",
      "    7                                                  0:00:38                nan    0.1641\n",
      "    8                                                  0:00:37                nan    0.1641\n",
      "    9                                                  0:00:37                nan    0.1641\n",
      "   10                                                  0:00:36                nan    0.1641\n",
      "   11                                                  0:00:36                nan    0.1641\n",
      "   12                                                  0:00:35                nan    0.1641\n",
      "   13                                                  0:00:34                nan    0.1641\n",
      "   14                                                  0:00:34                nan    0.1641\n",
      "   15                                                  0:00:33                nan    0.1641\n",
      "   16                                                  0:00:32                nan    0.1641\n",
      "   17                                                  0:00:32                nan    0.1641\n",
      "   18                                                  0:00:31                nan    0.1641\n",
      "   19                                                  0:00:30                nan    0.1641\n",
      "Run(Experiment: 11_diabetes_model_reg,\n",
      "Id: AutoML_03534c53-e646-4372-8132-75e45d2fcaba_0,\n",
      "Type: None,\n",
      "Status: Completed)\n",
      "RegressionPipeline(pipeline=Pipeline(memory=None,\n",
      "                                     steps=[('datatransformer',\n",
      "                                             DataTransformer(enable_dnn=False, enable_feature_sweeping=True, feature_sweeping_config={}, feature_sweeping_timeout=86400, featurization_config=None, force_text_dnn=False, is_cross_validation=True, is_onnx_compatible=False, observer=None, task='regression', working_dir='c:\\\\code\\\\esml-aifactory002-prj002\\\\notebook_templates_quickstart')),\n",
      "                                            ('MaxAbsScaler',\n",
      "                                             MaxAbsScaler(copy=True)),\n",
      "                                            ('LightGBMRegressor',\n",
      "                                             LightGBMRegressor(min_data_in_leaf=20, n_jobs=-1, problem_info=ProblemInfo(gpu_training_param_dict={'processing_unit_type': 'cpu'}), random_state=None))],\n",
      "                                     verbose=False),\n",
      "                   stddev=[60.532525276950125])\n",
      "AutoML Model name: AutoML03534c53e0\n"
     ]
    }
   ],
   "source": [
    "from esml import ESMLProject\n",
    "from baselayer_azure_ml import AutoMLFactory,azure_metric_regression,azure_metric_classification\n",
    "from azureml.train.automl import AutoMLConfig\n",
    "\n",
    "automl_performance_config = p.get_automl_performance_config() # 1)Get config, for active environment (dev,test or prod)\n",
    "aml_compute = p.get_training_aml_compute(p.ws) # 2)Get compute, for active environment\n",
    "\n",
    "automl_config = AutoMLConfig(task = p.active_model[\"ml_type\"], # 4) Override the ENV config, for model(that inhertits from enterprise DEV_TEST_PROD config baseline)\n",
    "                            primary_metric = p.active_model[\"ml_metric\"], #  Note: Regression[MAE, RMSE,R2,Spearman] Classification[AUC,Accuracy,Precision,Precision_avg,Recall]\n",
    "                            compute_target = aml_compute,\n",
    "                            training_data = p.GoldTrain, # is 'train_6' pandas dataframe, but as an Azure ML Dataset\n",
    "                            experiment_exit_score = p.active_model[\"ml_time_out_score\"], # DEMO purpose. remove experiment_exit_score if you want to have good accuracy (put a comment # on this row to remove it)\n",
    "                            label_column_name = p.active_model[\"label\"],\n",
    "                            **automl_performance_config\n",
    "                        )\n",
    "\n",
    "best_run, fitted_model, experiment = AutoMLFactory(p).train_as_run(automl_config)"
   ]
  },
  {
   "attachments": {},
   "cell_type": "markdown",
   "metadata": {},
   "source": [
    "## 4) ESML Scoring Drift/Concept Drift: Compare with `1-codeline`: Promote model or not? If better, then `Register model`\n",
    "- `IF` newly trained model in `current` environment (`DEV`, `TEST` or `PROD`) scores BETTER than existing model in `target` environment, then `new model` can be registered and promoted.\n",
    "- Q: Do we have `SCORING DRIFT / CONCEPT DRIFT?`\n",
    "- Q: Is a model trained on NEW data better? IS the one in production degraded? (not fit for the data it scores - real world changed, other CONCEPT)\n",
    "- A: - Lets check. Instead of `DataDrift`, lets look at `actual SCORING` on new data (and/or new code, feature engineering) - See if we should PROMOTE newly trained model..."
   ]
  },
  {
   "cell_type": "code",
   "execution_count": 15,
   "metadata": {},
   "outputs": [
    {
     "name": "stdout",
     "output_type": "stream",
     "text": [
      "current AI Factory environment: 'dev' - AML WS: 'aml-prj001-weu-DEV-001'\n"
     ]
    }
   ],
   "source": [
    "print(\"current AI Factory environment: '{}' - AML WS: '{}'\".format(p.dev_test_prod, p.ws.name))"
   ]
  },
  {
   "attachments": {},
   "cell_type": "markdown",
   "metadata": {},
   "source": [
    "#### Check if we already have a MODEL with a suitable NAME - to gruoup ur runs and model versions under.\n",
    "- Purpose: Gets consitent model name, if many runs"
   ]
  },
  {
   "cell_type": "code",
   "execution_count": 16,
   "metadata": {},
   "outputs": [
    {
     "name": "stdout",
     "output_type": "stream",
     "text": [
      "Searching with Model list LAMBDA FILTER, on experiment_name in Model.tags called: 11_diabetes_model_reg . Meaning ESML checks for both Notebook run (AutoMLRun, Run) and PipelineRuns (AutoMLStep, PipelineRun)\n",
      "E.g. Even if Pipeline experiment is called '11_diabetes_model_reg_IN_2_GOLD_TRAIN' it will be included, since original model_folder_name in ESML is '11_diabetes_model_reg' as a notebook Run experiment name. Both is included in search\n",
      "Filter search, minutes: 0.019215659300486247\n",
      "list index out of range\n",
      "Cannot find tag 'experiment_name' on all models, hence cannot use optimized search, looping manually now...\n",
      "TIME: Model list LOOP filter, on experiment_name\n",
      "Minutes: 0.020968210697174073\n",
      "Could not find tags, run_id or model_name on model_highest_version\n",
      "'NoneType' object has no attribute 'tags'\n",
      "No existing model with experiment name 11_diabetes_model_reg. The Model name will now be same as experiment name\n"
     ]
    }
   ],
   "source": [
    "from esmlrt.interfaces.iESMLController import IESMLController\n",
    "current_model,run_id_tag, model_name = IESMLController.get_best_model_via_modeltags_only_DevTestProd(p.ws,controller.experiment_name)\n",
    "\n",
    "if(current_model is None):\n",
    "    print(\"No existing model with experiment name {}. The Model name will now be same as experiment name\".format(controller.experiment_name))\n",
    "    current_model = None\n",
    "    run_id_tag = \"\"\n",
    "    model_name = controller.experiment_name\n",
    "else:\n",
    "    print(\"Current BEST model is: {} from Model registry with experiment_name-TAG {}, run_id-TAG {}  model_name-TAG {}\".format(current_model.name,controller.experiment_name,run_id_tag,model_name))\n",
    "    if (\"esml_time_updated\" in current_model.tags):\n",
    "        print(\"esml_time_updated: {}\".format(current_model.tags.get(\"esml_time_updated\")))\n",
    "    print(\"status_code : {}\".format(current_model.tags.get(\"status_code\")))\n",
    "    print(\"model_name  : {}\".format(current_model.tags.get(\"model_name\")))\n",
    "    print(\"trained_in_workspace   : {}\".format(current_model.tags.get(\"trained_in_workspace\")))"
   ]
  },
  {
   "attachments": {},
   "cell_type": "markdown",
   "metadata": {},
   "source": [
    "##### Register new trained model, as NEW: not promoted.\n",
    " - Purpose: To be able to TAG scoring on it"
   ]
  },
  {
   "cell_type": "code",
   "execution_count": 17,
   "metadata": {},
   "outputs": [
    {
     "name": "stdout",
     "output_type": "stream",
     "text": [
      "model.name 11_diabetes_model_reg\n",
      "model.version 1\n"
     ]
    }
   ],
   "source": [
    "from esmlrt.interfaces.iESMLController import IESMLController\n",
    "import datetime\n",
    "\n",
    "time_stamp = str(datetime.datetime.now())\n",
    "ml_flow_stage = IESMLController._get_flow_equivalent(IESMLController.esml_status_new)\n",
    "\n",
    "tags = {\"esml_time_updated\": time_stamp,\"status_code\": IESMLController.esml_status_new,\"mflow_stage\":ml_flow_stage, \"run_id\": best_run.id, \"model_name\": model_name, \"trained_in_environment\": controller.dev_test_prod, \n",
    "    \"trained_in_workspace\": p.ws.name, \"experiment_name\": controller.experiment_name, \"trained_with\": \"AutoMLRun\"}\n",
    "\n",
    "model = best_run.register_model(model_name=model_name, tags=tags, description=\"\", model_path=\".\")\n",
    "print(\"model.name\", model.name)\n",
    "print(\"model.version\", model.version)\n",
    "#model_path = None\n",
    "#model = controller._register_aml_model(model_path,model_name,tags,ws,\"\")"
   ]
  },
  {
   "attachments": {},
   "cell_type": "markdown",
   "metadata": {},
   "source": [
    "## 5) TEST SET SCORING: Calculate test_set SCORING\n",
    "- Is tagged on MODEL in Azure ML Studio"
   ]
  },
  {
   "cell_type": "markdown",
   "metadata": {},
   "source": [
    "### Rehydrate RUN - to calulate test_scoring\n",
    "- if you restarted notebook, and dont want to wait for TRAIN again, you can fetch RUN, FITTED_MODEL, AML_MODEL as below"
   ]
  },
  {
   "cell_type": "code",
   "execution_count": 8,
   "metadata": {},
   "outputs": [
    {
     "name": "stdout",
     "output_type": "stream",
     "text": [
      "11_diabetes_model_reg\n",
      "11_diabetes_model_reg\n"
     ]
    }
   ],
   "source": [
    "print(controller.experiment_name)\n",
    "print(p.experiment_name)"
   ]
  },
  {
   "cell_type": "code",
   "execution_count": 10,
   "metadata": {},
   "outputs": [],
   "source": [
    "from azureml.core import Experiment\n",
    "\n",
    "exp = Experiment(p.ws,\"11_diabetes_model_reg\")"
   ]
  },
  {
   "cell_type": "code",
   "execution_count": 11,
   "metadata": {},
   "outputs": [
    {
     "data": {
      "text/plain": [
       "'aml-prj001-weu-DEV-001'"
      ]
     },
     "execution_count": 11,
     "metadata": {},
     "output_type": "execute_result"
    }
   ],
   "source": [
    "exp.workspace.name"
   ]
  },
  {
   "cell_type": "code",
   "execution_count": 17,
   "metadata": {},
   "outputs": [
    {
     "name": "stdout",
     "output_type": "stream",
     "text": [
      "ESML INFO: try: automl_run or notebook_automl\n",
      "Experiment name: 11_diabetes_model_reg\n",
      "ws name: aml-prj001-weu-DEV-001\n",
      "run_id: 0431fa5b-f342-4d7f-aaa6-fe1900fa45ef\n",
      " ## ESML: AutoMLRun? \n",
      " ## ESML: AutoMLRun = TRUE\n"
     ]
    }
   ],
   "source": [
    "from azureml.core import Model\n",
    "from esmlrt.interfaces.iESMLController import IESMLController\n",
    "\n",
    "if(p.active_model[\"ml_type\"] == \"regression\"):\n",
    "    your_model_id = \"11_diabetes_model_reg\" # See Azure ML Studio - Models registry, 1st column in table\n",
    "    models_run_id = \"0431fa5b-f342-4d7f-aaa6-fe1900fa45ef\" # Regression: See Azure ML Studio - Models registry, 2nd column in table. If empty, see JOBS id for run_id\n",
    "elif(p.active_model[\"ml_type\"] == \"classification\"):\n",
    "    your_model_id = \"AutoML3a56468360\"\n",
    "    models_run_id = \"AutoML_3a564683-6824-4ca9-b07d-71652d445da6_0\" # Classification\n",
    "\n",
    "model = Model(p.ws, your_model_id)\n",
    "run,best_run,fitted_model = IESMLController.init_run(p.ws,controller.experiment_name, models_run_id)\n"
   ]
  },
  {
   "cell_type": "code",
   "execution_count": 18,
   "metadata": {},
   "outputs": [
    {
     "name": "stdout",
     "output_type": "stream",
     "text": [
      "Run(Experiment: 11_diabetes_model_reg,\n",
      "Id: 0431fa5b-f342-4d7f-aaa6-fe1900fa45ef_0,\n",
      "Type: azureml.scriptrun,\n",
      "Status: Completed)\n"
     ]
    }
   ],
   "source": [
    "print(best_run)"
   ]
  },
  {
   "cell_type": "code",
   "execution_count": 19,
   "metadata": {},
   "outputs": [
    {
     "name": "stdout",
     "output_type": "stream",
     "text": [
      "Run(Experiment: 11_diabetes_model_reg,\n",
      "Id: 0431fa5b-f342-4d7f-aaa6-fe1900fa45ef,\n",
      "Type: azureml.StepRun,\n",
      "Status: Completed)\n"
     ]
    }
   ],
   "source": [
    "print(run)"
   ]
  },
  {
   "cell_type": "code",
   "execution_count": 20,
   "metadata": {},
   "outputs": [
    {
     "name": "stdout",
     "output_type": "stream",
     "text": [
      "Run(Experiment: 11_diabetes_model_reg_pipe_IN_2_GOLD_TRAIN_AUTOML,\n",
      "Id: 0431fa5b-f342-4d7f-aaa6-fe1900fa45ef,\n",
      "Type: azureml.StepRun,\n",
      "Status: Completed)\n"
     ]
    }
   ],
   "source": [
    "print(best_run.parent)"
   ]
  },
  {
   "cell_type": "code",
   "execution_count": 5,
   "metadata": {},
   "outputs": [],
   "source": [
    "#model = best_run.parent.register_model(model_name=\"11_diabetes_model_reg\") # Funkar EJ\n",
    "#model = best_run.parent.register_model(model_name=\"11_diabetes_model_reg\", model_path=\"outputs/\") # Funkar!\n",
    "#model = best_run.register_model(model_name=\"11_diabetes_model_reg\", model_path=\"outputs/\") # Funkar EJ - ERROR:azureml._restclient.models_client:Received bad response from Model Management Service: 400\n",
    "model = best_run.parent.register_model(model_name=\"11_diabetes_model_reg\", model_path=\"outputs\") # Funkar: 2023\n",
    "# model_name=\"model.pkl\""
   ]
  },
  {
   "cell_type": "code",
   "execution_count": 6,
   "metadata": {},
   "outputs": [
    {
     "data": {
      "text/html": [
       "<table style=\"width:100%\"><tr><th>Experiment</th><th>Id</th><th>Type</th><th>Status</th><th>Details Page</th><th>Docs Page</th></tr><tr><td>11_diabetes_model_reg</td><td>0431fa5b-f342-4d7f-aaa6-fe1900fa45ef_0</td><td>azureml.scriptrun</td><td>Completed</td><td><a href=\"https://ml.azure.com/runs/0431fa5b-f342-4d7f-aaa6-fe1900fa45ef_0?wsid=/subscriptions/50ef5835-c45a-4c2e-a596-2a9e0e2a0a33/resourcegroups/dc-heroes-esml-project001-weu-DEV-001-rg/workspaces/aml-prj001-weu-DEV-001&amp;tid=846f02b7-f92a-4053-9a99-094e5ba2e1a4\" target=\"_blank\" rel=\"noopener\">Link to Azure Machine Learning studio</a></td><td><a href=\"https://docs.microsoft.com/en-us/python/api/azureml-core/azureml.core.run.Run?view=azure-ml-py\" target=\"_blank\" rel=\"noopener\">Link to Documentation</a></td></tr></table>"
      ],
      "text/plain": [
       "Run(Experiment: 11_diabetes_model_reg,\n",
       "Id: 0431fa5b-f342-4d7f-aaa6-fe1900fa45ef_0,\n",
       "Type: azureml.scriptrun,\n",
       "Status: Completed)"
      ]
     },
     "execution_count": 6,
     "metadata": {},
     "output_type": "execute_result"
    }
   ],
   "source": [
    "best_run"
   ]
  },
  {
   "cell_type": "code",
   "execution_count": 10,
   "metadata": {},
   "outputs": [
    {
     "name": "stdout",
     "output_type": "stream",
     "text": [
      "Run(Experiment: 11_diabetes_model_reg_pipe_IN_2_GOLD_TRAIN_AUTOML,\n",
      "Id: 0431fa5b-f342-4d7f-aaa6-fe1900fa45ef,\n",
      "Type: azureml.StepRun,\n",
      "Status: Completed)\n"
     ]
    }
   ],
   "source": [
    "print(best_run.parent)"
   ]
  },
  {
   "cell_type": "code",
   "execution_count": 12,
   "metadata": {},
   "outputs": [
    {
     "name": "stdout",
     "output_type": "stream",
     "text": [
      "Run(Experiment: 11_diabetes_model_reg,\n",
      "Id: 0431fa5b-f342-4d7f-aaa6-fe1900fa45ef,\n",
      "Type: azureml.StepRun,\n",
      "Status: Completed)\n"
     ]
    }
   ],
   "source": [
    "print(run)"
   ]
  },
  {
   "cell_type": "code",
   "execution_count": 13,
   "metadata": {},
   "outputs": [
    {
     "data": {
      "text/plain": [
       "azureml.train.automl.run.AutoMLRun"
      ]
     },
     "execution_count": 13,
     "metadata": {},
     "output_type": "execute_result"
    }
   ],
   "source": [
    "type(run)"
   ]
  },
  {
   "cell_type": "code",
   "execution_count": 9,
   "metadata": {},
   "outputs": [
    {
     "name": "stderr",
     "output_type": "stream",
     "text": [
      "ERROR:azureml._restclient.models_client:Received bad response from Model Management Service:\n",
      "Response Code: 400\n",
      "Correlation: {'operation': 'b2f7b27ec9c7fa4785e20e7c5de43e83', 'request': '836309eecfb1b82e', 'RequestId': '836309eecfb1b82e'}\n",
      "Content: [<azureml._restclient.models.error_details.ErrorDetails object at 0x000001E009144850>]\n",
      "\n"
     ]
    },
    {
     "ename": "WebserviceException",
     "evalue": "WebserviceException:\n\tMessage: Received bad response from Model Management Service:\nResponse Code: 400\nCorrelation: {'operation': 'b2f7b27ec9c7fa4785e20e7c5de43e83', 'request': '836309eecfb1b82e', 'RequestId': '836309eecfb1b82e'}\nContent: [<azureml._restclient.models.error_details.ErrorDetails object at 0x000001E009144850>]\n\tInnerException None\n\tErrorResponse \n{\n    \"error\": {\n        \"message\": \"Received bad response from Model Management Service:\\nResponse Code: 400\\nCorrelation: {'operation': 'b2f7b27ec9c7fa4785e20e7c5de43e83', 'request': '836309eecfb1b82e', 'RequestId': '836309eecfb1b82e'}\\nContent: [<azureml._restclient.models.error_details.ErrorDetails object at 0x000001E009144850>]\"\n    }\n}",
     "output_type": "error",
     "traceback": [
      "\u001b[1;31m---------------------------------------------------------------------------\u001b[0m",
      "\u001b[1;31mModelErrorResponseException\u001b[0m               Traceback (most recent call last)",
      "File \u001b[1;32mc:\\Miniconda\\envs\\azure_automl_esml_v148\\lib\\site-packages\\azureml\\_restclient\\models_client.py:40\u001b[0m, in \u001b[0;36mModelsClient.error_with_model_param_handling.<locals>.wrapper\u001b[1;34m(self, *args, **kwargs)\u001b[0m\n\u001b[0;32m     39\u001b[0m \u001b[39mtry\u001b[39;00m:\n\u001b[1;32m---> 40\u001b[0m     \u001b[39mreturn\u001b[39;00m func(\u001b[39mself\u001b[39;49m, \u001b[39m*\u001b[39;49margs, \u001b[39m*\u001b[39;49m\u001b[39m*\u001b[39;49mkwargs)\n\u001b[0;32m     41\u001b[0m \u001b[39mexcept\u001b[39;00m ModelErrorResponseException \u001b[39mas\u001b[39;00m ex:\n",
      "File \u001b[1;32mc:\\Miniconda\\envs\\azure_automl_esml_v148\\lib\\site-packages\\azureml\\_restclient\\models_client.py:70\u001b[0m, in \u001b[0;36mModelsClient.register_model\u001b[1;34m(self, name, tags, properties, description, url, mime_type, framework, framework_version, unpack, experiment_name, run_id, datasets, sample_input_data, sample_output_data, resource_requirements)\u001b[0m\n\u001b[0;32m     54\u001b[0m model \u001b[39m=\u001b[39m Model(name\u001b[39m=\u001b[39mname,\n\u001b[0;32m     55\u001b[0m               kv_tags\u001b[39m=\u001b[39mtags,\n\u001b[0;32m     56\u001b[0m               properties\u001b[39m=\u001b[39mproperties,\n\u001b[1;32m   (...)\u001b[0m\n\u001b[0;32m     67\u001b[0m               sample_output_data\u001b[39m=\u001b[39msample_output_data,\n\u001b[0;32m     68\u001b[0m               resource_requirements\u001b[39m=\u001b[39mresource_requirements)\n\u001b[1;32m---> 70\u001b[0m \u001b[39mreturn\u001b[39;00m \u001b[39mself\u001b[39;49m\u001b[39m.\u001b[39;49m\\\n\u001b[0;32m     71\u001b[0m     _execute_with_workspace_arguments(\u001b[39mself\u001b[39;49m\u001b[39m.\u001b[39;49m_client\u001b[39m.\u001b[39;49mml_models\u001b[39m.\u001b[39;49mregister, model,\n\u001b[0;32m     72\u001b[0m                                       custom_headers\u001b[39m=\u001b[39;49mModelsClient\u001b[39m.\u001b[39;49mget_modelmanagement_custom_headers())\n",
      "File \u001b[1;32mc:\\Miniconda\\envs\\azure_automl_esml_v148\\lib\\site-packages\\azureml\\_restclient\\workspace_client.py:72\u001b[0m, in \u001b[0;36mWorkspaceClient._execute_with_workspace_arguments\u001b[1;34m(self, func, *args, **kwargs)\u001b[0m\n\u001b[0;32m     71\u001b[0m \u001b[39mdef\u001b[39;00m \u001b[39m_execute_with_workspace_arguments\u001b[39m(\u001b[39mself\u001b[39m, func, \u001b[39m*\u001b[39margs, \u001b[39m*\u001b[39m\u001b[39m*\u001b[39mkwargs):\n\u001b[1;32m---> 72\u001b[0m     \u001b[39mreturn\u001b[39;00m \u001b[39mself\u001b[39;49m\u001b[39m.\u001b[39;49m_execute_with_arguments(func, copy\u001b[39m.\u001b[39;49mdeepcopy(\u001b[39mself\u001b[39;49m\u001b[39m.\u001b[39;49m_workspace_arguments), \u001b[39m*\u001b[39;49margs, \u001b[39m*\u001b[39;49m\u001b[39m*\u001b[39;49mkwargs)\n",
      "File \u001b[1;32mc:\\Miniconda\\envs\\azure_automl_esml_v148\\lib\\site-packages\\azureml\\_restclient\\clientbase.py:589\u001b[0m, in \u001b[0;36mClientBase._execute_with_arguments\u001b[1;34m(self, func, args_list, *args, **kwargs)\u001b[0m\n\u001b[0;32m    588\u001b[0m     \u001b[39melse\u001b[39;00m:\n\u001b[1;32m--> 589\u001b[0m         \u001b[39mreturn\u001b[39;00m \u001b[39mself\u001b[39;49m\u001b[39m.\u001b[39;49m_call_api(func, \u001b[39m*\u001b[39;49margs_list, \u001b[39m*\u001b[39;49m\u001b[39m*\u001b[39;49mkwargs)\n\u001b[0;32m    590\u001b[0m \u001b[39mexcept\u001b[39;00m ErrorResponseException \u001b[39mas\u001b[39;00m e:\n",
      "File \u001b[1;32mc:\\Miniconda\\envs\\azure_automl_esml_v148\\lib\\site-packages\\azureml\\_restclient\\clientbase.py:245\u001b[0m, in \u001b[0;36mClientBase._call_api\u001b[1;34m(self, func, *args, **kwargs)\u001b[0m\n\u001b[0;32m    244\u001b[0m \u001b[39melse\u001b[39;00m:\n\u001b[1;32m--> 245\u001b[0m     \u001b[39mreturn\u001b[39;00m \u001b[39mself\u001b[39;49m\u001b[39m.\u001b[39;49m_execute_with_base_arguments(func, \u001b[39m*\u001b[39;49margs, \u001b[39m*\u001b[39;49m\u001b[39m*\u001b[39;49mkwargs)\n",
      "File \u001b[1;32mc:\\Miniconda\\envs\\azure_automl_esml_v148\\lib\\site-packages\\azureml\\_restclient\\clientbase.py:333\u001b[0m, in \u001b[0;36mClientBase._execute_with_base_arguments\u001b[1;34m(self, func, *args, **kwargs)\u001b[0m\n\u001b[0;32m    332\u001b[0m total_retry \u001b[39m=\u001b[39m \u001b[39m0\u001b[39m \u001b[39mif\u001b[39;00m \u001b[39mself\u001b[39m\u001b[39m.\u001b[39mretries \u001b[39m<\u001b[39m \u001b[39m0\u001b[39m \u001b[39melse\u001b[39;00m \u001b[39mself\u001b[39m\u001b[39m.\u001b[39mretries\n\u001b[1;32m--> 333\u001b[0m \u001b[39mreturn\u001b[39;00m ClientBase\u001b[39m.\u001b[39;49m_execute_func_internal(\n\u001b[0;32m    334\u001b[0m     back_off, total_retry, \u001b[39mself\u001b[39;49m\u001b[39m.\u001b[39;49m_logger, func, _noop_reset, \u001b[39m*\u001b[39;49margs, \u001b[39m*\u001b[39;49m\u001b[39m*\u001b[39;49mkwargs)\n",
      "File \u001b[1;32mc:\\Miniconda\\envs\\azure_automl_esml_v148\\lib\\site-packages\\azureml\\_restclient\\clientbase.py:367\u001b[0m, in \u001b[0;36mClientBase._execute_func_internal\u001b[1;34m(cls, back_off, total_retry, logger, func, reset_func, *args, **kwargs)\u001b[0m\n\u001b[0;32m    366\u001b[0m \u001b[39mexcept\u001b[39;00m \u001b[39mException\u001b[39;00m \u001b[39mas\u001b[39;00m error:\n\u001b[1;32m--> 367\u001b[0m     left_retry \u001b[39m=\u001b[39m \u001b[39mcls\u001b[39;49m\u001b[39m.\u001b[39;49m_handle_retry(back_off, left_retry, total_retry, error, logger, func)\n\u001b[0;32m    369\u001b[0m reset_func(\u001b[39m*\u001b[39margs, \u001b[39m*\u001b[39m\u001b[39m*\u001b[39mkwargs)\n",
      "File \u001b[1;32mc:\\Miniconda\\envs\\azure_automl_esml_v148\\lib\\site-packages\\azureml\\_restclient\\clientbase.py:426\u001b[0m, in \u001b[0;36mClientBase._handle_retry\u001b[1;34m(cls, back_off, left_retry, total_retry, error, logger, func)\u001b[0m\n\u001b[0;32m    425\u001b[0m     \u001b[39melif\u001b[39;00m error\u001b[39m.\u001b[39mresponse\u001b[39m.\u001b[39mstatus_code \u001b[39m<\u001b[39m \u001b[39m500\u001b[39m \u001b[39mand\u001b[39;00m error\u001b[39m.\u001b[39mresponse\u001b[39m.\u001b[39mstatus_code \u001b[39m!=\u001b[39m \u001b[39m408\u001b[39m:\n\u001b[1;32m--> 426\u001b[0m         \u001b[39mraise\u001b[39;00m error\n\u001b[0;32m    427\u001b[0m \u001b[39melif\u001b[39;00m \u001b[39misinstance\u001b[39m(error, ClientRequestError):\n",
      "File \u001b[1;32mc:\\Miniconda\\envs\\azure_automl_esml_v148\\lib\\site-packages\\azureml\\_restclient\\clientbase.py:358\u001b[0m, in \u001b[0;36mClientBase._execute_func_internal\u001b[1;34m(cls, back_off, total_retry, logger, func, reset_func, *args, **kwargs)\u001b[0m\n\u001b[0;32m    357\u001b[0m logger\u001b[39m.\u001b[39mdebug(\u001b[39m\"\u001b[39m\u001b[39mClientBase: Calling \u001b[39m\u001b[39m{}\u001b[39;00m\u001b[39m with url \u001b[39m\u001b[39m{}\u001b[39;00m\u001b[39m\"\u001b[39m\u001b[39m.\u001b[39mformat(func_name, func_url))\n\u001b[1;32m--> 358\u001b[0m response \u001b[39m=\u001b[39m func(\u001b[39m*\u001b[39;49margs, \u001b[39m*\u001b[39;49m\u001b[39m*\u001b[39;49mkwargs)\n\u001b[0;32m    359\u001b[0m \u001b[39mif\u001b[39;00m (\u001b[39misinstance\u001b[39m(response, Response) \u001b[39mand\u001b[39;00m \u001b[39mcls\u001b[39m\u001b[39m.\u001b[39m_is_retryable_status_code(response\u001b[39m.\u001b[39mstatus_code)\n\u001b[0;32m    360\u001b[0m         \u001b[39mand\u001b[39;00m left_retry \u001b[39m>\u001b[39m \u001b[39m0\u001b[39m):\n\u001b[0;32m    361\u001b[0m     \u001b[39m# This is the handle the error case 1. response.raise_for_status only throws HTTPError exception.\u001b[39;00m\n\u001b[0;32m    362\u001b[0m     \u001b[39m# if the status_code is retryable and it is not the last retry, then the exception is thrown.\u001b[39;00m\n\u001b[0;32m    363\u001b[0m     \u001b[39m# Otherwise, we will return the response directly.\u001b[39;00m\n",
      "File \u001b[1;32mc:\\Miniconda\\envs\\azure_automl_esml_v148\\lib\\site-packages\\azureml\\_restclient\\operations\\ml_models_operations.py:404\u001b[0m, in \u001b[0;36mMLModelsOperations.register\u001b[1;34m(self, subscription_id, resource_group, workspace, body, custom_headers, raw, **operation_config)\u001b[0m\n\u001b[0;32m    403\u001b[0m \u001b[39mif\u001b[39;00m response\u001b[39m.\u001b[39mstatus_code \u001b[39mnot\u001b[39;00m \u001b[39min\u001b[39;00m [\u001b[39m200\u001b[39m]:\n\u001b[1;32m--> 404\u001b[0m     \u001b[39mraise\u001b[39;00m models\u001b[39m.\u001b[39mModelErrorResponseException(\u001b[39mself\u001b[39m\u001b[39m.\u001b[39m_deserialize, response)\n\u001b[0;32m    406\u001b[0m deserialized \u001b[39m=\u001b[39m \u001b[39mNone\u001b[39;00m\n",
      "\u001b[1;31mModelErrorResponseException\u001b[0m: The request is invalid.",
      "\nDuring handling of the above exception, another exception occurred:\n",
      "\u001b[1;31mWebserviceException\u001b[0m                       Traceback (most recent call last)",
      "Cell \u001b[1;32mIn[9], line 2\u001b[0m\n\u001b[0;32m      1\u001b[0m \u001b[39m#model = run.register_model(model_name=\"11_diabetes_model_reg\", model_path=\"outputs\") # Funkar Ej: 'TypeError: register_model() got an unexpected keyword argument 'model_path''\u001b[39;00m\n\u001b[1;32m----> 2\u001b[0m model \u001b[39m=\u001b[39m run\u001b[39m.\u001b[39;49mregister_model(model_name\u001b[39m=\u001b[39;49m\u001b[39m\"\u001b[39;49m\u001b[39m11_diabetes_model_reg\u001b[39;49m\u001b[39m\"\u001b[39;49m) \u001b[39m# Funkar Ej: 'TypeError: register_model() got an unexpected keyword argument 'model_path''\u001b[39;00m\n",
      "File \u001b[1;32mc:\\Miniconda\\envs\\azure_automl_esml_v148\\lib\\site-packages\\azureml\\train\\automl\\run.py:1037\u001b[0m, in \u001b[0;36mAutoMLRun.register_model\u001b[1;34m(self, model_name, description, tags, iteration, metric)\u001b[0m\n\u001b[0;32m   1033\u001b[0m     properties \u001b[39m=\u001b[39m best_run\u001b[39m.\u001b[39mget_properties()\n\u001b[0;32m   1034\u001b[0m     model_path \u001b[39m=\u001b[39m properties\u001b[39m.\u001b[39mget(constants\u001b[39m.\u001b[39mPROPERTY_KEY_OF_MODEL_PATH,\n\u001b[0;32m   1035\u001b[0m                                 constants\u001b[39m.\u001b[39mMODEL_PATH)\n\u001b[1;32m-> 1037\u001b[0m     res \u001b[39m=\u001b[39m best_run\u001b[39m.\u001b[39;49mregister_model(\n\u001b[0;32m   1038\u001b[0m         model_path\u001b[39m=\u001b[39;49mmodel_path,\n\u001b[0;32m   1039\u001b[0m         model_name\u001b[39m=\u001b[39;49m\u001b[39mself\u001b[39;49m\u001b[39m.\u001b[39;49mmodel_id,\n\u001b[0;32m   1040\u001b[0m         tags\u001b[39m=\u001b[39;49mtags,\n\u001b[0;32m   1041\u001b[0m         description\u001b[39m=\u001b[39;49mdescription)\n\u001b[0;32m   1042\u001b[0m \u001b[39mreturn\u001b[39;00m res\n",
      "File \u001b[1;32mc:\\Miniconda\\envs\\azure_automl_esml_v148\\lib\\site-packages\\azureml\\core\\run.py:2275\u001b[0m, in \u001b[0;36mRun.register_model\u001b[1;34m(self, model_name, model_path, tags, properties, model_framework, model_framework_version, description, datasets, sample_input_dataset, sample_output_dataset, resource_configuration, **kwargs)\u001b[0m\n\u001b[0;32m   2235\u001b[0m \u001b[39m\"\"\"Register a model for operationalization.\u001b[39;00m\n\u001b[0;32m   2236\u001b[0m \n\u001b[0;32m   2237\u001b[0m \u001b[39m.. remarks::\u001b[39;00m\n\u001b[1;32m   (...)\u001b[0m\n\u001b[0;32m   2272\u001b[0m \u001b[39m:rtype: azureml.core.model.Model\u001b[39;00m\n\u001b[0;32m   2273\u001b[0m \u001b[39m\"\"\"\u001b[39;00m\n\u001b[0;32m   2274\u001b[0m model_name_validation(model_name)\n\u001b[1;32m-> 2275\u001b[0m \u001b[39mreturn\u001b[39;00m \u001b[39mself\u001b[39;49m\u001b[39m.\u001b[39;49m_client\u001b[39m.\u001b[39;49mregister_model(\n\u001b[0;32m   2276\u001b[0m     model_name, model_path, tags, properties, model_framework, model_framework_version,\n\u001b[0;32m   2277\u001b[0m     description\u001b[39m=\u001b[39;49mdescription, datasets\u001b[39m=\u001b[39;49mdatasets, unpack\u001b[39m=\u001b[39;49m\u001b[39mFalse\u001b[39;49;00m, sample_input_dataset\u001b[39m=\u001b[39;49msample_input_dataset,\n\u001b[0;32m   2278\u001b[0m     sample_output_dataset\u001b[39m=\u001b[39;49msample_output_dataset, resource_configuration\u001b[39m=\u001b[39;49mresource_configuration, \u001b[39m*\u001b[39;49m\u001b[39m*\u001b[39;49mkwargs)\n",
      "File \u001b[1;32mc:\\Miniconda\\envs\\azure_automl_esml_v148\\lib\\site-packages\\azureml\\_run_impl\\run_history_facade.py:486\u001b[0m, in \u001b[0;36mRunHistoryFacade.register_model\u001b[1;34m(self, model_name, model_path, tags, properties, model_framework, model_framework_version, asset_id, sample_input_dataset, sample_output_dataset, resource_configuration, **kwargs)\u001b[0m\n\u001b[0;32m    483\u001b[0m     properties \u001b[39m=\u001b[39m \u001b[39mself\u001b[39m\u001b[39m.\u001b[39m_merge_dict(tags, asset\u001b[39m.\u001b[39mtags)\n\u001b[0;32m    484\u001b[0m     properties \u001b[39m=\u001b[39m \u001b[39mself\u001b[39m\u001b[39m.\u001b[39m_merge_dict(properties, asset\u001b[39m.\u001b[39mproperties)\n\u001b[1;32m--> 486\u001b[0m model \u001b[39m=\u001b[39m Model\u001b[39m.\u001b[39;49m_register_with_asset(\u001b[39mself\u001b[39;49m\u001b[39m.\u001b[39;49m_experiment\u001b[39m.\u001b[39;49mworkspace, model_name, asset_id, tags\u001b[39m=\u001b[39;49mtags,\n\u001b[0;32m    487\u001b[0m                                    properties\u001b[39m=\u001b[39;49mproperties, experiment_name\u001b[39m=\u001b[39;49m\u001b[39mself\u001b[39;49m\u001b[39m.\u001b[39;49m_experiment\u001b[39m.\u001b[39;49mname,\n\u001b[0;32m    488\u001b[0m                                    run_id\u001b[39m=\u001b[39;49m\u001b[39mself\u001b[39;49m\u001b[39m.\u001b[39;49m_run_id, model_framework\u001b[39m=\u001b[39;49mmodel_framework,\n\u001b[0;32m    489\u001b[0m                                    model_framework_version\u001b[39m=\u001b[39;49mmodel_framework_version,\n\u001b[0;32m    490\u001b[0m                                    sample_input_dataset\u001b[39m=\u001b[39;49msample_input_dataset,\n\u001b[0;32m    491\u001b[0m                                    sample_output_dataset\u001b[39m=\u001b[39;49msample_output_dataset,\n\u001b[0;32m    492\u001b[0m                                    resource_configuration\u001b[39m=\u001b[39;49mresource_configuration, \u001b[39m*\u001b[39;49m\u001b[39m*\u001b[39;49mkwargs)\n\u001b[0;32m    493\u001b[0m \u001b[39mreturn\u001b[39;00m model\n",
      "File \u001b[1;32mc:\\Miniconda\\envs\\azure_automl_esml_v148\\lib\\site-packages\\azureml\\core\\model.py:1167\u001b[0m, in \u001b[0;36mModel._register_with_asset\u001b[1;34m(workspace, model_name, asset_id, tags, properties, description, experiment_name, run_id, datasets, model_framework, model_framework_version, unpack, sample_input_dataset, sample_output_dataset, resource_configuration)\u001b[0m\n\u001b[0;32m   1164\u001b[0m     resource_configuration \u001b[39m=\u001b[39m resource_configuration\u001b[39m.\u001b[39mserialize()\n\u001b[0;32m   1166\u001b[0m models_client \u001b[39m=\u001b[39m ModelsClient(workspace\u001b[39m.\u001b[39mservice_context)\n\u001b[1;32m-> 1167\u001b[0m model_dto \u001b[39m=\u001b[39m models_client\u001b[39m.\u001b[39;49mregister_model(name\u001b[39m=\u001b[39;49mmodel_name, tags\u001b[39m=\u001b[39;49mtags, properties\u001b[39m=\u001b[39;49mproperties, url\u001b[39m=\u001b[39;49masset_url,\n\u001b[0;32m   1168\u001b[0m                                          framework\u001b[39m=\u001b[39;49mmodel_framework, framework_version\u001b[39m=\u001b[39;49mmodel_framework_version,\n\u001b[0;32m   1169\u001b[0m                                          unpack\u001b[39m=\u001b[39;49munpack, experiment_name\u001b[39m=\u001b[39;49mexperiment_name, run_id\u001b[39m=\u001b[39;49mrun_id,\n\u001b[0;32m   1170\u001b[0m                                          datasets\u001b[39m=\u001b[39;49mdatasets_payload,\n\u001b[0;32m   1171\u001b[0m                                          sample_input_data\u001b[39m=\u001b[39;49msample_input_dataset_id,\n\u001b[0;32m   1172\u001b[0m                                          sample_output_data\u001b[39m=\u001b[39;49msample_output_dataset_id,\n\u001b[0;32m   1173\u001b[0m                                          description\u001b[39m=\u001b[39;49mdescription, resource_requirements\u001b[39m=\u001b[39;49mresource_configuration)\n\u001b[0;32m   1175\u001b[0m \u001b[39mreturn\u001b[39;00m Model(workspace\u001b[39m=\u001b[39mworkspace, _model_dto\u001b[39m=\u001b[39mmodel_dto)\n",
      "File \u001b[1;32mc:\\Miniconda\\envs\\azure_automl_esml_v148\\lib\\site-packages\\azureml\\_restclient\\models_client.py:42\u001b[0m, in \u001b[0;36mModelsClient.error_with_model_param_handling.<locals>.wrapper\u001b[1;34m(self, *args, **kwargs)\u001b[0m\n\u001b[0;32m     40\u001b[0m     \u001b[39mreturn\u001b[39;00m func(\u001b[39mself\u001b[39m, \u001b[39m*\u001b[39margs, \u001b[39m*\u001b[39m\u001b[39m*\u001b[39mkwargs)\n\u001b[0;32m     41\u001b[0m \u001b[39mexcept\u001b[39;00m ModelErrorResponseException \u001b[39mas\u001b[39;00m ex:\n\u001b[1;32m---> 42\u001b[0m     \u001b[39mreturn\u001b[39;00m ModelsClient\u001b[39m.\u001b[39;49mmodel_error_response_to_webservice_exception(ex, \u001b[39m*\u001b[39;49m\u001b[39m*\u001b[39;49mkwargs)\n",
      "File \u001b[1;32mc:\\Miniconda\\envs\\azure_automl_esml_v148\\lib\\site-packages\\azureml\\_restclient\\models_client.py:114\u001b[0m, in \u001b[0;36mModelsClient.model_error_response_to_webservice_exception\u001b[1;34m(ex, **kwargs)\u001b[0m\n\u001b[0;32m    110\u001b[0m     error_message \u001b[39m=\u001b[39m populate_model_not_found_details(\u001b[39m*\u001b[39m\u001b[39m*\u001b[39mkwargs)\n\u001b[0;32m    112\u001b[0m     \u001b[39mraise\u001b[39;00m WebserviceException(error_message, logger\u001b[39m=\u001b[39mmodule_logger)\n\u001b[1;32m--> 114\u001b[0m \u001b[39mraise\u001b[39;00m WebserviceException(\u001b[39m'\u001b[39m\u001b[39mReceived bad response from Model Management Service:\u001b[39m\u001b[39m\\n\u001b[39;00m\u001b[39m'\u001b[39m\n\u001b[0;32m    115\u001b[0m                           \u001b[39m'\u001b[39m\u001b[39mResponse Code: \u001b[39m\u001b[39m{}\u001b[39;00m\u001b[39m\\n\u001b[39;00m\u001b[39m'\u001b[39m\n\u001b[0;32m    116\u001b[0m                           \u001b[39m'\u001b[39m\u001b[39mCorrelation: \u001b[39m\u001b[39m{}\u001b[39;00m\u001b[39m\\n\u001b[39;00m\u001b[39m'\u001b[39m\n\u001b[0;32m    117\u001b[0m                           \u001b[39m'\u001b[39m\u001b[39mContent: \u001b[39m\u001b[39m{}\u001b[39;00m\u001b[39m'\u001b[39m\u001b[39m.\u001b[39mformat(ex\u001b[39m.\u001b[39merror\u001b[39m.\u001b[39mstatus_code, ex\u001b[39m.\u001b[39merror\u001b[39m.\u001b[39mcorrelation, ex\u001b[39m.\u001b[39merror\u001b[39m.\u001b[39mdetails),\n\u001b[0;32m    118\u001b[0m                           logger\u001b[39m=\u001b[39mmodule_logger)\n",
      "\u001b[1;31mWebserviceException\u001b[0m: WebserviceException:\n\tMessage: Received bad response from Model Management Service:\nResponse Code: 400\nCorrelation: {'operation': 'b2f7b27ec9c7fa4785e20e7c5de43e83', 'request': '836309eecfb1b82e', 'RequestId': '836309eecfb1b82e'}\nContent: [<azureml._restclient.models.error_details.ErrorDetails object at 0x000001E009144850>]\n\tInnerException None\n\tErrorResponse \n{\n    \"error\": {\n        \"message\": \"Received bad response from Model Management Service:\\nResponse Code: 400\\nCorrelation: {'operation': 'b2f7b27ec9c7fa4785e20e7c5de43e83', 'request': '836309eecfb1b82e', 'RequestId': '836309eecfb1b82e'}\\nContent: [<azureml._restclient.models.error_details.ErrorDetails object at 0x000001E009144850>]\"\n    }\n}"
     ]
    }
   ],
   "source": [
    "#model = run.register_model(model_name=\"11_diabetes_model_reg\", model_path=\"outputs\") # Funkar Ej: 'TypeError: register_model() got an unexpected keyword argument 'model_path''\n",
    "model = run.register_model(model_name=\"11_diabetes_model_reg\") # Funkar Ej: 'ERROR:azureml._restclient.models_client:Received bad response from Model Management Service:Response Code: 400'"
   ]
  },
  {
   "cell_type": "code",
   "execution_count": null,
   "metadata": {},
   "outputs": [],
   "source": [
    "model = best_run.parent.register_model(model_name=\"11_diabetes_model_reg\", model_path=\"outputs\") # Funkar: 2023"
   ]
  },
  {
   "cell_type": "code",
   "execution_count": 14,
   "metadata": {},
   "outputs": [
    {
     "name": "stdout",
     "output_type": "stream",
     "text": [
      "Connecting to env: dev\n",
      "- ws name: aml-prj001-weu-DEV-001\n",
      "- self._secret_name_tenant: esml-tenant-id\n",
      "- self._secret_name_project_sp_id: esml-project-sp-id\n",
      "- self._secret_name_project_sp_secret: esml-project-sp-secret\n",
      "Connecting to env: dev\n",
      "- ws name: aml-prj001-weu-DEV-001\n",
      "- self._secret_name_tenant: esml-tenant-id\n",
      "- self._secret_name_project_sp_id: esml-project-sp-id\n",
      "- self._secret_name_project_sp_secret: esml-project-sp-secret\n",
      "model_name at remote_run.register_model:  11_diabetes_model_reg\n",
      "model_path (will override model_name when register) at remote_run.register_model:  None\n"
     ]
    },
    {
     "ename": "ModelPathNotFoundException",
     "evalue": "ModelPathNotFoundException:\n\tMessage: Could not locate the provided model_path 11_diabetes_model_reg in the set of files uploaded to the run: ['automl_driver.py', 'best_model_data', 'definition.json', 'definition_original.json', 'logs/azureml/executionlogs.txt', 'logs/azureml/stderrlogs.txt', 'logs/azureml/stdoutlogs.txt', 'metrics_data', 'outputs/_automl_internal/ExperimentData_lazy.pkl', 'outputs/_automl_internal/ExperimentData_materialized.pkl', 'outputs/_automl_internal/ExperimentData_partitioned.pkl', 'outputs/_automl_internal/ExperimentMetadata.pkl', 'outputs/_automl_internal/ExperimentMetadata_Classification.pkl', 'outputs/_automl_internal/ExperimentMetadata_Regression.pkl', 'outputs/_automl_internal/ExperimentMetadata_Timeseries.pkl', 'outputs/_automl_internal/X_raw.df.parquet', 'outputs/_automl_internal/X_raw_valid.pkl', 'outputs/_automl_internal/_CACHE_STORE_KEY_ONNX_CONVERTER_INIT_METADATA_.pkl', 'outputs/_automl_internal/featurized_cv_split_0.pkl', 'outputs/_automl_internal/featurized_cv_split_1.pkl', 'outputs/_automl_internal/featurized_cv_split_2.pkl', 'outputs/_automl_internal/indices/bc4594cec7c4419abc2a2967f57006d4.json', 'outputs/_automl_internal/indices/defe6a4745d740fa90b21753c900cba5.json', 'outputs/_automl_internal/split_keys.pkl', 'outputs/_automl_internal/y_raw.npys.parquet', 'outputs/_automl_internal/y_raw_valid.pkl', 'outputs/featurization/data/X_valid.pkl', 'outputs/featurization/data/full_training_dataset.df.parquet', 'outputs/featurization/data/sample_weight_valid.pkl', 'outputs/featurization/data/y_valid.pkl', 'outputs/featurization/pipeline/MLmodel', 'outputs/featurization/pipeline/conda.yaml', 'outputs/featurization/pipeline/model.pkl', 'outputs/featurization/pipeline/python_env.yaml', 'outputs/featurization/pipeline/requirements.txt', 'outputs/verifier_results.json']\n                See https://aka.ms/run-logging for more details.\n\tInnerException None\n\tErrorResponse \n{\n    \"error\": {\n        \"message\": \"Could not locate the provided model_path 11_diabetes_model_reg in the set of files uploaded to the run: ['automl_driver.py', 'best_model_data', 'definition.json', 'definition_original.json', 'logs/azureml/executionlogs.txt', 'logs/azureml/stderrlogs.txt', 'logs/azureml/stdoutlogs.txt', 'metrics_data', 'outputs/_automl_internal/ExperimentData_lazy.pkl', 'outputs/_automl_internal/ExperimentData_materialized.pkl', 'outputs/_automl_internal/ExperimentData_partitioned.pkl', 'outputs/_automl_internal/ExperimentMetadata.pkl', 'outputs/_automl_internal/ExperimentMetadata_Classification.pkl', 'outputs/_automl_internal/ExperimentMetadata_Regression.pkl', 'outputs/_automl_internal/ExperimentMetadata_Timeseries.pkl', 'outputs/_automl_internal/X_raw.df.parquet', 'outputs/_automl_internal/X_raw_valid.pkl', 'outputs/_automl_internal/_CACHE_STORE_KEY_ONNX_CONVERTER_INIT_METADATA_.pkl', 'outputs/_automl_internal/featurized_cv_split_0.pkl', 'outputs/_automl_internal/featurized_cv_split_1.pkl', 'outputs/_automl_internal/featurized_cv_split_2.pkl', 'outputs/_automl_internal/indices/bc4594cec7c4419abc2a2967f57006d4.json', 'outputs/_automl_internal/indices/defe6a4745d740fa90b21753c900cba5.json', 'outputs/_automl_internal/split_keys.pkl', 'outputs/_automl_internal/y_raw.npys.parquet', 'outputs/_automl_internal/y_raw_valid.pkl', 'outputs/featurization/data/X_valid.pkl', 'outputs/featurization/data/full_training_dataset.df.parquet', 'outputs/featurization/data/sample_weight_valid.pkl', 'outputs/featurization/data/y_valid.pkl', 'outputs/featurization/pipeline/MLmodel', 'outputs/featurization/pipeline/conda.yaml', 'outputs/featurization/pipeline/model.pkl', 'outputs/featurization/pipeline/python_env.yaml', 'outputs/featurization/pipeline/requirements.txt', 'outputs/verifier_results.json']\\n                See https://aka.ms/run-logging for more details.\"\n    }\n}",
     "output_type": "error",
     "traceback": [
      "\u001b[1;31m---------------------------------------------------------------------------\u001b[0m",
      "\u001b[1;31mModelPathNotFoundException\u001b[0m                Traceback (most recent call last)",
      "Cell \u001b[1;32mIn[14], line 1\u001b[0m\n\u001b[1;32m----> 1\u001b[0m model_registered_in_target \u001b[39m=\u001b[39m controller\u001b[39m.\u001b[39;49mregister_model(source_ws\u001b[39m=\u001b[39;49mp\u001b[39m.\u001b[39;49mws, target_env\u001b[39m=\u001b[39;49m\u001b[39m\"\u001b[39;49m\u001b[39mdev\u001b[39;49m\u001b[39m\"\u001b[39;49m, source_model\u001b[39m=\u001b[39;49mmodel, run\u001b[39m=\u001b[39;49mbest_run\u001b[39m.\u001b[39;49mparent,esml_status\u001b[39m=\u001b[39;49mIESMLController\u001b[39m.\u001b[39;49mesml_status_promoted_2_dev)\n",
      "File \u001b[1;32mc:\\code\\esml-aifactory002-prj002\\notebook_templates_quickstart\\../azure-enterprise-scale-ml\\esmlrt\\interfaces\\iESMLController.py:1101\u001b[0m, in \u001b[0;36mIESMLController.register_model\u001b[1;34m(self, source_ws, target_env, source_model, run, esml_status, model_path, extra_model_tags)\u001b[0m\n\u001b[0;32m   1093\u001b[0m     experiment \u001b[39m=\u001b[39m dev_workspace\u001b[39m.\u001b[39mexperiments[\u001b[39mself\u001b[39m\u001b[39m.\u001b[39mexperiment_name]\n\u001b[0;32m   1094\u001b[0m     \u001b[39m#try:\u001b[39;00m\n\u001b[0;32m   1095\u001b[0m     \u001b[39m#    model_name = run.properties['model_name']\u001b[39;00m\n\u001b[0;32m   1096\u001b[0m     \u001b[39m#except Exception as e:\u001b[39;00m\n\u001b[1;32m   (...)\u001b[0m\n\u001b[0;32m   1099\u001b[0m \n\u001b[0;32m   1100\u001b[0m     \u001b[39m#print(\"registering model with name: {}, from run.\".format(model_name))\u001b[39;00m\n\u001b[1;32m-> 1101\u001b[0m     model_registered_in_target \u001b[39m=\u001b[39m \u001b[39mself\u001b[39;49m\u001b[39m.\u001b[39;49m_register_model_on_run(source_model,model_name,source_env,source_ws_name,run,experiment,esml_status,model_path,extra_model_tags)\n\u001b[0;32m   1102\u001b[0m \u001b[39melse\u001b[39;00m: \u001b[39m# fall back...\u001b[39;00m\n\u001b[0;32m   1103\u001b[0m     model_registered_in_target, model_source \u001b[39m=\u001b[39m \u001b[39mself\u001b[39m\u001b[39m.\u001b[39m_register_model_in_correct_workspace(\u001b[39m\"\u001b[39m\u001b[39mdev\u001b[39m\u001b[39m\"\u001b[39m, dev_workspace, \u001b[39m\"\u001b[39m\u001b[39mdev\u001b[39m\u001b[39m\"\u001b[39m,new_model\u001b[39m=\u001b[39mmodel,esml_status\u001b[39m=\u001b[39mesml_status)\n",
      "File \u001b[1;32mc:\\code\\esml-aifactory002-prj002\\notebook_templates_quickstart\\../azure-enterprise-scale-ml\\esmlrt\\interfaces\\iESMLController.py:1182\u001b[0m, in \u001b[0;36mIESMLController._register_model_on_run\u001b[1;34m(self, source_model_to_copy_tags_from, model_name, source_env, source_ws_name, remote_run, experiment, esml_status, model_path, extra_model_tags)\u001b[0m\n\u001b[0;32m   1180\u001b[0m     model \u001b[39m=\u001b[39m remote_run\u001b[39m.\u001b[39mregister_model(model_name\u001b[39m=\u001b[39mmodel_name,model_path\u001b[39m=\u001b[39mmodel_path, tags\u001b[39m=\u001b[39mtags, description\u001b[39m=\u001b[39m\u001b[39m\"\u001b[39m\u001b[39m\"\u001b[39m) \u001b[39m# Works, if manual ML you need to specify path where you saved model.\u001b[39;00m\n\u001b[0;32m   1181\u001b[0m \u001b[39melse\u001b[39;00m:\n\u001b[1;32m-> 1182\u001b[0m     model \u001b[39m=\u001b[39m remote_run\u001b[39m.\u001b[39;49mregister_model(model_name\u001b[39m=\u001b[39;49mmodel_name, tags\u001b[39m=\u001b[39;49mtags, description\u001b[39m=\u001b[39;49m\u001b[39m\"\u001b[39;49m\u001b[39m\"\u001b[39;49m) \u001b[39m# Works. If AutoML, pass the MAIN_RUN of AutoML that has AutoMLSettings property\u001b[39;00m\n\u001b[0;32m   1184\u001b[0m \u001b[39m#model_path = \"outputs/model.pkl\"\u001b[39;00m\n\u001b[0;32m   1185\u001b[0m \u001b[39m#print(\"model_name: before remote_run.register_model {} and model_path {}\".format(model_name,model_path))\u001b[39;00m\n\u001b[0;32m   1186\u001b[0m \u001b[39m#model = remote_run.register_model(model_name=model_name,model_path=model_path, tags=tags,properties=tags, description=\"\") #  TypeError: register_model() got an unexpected keyword argument 'model_path'\u001b[39;00m\n\u001b[0;32m   1187\u001b[0m \u001b[39mprint\u001b[39m(\u001b[39m\"\u001b[39m\u001b[39mmodel.version\u001b[39m\u001b[39m\"\u001b[39m, model\u001b[39m.\u001b[39mversion)\n",
      "File \u001b[1;32mc:\\Miniconda\\envs\\azure_automl_esml_v148\\lib\\site-packages\\azureml\\core\\run.py:2275\u001b[0m, in \u001b[0;36mRun.register_model\u001b[1;34m(self, model_name, model_path, tags, properties, model_framework, model_framework_version, description, datasets, sample_input_dataset, sample_output_dataset, resource_configuration, **kwargs)\u001b[0m\n\u001b[0;32m   2235\u001b[0m \u001b[39m\"\"\"Register a model for operationalization.\u001b[39;00m\n\u001b[0;32m   2236\u001b[0m \n\u001b[0;32m   2237\u001b[0m \u001b[39m.. remarks::\u001b[39;00m\n\u001b[1;32m   (...)\u001b[0m\n\u001b[0;32m   2272\u001b[0m \u001b[39m:rtype: azureml.core.model.Model\u001b[39;00m\n\u001b[0;32m   2273\u001b[0m \u001b[39m\"\"\"\u001b[39;00m\n\u001b[0;32m   2274\u001b[0m model_name_validation(model_name)\n\u001b[1;32m-> 2275\u001b[0m \u001b[39mreturn\u001b[39;00m \u001b[39mself\u001b[39;49m\u001b[39m.\u001b[39;49m_client\u001b[39m.\u001b[39;49mregister_model(\n\u001b[0;32m   2276\u001b[0m     model_name, model_path, tags, properties, model_framework, model_framework_version,\n\u001b[0;32m   2277\u001b[0m     description\u001b[39m=\u001b[39;49mdescription, datasets\u001b[39m=\u001b[39;49mdatasets, unpack\u001b[39m=\u001b[39;49m\u001b[39mFalse\u001b[39;49;00m, sample_input_dataset\u001b[39m=\u001b[39;49msample_input_dataset,\n\u001b[0;32m   2278\u001b[0m     sample_output_dataset\u001b[39m=\u001b[39;49msample_output_dataset, resource_configuration\u001b[39m=\u001b[39;49mresource_configuration, \u001b[39m*\u001b[39;49m\u001b[39m*\u001b[39;49mkwargs)\n",
      "File \u001b[1;32mc:\\Miniconda\\envs\\azure_automl_esml_v148\\lib\\site-packages\\azureml\\_run_impl\\run_history_facade.py:469\u001b[0m, in \u001b[0;36mRunHistoryFacade.register_model\u001b[1;34m(self, model_name, model_path, tags, properties, model_framework, model_framework_version, asset_id, sample_input_dataset, sample_output_dataset, resource_configuration, **kwargs)\u001b[0m\n\u001b[0;32m    467\u001b[0m \u001b[39mif\u001b[39;00m \u001b[39mnot\u001b[39;00m cloud_file_paths:\n\u001b[0;32m    468\u001b[0m     run_files \u001b[39m=\u001b[39m \u001b[39mlist\u001b[39m(\u001b[39mself\u001b[39m\u001b[39m.\u001b[39martifacts\u001b[39m.\u001b[39mget_file_paths(\u001b[39mself\u001b[39m\u001b[39m.\u001b[39m_origin, \u001b[39mself\u001b[39m\u001b[39m.\u001b[39m_data_container_id))\n\u001b[1;32m--> 469\u001b[0m     \u001b[39mraise\u001b[39;00m ModelPathNotFoundException(\n\u001b[0;32m    470\u001b[0m         \u001b[39m\"\"\"Could not locate the provided model_path {} in the set of files uploaded to the run: {}\u001b[39;00m\n\u001b[0;32m    471\u001b[0m \u001b[39m        See https://aka.ms/run-logging for more details.\"\"\"\u001b[39;00m\u001b[39m.\u001b[39mformat(model_path, \u001b[39mstr\u001b[39m(run_files)))\n\u001b[0;32m    472\u001b[0m artifacts \u001b[39m=\u001b[39m [{\u001b[39m\"\u001b[39m\u001b[39mprefix\u001b[39m\u001b[39m\"\u001b[39m: artifact_prefix_id}]\n\u001b[0;32m    473\u001b[0m metadata_dict \u001b[39m=\u001b[39m \u001b[39mNone\u001b[39;00m\n",
      "\u001b[1;31mModelPathNotFoundException\u001b[0m: ModelPathNotFoundException:\n\tMessage: Could not locate the provided model_path 11_diabetes_model_reg in the set of files uploaded to the run: ['automl_driver.py', 'best_model_data', 'definition.json', 'definition_original.json', 'logs/azureml/executionlogs.txt', 'logs/azureml/stderrlogs.txt', 'logs/azureml/stdoutlogs.txt', 'metrics_data', 'outputs/_automl_internal/ExperimentData_lazy.pkl', 'outputs/_automl_internal/ExperimentData_materialized.pkl', 'outputs/_automl_internal/ExperimentData_partitioned.pkl', 'outputs/_automl_internal/ExperimentMetadata.pkl', 'outputs/_automl_internal/ExperimentMetadata_Classification.pkl', 'outputs/_automl_internal/ExperimentMetadata_Regression.pkl', 'outputs/_automl_internal/ExperimentMetadata_Timeseries.pkl', 'outputs/_automl_internal/X_raw.df.parquet', 'outputs/_automl_internal/X_raw_valid.pkl', 'outputs/_automl_internal/_CACHE_STORE_KEY_ONNX_CONVERTER_INIT_METADATA_.pkl', 'outputs/_automl_internal/featurized_cv_split_0.pkl', 'outputs/_automl_internal/featurized_cv_split_1.pkl', 'outputs/_automl_internal/featurized_cv_split_2.pkl', 'outputs/_automl_internal/indices/bc4594cec7c4419abc2a2967f57006d4.json', 'outputs/_automl_internal/indices/defe6a4745d740fa90b21753c900cba5.json', 'outputs/_automl_internal/split_keys.pkl', 'outputs/_automl_internal/y_raw.npys.parquet', 'outputs/_automl_internal/y_raw_valid.pkl', 'outputs/featurization/data/X_valid.pkl', 'outputs/featurization/data/full_training_dataset.df.parquet', 'outputs/featurization/data/sample_weight_valid.pkl', 'outputs/featurization/data/y_valid.pkl', 'outputs/featurization/pipeline/MLmodel', 'outputs/featurization/pipeline/conda.yaml', 'outputs/featurization/pipeline/model.pkl', 'outputs/featurization/pipeline/python_env.yaml', 'outputs/featurization/pipeline/requirements.txt', 'outputs/verifier_results.json']\n                See https://aka.ms/run-logging for more details.\n\tInnerException None\n\tErrorResponse \n{\n    \"error\": {\n        \"message\": \"Could not locate the provided model_path 11_diabetes_model_reg in the set of files uploaded to the run: ['automl_driver.py', 'best_model_data', 'definition.json', 'definition_original.json', 'logs/azureml/executionlogs.txt', 'logs/azureml/stderrlogs.txt', 'logs/azureml/stdoutlogs.txt', 'metrics_data', 'outputs/_automl_internal/ExperimentData_lazy.pkl', 'outputs/_automl_internal/ExperimentData_materialized.pkl', 'outputs/_automl_internal/ExperimentData_partitioned.pkl', 'outputs/_automl_internal/ExperimentMetadata.pkl', 'outputs/_automl_internal/ExperimentMetadata_Classification.pkl', 'outputs/_automl_internal/ExperimentMetadata_Regression.pkl', 'outputs/_automl_internal/ExperimentMetadata_Timeseries.pkl', 'outputs/_automl_internal/X_raw.df.parquet', 'outputs/_automl_internal/X_raw_valid.pkl', 'outputs/_automl_internal/_CACHE_STORE_KEY_ONNX_CONVERTER_INIT_METADATA_.pkl', 'outputs/_automl_internal/featurized_cv_split_0.pkl', 'outputs/_automl_internal/featurized_cv_split_1.pkl', 'outputs/_automl_internal/featurized_cv_split_2.pkl', 'outputs/_automl_internal/indices/bc4594cec7c4419abc2a2967f57006d4.json', 'outputs/_automl_internal/indices/defe6a4745d740fa90b21753c900cba5.json', 'outputs/_automl_internal/split_keys.pkl', 'outputs/_automl_internal/y_raw.npys.parquet', 'outputs/_automl_internal/y_raw_valid.pkl', 'outputs/featurization/data/X_valid.pkl', 'outputs/featurization/data/full_training_dataset.df.parquet', 'outputs/featurization/data/sample_weight_valid.pkl', 'outputs/featurization/data/y_valid.pkl', 'outputs/featurization/pipeline/MLmodel', 'outputs/featurization/pipeline/conda.yaml', 'outputs/featurization/pipeline/model.pkl', 'outputs/featurization/pipeline/python_env.yaml', 'outputs/featurization/pipeline/requirements.txt', 'outputs/verifier_results.json']\\n                See https://aka.ms/run-logging for more details.\"\n    }\n}"
     ]
    }
   ],
   "source": [
    "model_registered_in_target = controller.register_model(source_ws=p.ws, target_env=\"dev\", source_model=model, run=best_run.parent,esml_status=IESMLController.esml_status_promoted_2_dev)"
   ]
  },
  {
   "cell_type": "code",
   "execution_count": 10,
   "metadata": {},
   "outputs": [
    {
     "name": "stdout",
     "output_type": "stream",
     "text": [
      "Connecting to env: dev\n",
      "- ws name: aml-prj001-weu-DEV-001\n",
      "- self._secret_name_tenant: esml-tenant-id\n",
      "- self._secret_name_project_sp_id: esml-project-sp-id\n",
      "- self._secret_name_project_sp_secret: esml-project-sp-secret\n",
      "Connecting to env: dev\n",
      "- ws name: aml-prj001-weu-DEV-001\n",
      "- self._secret_name_tenant: esml-tenant-id\n",
      "- self._secret_name_project_sp_id: esml-project-sp-id\n",
      "- self._secret_name_project_sp_secret: esml-project-sp-secret\n",
      "model_name at remote_run.register_model:  11_diabetes_model_reg\n",
      "model_path (will override model_name when register) at remote_run.register_model:  model.pkl\n"
     ]
    },
    {
     "ename": "ModelPathNotFoundException",
     "evalue": "ModelPathNotFoundException:\n\tMessage: Could not locate the provided model_path model.pkl in the set of files uploaded to the run: ['ESML_GOLD_TestSet_ActualPredicted_1673664197.png', 'automl_driver.py', 'explanation/01fc2af7/eval_data_viz.interpret.json', 'explanation/01fc2af7/expected_values.interpret.json', 'explanation/01fc2af7/features.interpret.json', 'explanation/01fc2af7/global_names/0.interpret.json', 'explanation/01fc2af7/global_rank/0.interpret.json', 'explanation/01fc2af7/global_values/0.interpret.json', 'explanation/01fc2af7/local_importance_values.interpret.json', 'explanation/01fc2af7/rich_metadata.interpret.json', 'explanation/01fc2af7/true_ys_viz.interpret.json', 'explanation/01fc2af7/visualization_dict.interpret.json', 'explanation/01fc2af7/ys_pred_viz.interpret.json', 'explanation/dc1d7f3d/eval_data_viz.interpret.json', 'explanation/dc1d7f3d/expected_values.interpret.json', 'explanation/dc1d7f3d/features.interpret.json', 'explanation/dc1d7f3d/global_names/0.interpret.json', 'explanation/dc1d7f3d/global_rank/0.interpret.json', 'explanation/dc1d7f3d/global_values/0.interpret.json', 'explanation/dc1d7f3d/local_importance_values.interpret.json', 'explanation/dc1d7f3d/rich_metadata.interpret.json', 'explanation/dc1d7f3d/true_ys_viz.interpret.json', 'explanation/dc1d7f3d/visualization_dict.interpret.json', 'explanation/dc1d7f3d/ys_pred_viz.interpret.json', 'logs/azureml/azureml_automl-child.log', 'logs/azureml/azureml_automl.log', 'outputs/conda_env_v_1_0_0.yml', 'outputs/engineered_feature_names.json', 'outputs/env_dependencies.json', 'outputs/featurization_summary.json', 'outputs/generated_code/conda_environment.yaml', 'outputs/generated_code/script.py', 'outputs/generated_code/script_run_notebook.ipynb', 'outputs/internal_cross_validated_models.pkl', 'outputs/model.pkl', 'outputs/pipeline_graph.json', 'outputs/run_id.txt', 'outputs/scoring_file_pbi_v_1_0_0.py', 'outputs/scoring_file_v_1_0_0.py', 'outputs/scoring_file_v_2_0_0.py', 'predicted_true', 'residuals', 'system_logs/cs_capability/cs-capability.log', 'system_logs/hosttools_capability/hosttools-capability.log', 'system_logs/lifecycler/execution-wrapper.log', 'system_logs/lifecycler/lifecycler.log', 'system_logs/metrics_capability/metrics-capability.log', 'system_logs/snapshot_capability/snapshot-capability.log', 'user_logs/std_log.txt']\n                See https://aka.ms/run-logging for more details.\n\tInnerException None\n\tErrorResponse \n{\n    \"error\": {\n        \"message\": \"Could not locate the provided model_path model.pkl in the set of files uploaded to the run: ['ESML_GOLD_TestSet_ActualPredicted_1673664197.png', 'automl_driver.py', 'explanation/01fc2af7/eval_data_viz.interpret.json', 'explanation/01fc2af7/expected_values.interpret.json', 'explanation/01fc2af7/features.interpret.json', 'explanation/01fc2af7/global_names/0.interpret.json', 'explanation/01fc2af7/global_rank/0.interpret.json', 'explanation/01fc2af7/global_values/0.interpret.json', 'explanation/01fc2af7/local_importance_values.interpret.json', 'explanation/01fc2af7/rich_metadata.interpret.json', 'explanation/01fc2af7/true_ys_viz.interpret.json', 'explanation/01fc2af7/visualization_dict.interpret.json', 'explanation/01fc2af7/ys_pred_viz.interpret.json', 'explanation/dc1d7f3d/eval_data_viz.interpret.json', 'explanation/dc1d7f3d/expected_values.interpret.json', 'explanation/dc1d7f3d/features.interpret.json', 'explanation/dc1d7f3d/global_names/0.interpret.json', 'explanation/dc1d7f3d/global_rank/0.interpret.json', 'explanation/dc1d7f3d/global_values/0.interpret.json', 'explanation/dc1d7f3d/local_importance_values.interpret.json', 'explanation/dc1d7f3d/rich_metadata.interpret.json', 'explanation/dc1d7f3d/true_ys_viz.interpret.json', 'explanation/dc1d7f3d/visualization_dict.interpret.json', 'explanation/dc1d7f3d/ys_pred_viz.interpret.json', 'logs/azureml/azureml_automl-child.log', 'logs/azureml/azureml_automl.log', 'outputs/conda_env_v_1_0_0.yml', 'outputs/engineered_feature_names.json', 'outputs/env_dependencies.json', 'outputs/featurization_summary.json', 'outputs/generated_code/conda_environment.yaml', 'outputs/generated_code/script.py', 'outputs/generated_code/script_run_notebook.ipynb', 'outputs/internal_cross_validated_models.pkl', 'outputs/model.pkl', 'outputs/pipeline_graph.json', 'outputs/run_id.txt', 'outputs/scoring_file_pbi_v_1_0_0.py', 'outputs/scoring_file_v_1_0_0.py', 'outputs/scoring_file_v_2_0_0.py', 'predicted_true', 'residuals', 'system_logs/cs_capability/cs-capability.log', 'system_logs/hosttools_capability/hosttools-capability.log', 'system_logs/lifecycler/execution-wrapper.log', 'system_logs/lifecycler/lifecycler.log', 'system_logs/metrics_capability/metrics-capability.log', 'system_logs/snapshot_capability/snapshot-capability.log', 'user_logs/std_log.txt']\\n                See https://aka.ms/run-logging for more details.\"\n    }\n}",
     "output_type": "error",
     "traceback": [
      "\u001b[1;31m---------------------------------------------------------------------------\u001b[0m",
      "\u001b[1;31mModelPathNotFoundException\u001b[0m                Traceback (most recent call last)",
      "Cell \u001b[1;32mIn[10], line 1\u001b[0m\n\u001b[1;32m----> 1\u001b[0m model_registered_in_target \u001b[39m=\u001b[39m controller\u001b[39m.\u001b[39;49mregister_model(source_ws\u001b[39m=\u001b[39;49mp\u001b[39m.\u001b[39;49mws, target_env\u001b[39m=\u001b[39;49m\u001b[39m\"\u001b[39;49m\u001b[39mdev\u001b[39;49m\u001b[39m\"\u001b[39;49m, source_model\u001b[39m=\u001b[39;49mmodel, run\u001b[39m=\u001b[39;49mbest_run,esml_status\u001b[39m=\u001b[39;49mIESMLController\u001b[39m.\u001b[39;49mesml_status_promoted_2_dev, model_path\u001b[39m=\u001b[39;49m\u001b[39m'\u001b[39;49m\u001b[39mmodel.pkl\u001b[39;49m\u001b[39m'\u001b[39;49m) \u001b[39m# ModelPathNotFoundException\u001b[39;00m\n\u001b[0;32m      3\u001b[0m \u001b[39m'''\u001b[39;00m\n\u001b[0;32m      4\u001b[0m \u001b[39m{\u001b[39;00m\n\u001b[0;32m      5\u001b[0m \u001b[39m    \"error\": {\u001b[39;00m\n\u001b[1;32m   (...)\u001b[0m\n\u001b[0;32m      8\u001b[0m \u001b[39m}\u001b[39;00m\n\u001b[0;32m      9\u001b[0m \u001b[39m'''\u001b[39;00m\n",
      "File \u001b[1;32mc:\\code\\esml-aifactory002-prj002\\notebook_templates_quickstart\\../azure-enterprise-scale-ml\\esmlrt\\interfaces\\iESMLController.py:1101\u001b[0m, in \u001b[0;36mIESMLController.register_model\u001b[1;34m(self, source_ws, target_env, source_model, run, esml_status, model_path, extra_model_tags)\u001b[0m\n\u001b[0;32m   1093\u001b[0m     experiment \u001b[39m=\u001b[39m dev_workspace\u001b[39m.\u001b[39mexperiments[\u001b[39mself\u001b[39m\u001b[39m.\u001b[39mexperiment_name]\n\u001b[0;32m   1094\u001b[0m     \u001b[39m#try:\u001b[39;00m\n\u001b[0;32m   1095\u001b[0m     \u001b[39m#    model_name = run.properties['model_name']\u001b[39;00m\n\u001b[0;32m   1096\u001b[0m     \u001b[39m#except Exception as e:\u001b[39;00m\n\u001b[1;32m   (...)\u001b[0m\n\u001b[0;32m   1099\u001b[0m \n\u001b[0;32m   1100\u001b[0m     \u001b[39m#print(\"registering model with name: {}, from run.\".format(model_name))\u001b[39;00m\n\u001b[1;32m-> 1101\u001b[0m     model_registered_in_target \u001b[39m=\u001b[39m \u001b[39mself\u001b[39;49m\u001b[39m.\u001b[39;49m_register_model_on_run(source_model,model_name,source_env,source_ws_name,run,experiment,esml_status,model_path,extra_model_tags)\n\u001b[0;32m   1102\u001b[0m \u001b[39melse\u001b[39;00m: \u001b[39m# fall back...\u001b[39;00m\n\u001b[0;32m   1103\u001b[0m     model_registered_in_target, model_source \u001b[39m=\u001b[39m \u001b[39mself\u001b[39m\u001b[39m.\u001b[39m_register_model_in_correct_workspace(\u001b[39m\"\u001b[39m\u001b[39mdev\u001b[39m\u001b[39m\"\u001b[39m, dev_workspace, \u001b[39m\"\u001b[39m\u001b[39mdev\u001b[39m\u001b[39m\"\u001b[39m,new_model\u001b[39m=\u001b[39mmodel,esml_status\u001b[39m=\u001b[39mesml_status)\n",
      "File \u001b[1;32mc:\\code\\esml-aifactory002-prj002\\notebook_templates_quickstart\\../azure-enterprise-scale-ml\\esmlrt\\interfaces\\iESMLController.py:1180\u001b[0m, in \u001b[0;36mIESMLController._register_model_on_run\u001b[1;34m(self, source_model_to_copy_tags_from, model_name, source_env, source_ws_name, remote_run, experiment, esml_status, model_path, extra_model_tags)\u001b[0m\n\u001b[0;32m   1178\u001b[0m model \u001b[39m=\u001b[39m \u001b[39mNone\u001b[39;00m\n\u001b[0;32m   1179\u001b[0m \u001b[39mif\u001b[39;00m(model_path \u001b[39mis\u001b[39;00m \u001b[39mnot\u001b[39;00m \u001b[39mNone\u001b[39;00m):\n\u001b[1;32m-> 1180\u001b[0m     model \u001b[39m=\u001b[39m remote_run\u001b[39m.\u001b[39;49mregister_model(model_name\u001b[39m=\u001b[39;49mmodel_name,model_path\u001b[39m=\u001b[39;49mmodel_path, tags\u001b[39m=\u001b[39;49mtags, description\u001b[39m=\u001b[39;49m\u001b[39m\"\u001b[39;49m\u001b[39m\"\u001b[39;49m) \u001b[39m# Works, if manual ML you need to specify path where you saved model.\u001b[39;00m\n\u001b[0;32m   1181\u001b[0m \u001b[39melse\u001b[39;00m:\n\u001b[0;32m   1182\u001b[0m     model \u001b[39m=\u001b[39m remote_run\u001b[39m.\u001b[39mregister_model(model_name\u001b[39m=\u001b[39mmodel_name, tags\u001b[39m=\u001b[39mtags, description\u001b[39m=\u001b[39m\u001b[39m\"\u001b[39m\u001b[39m\"\u001b[39m) \u001b[39m# Works. If AutoML, pass the MAIN_RUN of AutoML that has AutoMLSettings property\u001b[39;00m\n",
      "File \u001b[1;32mc:\\Miniconda\\envs\\azure_automl_esml_v148\\lib\\site-packages\\azureml\\core\\run.py:2275\u001b[0m, in \u001b[0;36mRun.register_model\u001b[1;34m(self, model_name, model_path, tags, properties, model_framework, model_framework_version, description, datasets, sample_input_dataset, sample_output_dataset, resource_configuration, **kwargs)\u001b[0m\n\u001b[0;32m   2235\u001b[0m \u001b[39m\"\"\"Register a model for operationalization.\u001b[39;00m\n\u001b[0;32m   2236\u001b[0m \n\u001b[0;32m   2237\u001b[0m \u001b[39m.. remarks::\u001b[39;00m\n\u001b[1;32m   (...)\u001b[0m\n\u001b[0;32m   2272\u001b[0m \u001b[39m:rtype: azureml.core.model.Model\u001b[39;00m\n\u001b[0;32m   2273\u001b[0m \u001b[39m\"\"\"\u001b[39;00m\n\u001b[0;32m   2274\u001b[0m model_name_validation(model_name)\n\u001b[1;32m-> 2275\u001b[0m \u001b[39mreturn\u001b[39;00m \u001b[39mself\u001b[39;49m\u001b[39m.\u001b[39;49m_client\u001b[39m.\u001b[39;49mregister_model(\n\u001b[0;32m   2276\u001b[0m     model_name, model_path, tags, properties, model_framework, model_framework_version,\n\u001b[0;32m   2277\u001b[0m     description\u001b[39m=\u001b[39;49mdescription, datasets\u001b[39m=\u001b[39;49mdatasets, unpack\u001b[39m=\u001b[39;49m\u001b[39mFalse\u001b[39;49;00m, sample_input_dataset\u001b[39m=\u001b[39;49msample_input_dataset,\n\u001b[0;32m   2278\u001b[0m     sample_output_dataset\u001b[39m=\u001b[39;49msample_output_dataset, resource_configuration\u001b[39m=\u001b[39;49mresource_configuration, \u001b[39m*\u001b[39;49m\u001b[39m*\u001b[39;49mkwargs)\n",
      "File \u001b[1;32mc:\\Miniconda\\envs\\azure_automl_esml_v148\\lib\\site-packages\\azureml\\_run_impl\\run_history_facade.py:469\u001b[0m, in \u001b[0;36mRunHistoryFacade.register_model\u001b[1;34m(self, model_name, model_path, tags, properties, model_framework, model_framework_version, asset_id, sample_input_dataset, sample_output_dataset, resource_configuration, **kwargs)\u001b[0m\n\u001b[0;32m    467\u001b[0m \u001b[39mif\u001b[39;00m \u001b[39mnot\u001b[39;00m cloud_file_paths:\n\u001b[0;32m    468\u001b[0m     run_files \u001b[39m=\u001b[39m \u001b[39mlist\u001b[39m(\u001b[39mself\u001b[39m\u001b[39m.\u001b[39martifacts\u001b[39m.\u001b[39mget_file_paths(\u001b[39mself\u001b[39m\u001b[39m.\u001b[39m_origin, \u001b[39mself\u001b[39m\u001b[39m.\u001b[39m_data_container_id))\n\u001b[1;32m--> 469\u001b[0m     \u001b[39mraise\u001b[39;00m ModelPathNotFoundException(\n\u001b[0;32m    470\u001b[0m         \u001b[39m\"\"\"Could not locate the provided model_path {} in the set of files uploaded to the run: {}\u001b[39;00m\n\u001b[0;32m    471\u001b[0m \u001b[39m        See https://aka.ms/run-logging for more details.\"\"\"\u001b[39;00m\u001b[39m.\u001b[39mformat(model_path, \u001b[39mstr\u001b[39m(run_files)))\n\u001b[0;32m    472\u001b[0m artifacts \u001b[39m=\u001b[39m [{\u001b[39m\"\u001b[39m\u001b[39mprefix\u001b[39m\u001b[39m\"\u001b[39m: artifact_prefix_id}]\n\u001b[0;32m    473\u001b[0m metadata_dict \u001b[39m=\u001b[39m \u001b[39mNone\u001b[39;00m\n",
      "\u001b[1;31mModelPathNotFoundException\u001b[0m: ModelPathNotFoundException:\n\tMessage: Could not locate the provided model_path model.pkl in the set of files uploaded to the run: ['ESML_GOLD_TestSet_ActualPredicted_1673664197.png', 'automl_driver.py', 'explanation/01fc2af7/eval_data_viz.interpret.json', 'explanation/01fc2af7/expected_values.interpret.json', 'explanation/01fc2af7/features.interpret.json', 'explanation/01fc2af7/global_names/0.interpret.json', 'explanation/01fc2af7/global_rank/0.interpret.json', 'explanation/01fc2af7/global_values/0.interpret.json', 'explanation/01fc2af7/local_importance_values.interpret.json', 'explanation/01fc2af7/rich_metadata.interpret.json', 'explanation/01fc2af7/true_ys_viz.interpret.json', 'explanation/01fc2af7/visualization_dict.interpret.json', 'explanation/01fc2af7/ys_pred_viz.interpret.json', 'explanation/dc1d7f3d/eval_data_viz.interpret.json', 'explanation/dc1d7f3d/expected_values.interpret.json', 'explanation/dc1d7f3d/features.interpret.json', 'explanation/dc1d7f3d/global_names/0.interpret.json', 'explanation/dc1d7f3d/global_rank/0.interpret.json', 'explanation/dc1d7f3d/global_values/0.interpret.json', 'explanation/dc1d7f3d/local_importance_values.interpret.json', 'explanation/dc1d7f3d/rich_metadata.interpret.json', 'explanation/dc1d7f3d/true_ys_viz.interpret.json', 'explanation/dc1d7f3d/visualization_dict.interpret.json', 'explanation/dc1d7f3d/ys_pred_viz.interpret.json', 'logs/azureml/azureml_automl-child.log', 'logs/azureml/azureml_automl.log', 'outputs/conda_env_v_1_0_0.yml', 'outputs/engineered_feature_names.json', 'outputs/env_dependencies.json', 'outputs/featurization_summary.json', 'outputs/generated_code/conda_environment.yaml', 'outputs/generated_code/script.py', 'outputs/generated_code/script_run_notebook.ipynb', 'outputs/internal_cross_validated_models.pkl', 'outputs/model.pkl', 'outputs/pipeline_graph.json', 'outputs/run_id.txt', 'outputs/scoring_file_pbi_v_1_0_0.py', 'outputs/scoring_file_v_1_0_0.py', 'outputs/scoring_file_v_2_0_0.py', 'predicted_true', 'residuals', 'system_logs/cs_capability/cs-capability.log', 'system_logs/hosttools_capability/hosttools-capability.log', 'system_logs/lifecycler/execution-wrapper.log', 'system_logs/lifecycler/lifecycler.log', 'system_logs/metrics_capability/metrics-capability.log', 'system_logs/snapshot_capability/snapshot-capability.log', 'user_logs/std_log.txt']\n                See https://aka.ms/run-logging for more details.\n\tInnerException None\n\tErrorResponse \n{\n    \"error\": {\n        \"message\": \"Could not locate the provided model_path model.pkl in the set of files uploaded to the run: ['ESML_GOLD_TestSet_ActualPredicted_1673664197.png', 'automl_driver.py', 'explanation/01fc2af7/eval_data_viz.interpret.json', 'explanation/01fc2af7/expected_values.interpret.json', 'explanation/01fc2af7/features.interpret.json', 'explanation/01fc2af7/global_names/0.interpret.json', 'explanation/01fc2af7/global_rank/0.interpret.json', 'explanation/01fc2af7/global_values/0.interpret.json', 'explanation/01fc2af7/local_importance_values.interpret.json', 'explanation/01fc2af7/rich_metadata.interpret.json', 'explanation/01fc2af7/true_ys_viz.interpret.json', 'explanation/01fc2af7/visualization_dict.interpret.json', 'explanation/01fc2af7/ys_pred_viz.interpret.json', 'explanation/dc1d7f3d/eval_data_viz.interpret.json', 'explanation/dc1d7f3d/expected_values.interpret.json', 'explanation/dc1d7f3d/features.interpret.json', 'explanation/dc1d7f3d/global_names/0.interpret.json', 'explanation/dc1d7f3d/global_rank/0.interpret.json', 'explanation/dc1d7f3d/global_values/0.interpret.json', 'explanation/dc1d7f3d/local_importance_values.interpret.json', 'explanation/dc1d7f3d/rich_metadata.interpret.json', 'explanation/dc1d7f3d/true_ys_viz.interpret.json', 'explanation/dc1d7f3d/visualization_dict.interpret.json', 'explanation/dc1d7f3d/ys_pred_viz.interpret.json', 'logs/azureml/azureml_automl-child.log', 'logs/azureml/azureml_automl.log', 'outputs/conda_env_v_1_0_0.yml', 'outputs/engineered_feature_names.json', 'outputs/env_dependencies.json', 'outputs/featurization_summary.json', 'outputs/generated_code/conda_environment.yaml', 'outputs/generated_code/script.py', 'outputs/generated_code/script_run_notebook.ipynb', 'outputs/internal_cross_validated_models.pkl', 'outputs/model.pkl', 'outputs/pipeline_graph.json', 'outputs/run_id.txt', 'outputs/scoring_file_pbi_v_1_0_0.py', 'outputs/scoring_file_v_1_0_0.py', 'outputs/scoring_file_v_2_0_0.py', 'predicted_true', 'residuals', 'system_logs/cs_capability/cs-capability.log', 'system_logs/hosttools_capability/hosttools-capability.log', 'system_logs/lifecycler/execution-wrapper.log', 'system_logs/lifecycler/lifecycler.log', 'system_logs/metrics_capability/metrics-capability.log', 'system_logs/snapshot_capability/snapshot-capability.log', 'user_logs/std_log.txt']\\n                See https://aka.ms/run-logging for more details.\"\n    }\n}"
     ]
    }
   ],
   "source": [
    "model_registered_in_target = controller.register_model(source_ws=p.ws, target_env=\"dev\", source_model=model, run=best_run,esml_status=IESMLController.esml_status_promoted_2_dev, model_path='model.pkl') # ModelPathNotFoundException\n",
    "\n",
    "'''\n",
    "{\n",
    "    \"error\": {\n",
    "        \"message\": \"Could not locate the provided model_path model.pkl in the set of files uploaded to the run: ['ESML_GOLD_TestSet_ActualPredicted_1673664197.png', 'automl_driver.py', 'explanation/01fc2af7/eval_data_viz.interpret.json', 'explanation/01fc2af7/expected_values.interpret.json', 'explanation/01fc2af7/features.interpret.json', 'explanation/01fc2af7/global_names/0.interpret.json', 'explanation/01fc2af7/global_rank/0.interpret.json', 'explanation/01fc2af7/global_values/0.interpret.json', 'explanation/01fc2af7/local_importance_values.interpret.json', 'explanation/01fc2af7/rich_metadata.interpret.json', 'explanation/01fc2af7/true_ys_viz.interpret.json', 'explanation/01fc2af7/visualization_dict.interpret.json', 'explanation/01fc2af7/ys_pred_viz.interpret.json', 'explanation/dc1d7f3d/eval_data_viz.interpret.json', 'explanation/dc1d7f3d/expected_values.interpret.json', 'explanation/dc1d7f3d/features.interpret.json', 'explanation/dc1d7f3d/global_names/0.interpret.json', 'explanation/dc1d7f3d/global_rank/0.interpret.json', 'explanation/dc1d7f3d/global_values/0.interpret.json', 'explanation/dc1d7f3d/local_importance_values.interpret.json', 'explanation/dc1d7f3d/rich_metadata.interpret.json', 'explanation/dc1d7f3d/true_ys_viz.interpret.json', 'explanation/dc1d7f3d/visualization_dict.interpret.json', 'explanation/dc1d7f3d/ys_pred_viz.interpret.json', 'logs/azureml/azureml_automl-child.log', 'logs/azureml/azureml_automl.log', 'outputs/conda_env_v_1_0_0.yml', 'outputs/engineered_feature_names.json', 'outputs/env_dependencies.json', 'outputs/featurization_summary.json', 'outputs/generated_code/conda_environment.yaml', 'outputs/generated_code/script.py', 'outputs/generated_code/script_run_notebook.ipynb', 'outputs/internal_cross_validated_models.pkl', 'outputs/model.pkl', 'outputs/pipeline_graph.json', 'outputs/run_id.txt', 'outputs/scoring_file_pbi_v_1_0_0.py', 'outputs/scoring_file_v_1_0_0.py', 'outputs/scoring_file_v_2_0_0.py', 'predicted_true', 'residuals', 'system_logs/cs_capability/cs-capability.log', 'system_logs/hosttools_capability/hosttools-capability.log', 'system_logs/lifecycler/execution-wrapper.log', 'system_logs/lifecycler/lifecycler.log', 'system_logs/metrics_capability/metrics-capability.log', 'system_logs/snapshot_capability/snapshot-capability.log', 'user_logs/std_log.txt']\\n                See https://aka.ms/run-logging for more details.\"\n",
    "    }\n",
    "}\n",
    "'''"
   ]
  },
  {
   "cell_type": "code",
   "execution_count": 6,
   "metadata": {},
   "outputs": [
    {
     "name": "stdout",
     "output_type": "stream",
     "text": [
      "Connecting to env: dev\n",
      "- ws name: aml-prj001-weu-DEV-001\n",
      "- self._secret_name_tenant: esml-tenant-id\n",
      "- self._secret_name_project_sp_id: esml-project-sp-id\n",
      "- self._secret_name_project_sp_secret: esml-project-sp-secret\n",
      "Connecting to env: dev\n",
      "- ws name: aml-prj001-weu-DEV-001\n",
      "- self._secret_name_tenant: esml-tenant-id\n",
      "- self._secret_name_project_sp_id: esml-project-sp-id\n",
      "- self._secret_name_project_sp_secret: esml-project-sp-secret\n",
      "model_name at remote_run.register_model:  11_diabetes_model_reg\n",
      "model_path (will override model_name when register) at remote_run.register_model:  outputs/model.pkl\n"
     ]
    },
    {
     "name": "stderr",
     "output_type": "stream",
     "text": [
      "ERROR:azureml._restclient.models_client:Received bad response from Model Management Service:\n",
      "Response Code: 400\n",
      "Correlation: {'operation': '0b0c23f10e9feea1b331bf65405946ef', 'request': '830d14e319f6449c', 'RequestId': '830d14e319f6449c'}\n",
      "Content: [<azureml._restclient.models.error_details.ErrorDetails object at 0x000002A8E9D7ED90>]\n",
      "\n"
     ]
    },
    {
     "ename": "WebserviceException",
     "evalue": "WebserviceException:\n\tMessage: Received bad response from Model Management Service:\nResponse Code: 400\nCorrelation: {'operation': '0b0c23f10e9feea1b331bf65405946ef', 'request': '830d14e319f6449c', 'RequestId': '830d14e319f6449c'}\nContent: [<azureml._restclient.models.error_details.ErrorDetails object at 0x000002A8E9D7ED90>]\n\tInnerException None\n\tErrorResponse \n{\n    \"error\": {\n        \"message\": \"Received bad response from Model Management Service:\\nResponse Code: 400\\nCorrelation: {'operation': '0b0c23f10e9feea1b331bf65405946ef', 'request': '830d14e319f6449c', 'RequestId': '830d14e319f6449c'}\\nContent: [<azureml._restclient.models.error_details.ErrorDetails object at 0x000002A8E9D7ED90>]\"\n    }\n}",
     "output_type": "error",
     "traceback": [
      "\u001b[1;31m---------------------------------------------------------------------------\u001b[0m",
      "\u001b[1;31mModelErrorResponseException\u001b[0m               Traceback (most recent call last)",
      "File \u001b[1;32mc:\\Miniconda\\envs\\azure_automl_esml_v148\\lib\\site-packages\\azureml\\_restclient\\models_client.py:40\u001b[0m, in \u001b[0;36mModelsClient.error_with_model_param_handling.<locals>.wrapper\u001b[1;34m(self, *args, **kwargs)\u001b[0m\n\u001b[0;32m     39\u001b[0m \u001b[39mtry\u001b[39;00m:\n\u001b[1;32m---> 40\u001b[0m     \u001b[39mreturn\u001b[39;00m func(\u001b[39mself\u001b[39;49m, \u001b[39m*\u001b[39;49margs, \u001b[39m*\u001b[39;49m\u001b[39m*\u001b[39;49mkwargs)\n\u001b[0;32m     41\u001b[0m \u001b[39mexcept\u001b[39;00m ModelErrorResponseException \u001b[39mas\u001b[39;00m ex:\n",
      "File \u001b[1;32mc:\\Miniconda\\envs\\azure_automl_esml_v148\\lib\\site-packages\\azureml\\_restclient\\models_client.py:70\u001b[0m, in \u001b[0;36mModelsClient.register_model\u001b[1;34m(self, name, tags, properties, description, url, mime_type, framework, framework_version, unpack, experiment_name, run_id, datasets, sample_input_data, sample_output_data, resource_requirements)\u001b[0m\n\u001b[0;32m     54\u001b[0m model \u001b[39m=\u001b[39m Model(name\u001b[39m=\u001b[39mname,\n\u001b[0;32m     55\u001b[0m               kv_tags\u001b[39m=\u001b[39mtags,\n\u001b[0;32m     56\u001b[0m               properties\u001b[39m=\u001b[39mproperties,\n\u001b[1;32m   (...)\u001b[0m\n\u001b[0;32m     67\u001b[0m               sample_output_data\u001b[39m=\u001b[39msample_output_data,\n\u001b[0;32m     68\u001b[0m               resource_requirements\u001b[39m=\u001b[39mresource_requirements)\n\u001b[1;32m---> 70\u001b[0m \u001b[39mreturn\u001b[39;00m \u001b[39mself\u001b[39;49m\u001b[39m.\u001b[39;49m\\\n\u001b[0;32m     71\u001b[0m     _execute_with_workspace_arguments(\u001b[39mself\u001b[39;49m\u001b[39m.\u001b[39;49m_client\u001b[39m.\u001b[39;49mml_models\u001b[39m.\u001b[39;49mregister, model,\n\u001b[0;32m     72\u001b[0m                                       custom_headers\u001b[39m=\u001b[39;49mModelsClient\u001b[39m.\u001b[39;49mget_modelmanagement_custom_headers())\n",
      "File \u001b[1;32mc:\\Miniconda\\envs\\azure_automl_esml_v148\\lib\\site-packages\\azureml\\_restclient\\workspace_client.py:72\u001b[0m, in \u001b[0;36mWorkspaceClient._execute_with_workspace_arguments\u001b[1;34m(self, func, *args, **kwargs)\u001b[0m\n\u001b[0;32m     71\u001b[0m \u001b[39mdef\u001b[39;00m \u001b[39m_execute_with_workspace_arguments\u001b[39m(\u001b[39mself\u001b[39m, func, \u001b[39m*\u001b[39margs, \u001b[39m*\u001b[39m\u001b[39m*\u001b[39mkwargs):\n\u001b[1;32m---> 72\u001b[0m     \u001b[39mreturn\u001b[39;00m \u001b[39mself\u001b[39;49m\u001b[39m.\u001b[39;49m_execute_with_arguments(func, copy\u001b[39m.\u001b[39;49mdeepcopy(\u001b[39mself\u001b[39;49m\u001b[39m.\u001b[39;49m_workspace_arguments), \u001b[39m*\u001b[39;49margs, \u001b[39m*\u001b[39;49m\u001b[39m*\u001b[39;49mkwargs)\n",
      "File \u001b[1;32mc:\\Miniconda\\envs\\azure_automl_esml_v148\\lib\\site-packages\\azureml\\_restclient\\clientbase.py:589\u001b[0m, in \u001b[0;36mClientBase._execute_with_arguments\u001b[1;34m(self, func, args_list, *args, **kwargs)\u001b[0m\n\u001b[0;32m    588\u001b[0m     \u001b[39melse\u001b[39;00m:\n\u001b[1;32m--> 589\u001b[0m         \u001b[39mreturn\u001b[39;00m \u001b[39mself\u001b[39;49m\u001b[39m.\u001b[39;49m_call_api(func, \u001b[39m*\u001b[39;49margs_list, \u001b[39m*\u001b[39;49m\u001b[39m*\u001b[39;49mkwargs)\n\u001b[0;32m    590\u001b[0m \u001b[39mexcept\u001b[39;00m ErrorResponseException \u001b[39mas\u001b[39;00m e:\n",
      "File \u001b[1;32mc:\\Miniconda\\envs\\azure_automl_esml_v148\\lib\\site-packages\\azureml\\_restclient\\clientbase.py:245\u001b[0m, in \u001b[0;36mClientBase._call_api\u001b[1;34m(self, func, *args, **kwargs)\u001b[0m\n\u001b[0;32m    244\u001b[0m \u001b[39melse\u001b[39;00m:\n\u001b[1;32m--> 245\u001b[0m     \u001b[39mreturn\u001b[39;00m \u001b[39mself\u001b[39;49m\u001b[39m.\u001b[39;49m_execute_with_base_arguments(func, \u001b[39m*\u001b[39;49margs, \u001b[39m*\u001b[39;49m\u001b[39m*\u001b[39;49mkwargs)\n",
      "File \u001b[1;32mc:\\Miniconda\\envs\\azure_automl_esml_v148\\lib\\site-packages\\azureml\\_restclient\\clientbase.py:333\u001b[0m, in \u001b[0;36mClientBase._execute_with_base_arguments\u001b[1;34m(self, func, *args, **kwargs)\u001b[0m\n\u001b[0;32m    332\u001b[0m total_retry \u001b[39m=\u001b[39m \u001b[39m0\u001b[39m \u001b[39mif\u001b[39;00m \u001b[39mself\u001b[39m\u001b[39m.\u001b[39mretries \u001b[39m<\u001b[39m \u001b[39m0\u001b[39m \u001b[39melse\u001b[39;00m \u001b[39mself\u001b[39m\u001b[39m.\u001b[39mretries\n\u001b[1;32m--> 333\u001b[0m \u001b[39mreturn\u001b[39;00m ClientBase\u001b[39m.\u001b[39;49m_execute_func_internal(\n\u001b[0;32m    334\u001b[0m     back_off, total_retry, \u001b[39mself\u001b[39;49m\u001b[39m.\u001b[39;49m_logger, func, _noop_reset, \u001b[39m*\u001b[39;49margs, \u001b[39m*\u001b[39;49m\u001b[39m*\u001b[39;49mkwargs)\n",
      "File \u001b[1;32mc:\\Miniconda\\envs\\azure_automl_esml_v148\\lib\\site-packages\\azureml\\_restclient\\clientbase.py:367\u001b[0m, in \u001b[0;36mClientBase._execute_func_internal\u001b[1;34m(cls, back_off, total_retry, logger, func, reset_func, *args, **kwargs)\u001b[0m\n\u001b[0;32m    366\u001b[0m \u001b[39mexcept\u001b[39;00m \u001b[39mException\u001b[39;00m \u001b[39mas\u001b[39;00m error:\n\u001b[1;32m--> 367\u001b[0m     left_retry \u001b[39m=\u001b[39m \u001b[39mcls\u001b[39;49m\u001b[39m.\u001b[39;49m_handle_retry(back_off, left_retry, total_retry, error, logger, func)\n\u001b[0;32m    369\u001b[0m reset_func(\u001b[39m*\u001b[39margs, \u001b[39m*\u001b[39m\u001b[39m*\u001b[39mkwargs)\n",
      "File \u001b[1;32mc:\\Miniconda\\envs\\azure_automl_esml_v148\\lib\\site-packages\\azureml\\_restclient\\clientbase.py:426\u001b[0m, in \u001b[0;36mClientBase._handle_retry\u001b[1;34m(cls, back_off, left_retry, total_retry, error, logger, func)\u001b[0m\n\u001b[0;32m    425\u001b[0m     \u001b[39melif\u001b[39;00m error\u001b[39m.\u001b[39mresponse\u001b[39m.\u001b[39mstatus_code \u001b[39m<\u001b[39m \u001b[39m500\u001b[39m \u001b[39mand\u001b[39;00m error\u001b[39m.\u001b[39mresponse\u001b[39m.\u001b[39mstatus_code \u001b[39m!=\u001b[39m \u001b[39m408\u001b[39m:\n\u001b[1;32m--> 426\u001b[0m         \u001b[39mraise\u001b[39;00m error\n\u001b[0;32m    427\u001b[0m \u001b[39melif\u001b[39;00m \u001b[39misinstance\u001b[39m(error, ClientRequestError):\n",
      "File \u001b[1;32mc:\\Miniconda\\envs\\azure_automl_esml_v148\\lib\\site-packages\\azureml\\_restclient\\clientbase.py:358\u001b[0m, in \u001b[0;36mClientBase._execute_func_internal\u001b[1;34m(cls, back_off, total_retry, logger, func, reset_func, *args, **kwargs)\u001b[0m\n\u001b[0;32m    357\u001b[0m logger\u001b[39m.\u001b[39mdebug(\u001b[39m\"\u001b[39m\u001b[39mClientBase: Calling \u001b[39m\u001b[39m{}\u001b[39;00m\u001b[39m with url \u001b[39m\u001b[39m{}\u001b[39;00m\u001b[39m\"\u001b[39m\u001b[39m.\u001b[39mformat(func_name, func_url))\n\u001b[1;32m--> 358\u001b[0m response \u001b[39m=\u001b[39m func(\u001b[39m*\u001b[39;49margs, \u001b[39m*\u001b[39;49m\u001b[39m*\u001b[39;49mkwargs)\n\u001b[0;32m    359\u001b[0m \u001b[39mif\u001b[39;00m (\u001b[39misinstance\u001b[39m(response, Response) \u001b[39mand\u001b[39;00m \u001b[39mcls\u001b[39m\u001b[39m.\u001b[39m_is_retryable_status_code(response\u001b[39m.\u001b[39mstatus_code)\n\u001b[0;32m    360\u001b[0m         \u001b[39mand\u001b[39;00m left_retry \u001b[39m>\u001b[39m \u001b[39m0\u001b[39m):\n\u001b[0;32m    361\u001b[0m     \u001b[39m# This is the handle the error case 1. response.raise_for_status only throws HTTPError exception.\u001b[39;00m\n\u001b[0;32m    362\u001b[0m     \u001b[39m# if the status_code is retryable and it is not the last retry, then the exception is thrown.\u001b[39;00m\n\u001b[0;32m    363\u001b[0m     \u001b[39m# Otherwise, we will return the response directly.\u001b[39;00m\n",
      "File \u001b[1;32mc:\\Miniconda\\envs\\azure_automl_esml_v148\\lib\\site-packages\\azureml\\_restclient\\operations\\ml_models_operations.py:404\u001b[0m, in \u001b[0;36mMLModelsOperations.register\u001b[1;34m(self, subscription_id, resource_group, workspace, body, custom_headers, raw, **operation_config)\u001b[0m\n\u001b[0;32m    403\u001b[0m \u001b[39mif\u001b[39;00m response\u001b[39m.\u001b[39mstatus_code \u001b[39mnot\u001b[39;00m \u001b[39min\u001b[39;00m [\u001b[39m200\u001b[39m]:\n\u001b[1;32m--> 404\u001b[0m     \u001b[39mraise\u001b[39;00m models\u001b[39m.\u001b[39mModelErrorResponseException(\u001b[39mself\u001b[39m\u001b[39m.\u001b[39m_deserialize, response)\n\u001b[0;32m    406\u001b[0m deserialized \u001b[39m=\u001b[39m \u001b[39mNone\u001b[39;00m\n",
      "\u001b[1;31mModelErrorResponseException\u001b[0m: The request is invalid.",
      "\nDuring handling of the above exception, another exception occurred:\n",
      "\u001b[1;31mWebserviceException\u001b[0m                       Traceback (most recent call last)",
      "Cell \u001b[1;32mIn[6], line 1\u001b[0m\n\u001b[1;32m----> 1\u001b[0m model_registered_in_target \u001b[39m=\u001b[39m controller\u001b[39m.\u001b[39;49mregister_model(source_ws\u001b[39m=\u001b[39;49mp\u001b[39m.\u001b[39;49mws, target_env\u001b[39m=\u001b[39;49m\u001b[39m\"\u001b[39;49m\u001b[39mdev\u001b[39;49m\u001b[39m\"\u001b[39;49m, source_model\u001b[39m=\u001b[39;49mmodel, run\u001b[39m=\u001b[39;49mbest_run,esml_status\u001b[39m=\u001b[39;49mIESMLController\u001b[39m.\u001b[39;49mesml_status_promoted_2_dev, model_path\u001b[39m=\u001b[39;49m\u001b[39m'\u001b[39;49m\u001b[39moutputs/model.pkl\u001b[39;49m\u001b[39m'\u001b[39;49m)\n",
      "File \u001b[1;32mc:\\code\\esml-aifactory002-prj002\\notebook_templates_quickstart\\../azure-enterprise-scale-ml\\esmlrt\\interfaces\\iESMLController.py:1101\u001b[0m, in \u001b[0;36mIESMLController.register_model\u001b[1;34m(self, source_ws, target_env, source_model, run, esml_status, model_path, extra_model_tags)\u001b[0m\n\u001b[0;32m   1093\u001b[0m     experiment \u001b[39m=\u001b[39m dev_workspace\u001b[39m.\u001b[39mexperiments[\u001b[39mself\u001b[39m\u001b[39m.\u001b[39mexperiment_name]\n\u001b[0;32m   1094\u001b[0m     \u001b[39m#try:\u001b[39;00m\n\u001b[0;32m   1095\u001b[0m     \u001b[39m#    model_name = run.properties['model_name']\u001b[39;00m\n\u001b[0;32m   1096\u001b[0m     \u001b[39m#except Exception as e:\u001b[39;00m\n\u001b[1;32m   (...)\u001b[0m\n\u001b[0;32m   1099\u001b[0m \n\u001b[0;32m   1100\u001b[0m     \u001b[39m#print(\"registering model with name: {}, from run.\".format(model_name))\u001b[39;00m\n\u001b[1;32m-> 1101\u001b[0m     model_registered_in_target \u001b[39m=\u001b[39m \u001b[39mself\u001b[39;49m\u001b[39m.\u001b[39;49m_register_model_on_run(source_model,model_name,source_env,source_ws_name,run,experiment,esml_status,model_path,extra_model_tags)\n\u001b[0;32m   1102\u001b[0m \u001b[39melse\u001b[39;00m: \u001b[39m# fall back...\u001b[39;00m\n\u001b[0;32m   1103\u001b[0m     model_registered_in_target, model_source \u001b[39m=\u001b[39m \u001b[39mself\u001b[39m\u001b[39m.\u001b[39m_register_model_in_correct_workspace(\u001b[39m\"\u001b[39m\u001b[39mdev\u001b[39m\u001b[39m\"\u001b[39m, dev_workspace, \u001b[39m\"\u001b[39m\u001b[39mdev\u001b[39m\u001b[39m\"\u001b[39m,new_model\u001b[39m=\u001b[39mmodel,esml_status\u001b[39m=\u001b[39mesml_status)\n",
      "File \u001b[1;32mc:\\code\\esml-aifactory002-prj002\\notebook_templates_quickstart\\../azure-enterprise-scale-ml\\esmlrt\\interfaces\\iESMLController.py:1180\u001b[0m, in \u001b[0;36mIESMLController._register_model_on_run\u001b[1;34m(self, source_model_to_copy_tags_from, model_name, source_env, source_ws_name, remote_run, experiment, esml_status, model_path, extra_model_tags)\u001b[0m\n\u001b[0;32m   1178\u001b[0m model \u001b[39m=\u001b[39m \u001b[39mNone\u001b[39;00m\n\u001b[0;32m   1179\u001b[0m \u001b[39mif\u001b[39;00m(model_path \u001b[39mis\u001b[39;00m \u001b[39mnot\u001b[39;00m \u001b[39mNone\u001b[39;00m):\n\u001b[1;32m-> 1180\u001b[0m     model \u001b[39m=\u001b[39m remote_run\u001b[39m.\u001b[39;49mregister_model(model_name\u001b[39m=\u001b[39;49mmodel_name,model_path\u001b[39m=\u001b[39;49mmodel_path, tags\u001b[39m=\u001b[39;49mtags, description\u001b[39m=\u001b[39;49m\u001b[39m\"\u001b[39;49m\u001b[39m\"\u001b[39;49m) \u001b[39m# Works, if manual ML you need to specify path where you saved model.\u001b[39;00m\n\u001b[0;32m   1181\u001b[0m \u001b[39melse\u001b[39;00m:\n\u001b[0;32m   1182\u001b[0m     model \u001b[39m=\u001b[39m remote_run\u001b[39m.\u001b[39mregister_model(model_name\u001b[39m=\u001b[39mmodel_name, tags\u001b[39m=\u001b[39mtags, description\u001b[39m=\u001b[39m\u001b[39m\"\u001b[39m\u001b[39m\"\u001b[39m) \u001b[39m# Works. If AutoML, pass the MAIN_RUN of AutoML that has AutoMLSettings property\u001b[39;00m\n",
      "File \u001b[1;32mc:\\Miniconda\\envs\\azure_automl_esml_v148\\lib\\site-packages\\azureml\\core\\run.py:2275\u001b[0m, in \u001b[0;36mRun.register_model\u001b[1;34m(self, model_name, model_path, tags, properties, model_framework, model_framework_version, description, datasets, sample_input_dataset, sample_output_dataset, resource_configuration, **kwargs)\u001b[0m\n\u001b[0;32m   2235\u001b[0m \u001b[39m\"\"\"Register a model for operationalization.\u001b[39;00m\n\u001b[0;32m   2236\u001b[0m \n\u001b[0;32m   2237\u001b[0m \u001b[39m.. remarks::\u001b[39;00m\n\u001b[1;32m   (...)\u001b[0m\n\u001b[0;32m   2272\u001b[0m \u001b[39m:rtype: azureml.core.model.Model\u001b[39;00m\n\u001b[0;32m   2273\u001b[0m \u001b[39m\"\"\"\u001b[39;00m\n\u001b[0;32m   2274\u001b[0m model_name_validation(model_name)\n\u001b[1;32m-> 2275\u001b[0m \u001b[39mreturn\u001b[39;00m \u001b[39mself\u001b[39;49m\u001b[39m.\u001b[39;49m_client\u001b[39m.\u001b[39;49mregister_model(\n\u001b[0;32m   2276\u001b[0m     model_name, model_path, tags, properties, model_framework, model_framework_version,\n\u001b[0;32m   2277\u001b[0m     description\u001b[39m=\u001b[39;49mdescription, datasets\u001b[39m=\u001b[39;49mdatasets, unpack\u001b[39m=\u001b[39;49m\u001b[39mFalse\u001b[39;49;00m, sample_input_dataset\u001b[39m=\u001b[39;49msample_input_dataset,\n\u001b[0;32m   2278\u001b[0m     sample_output_dataset\u001b[39m=\u001b[39;49msample_output_dataset, resource_configuration\u001b[39m=\u001b[39;49mresource_configuration, \u001b[39m*\u001b[39;49m\u001b[39m*\u001b[39;49mkwargs)\n",
      "File \u001b[1;32mc:\\Miniconda\\envs\\azure_automl_esml_v148\\lib\\site-packages\\azureml\\_run_impl\\run_history_facade.py:486\u001b[0m, in \u001b[0;36mRunHistoryFacade.register_model\u001b[1;34m(self, model_name, model_path, tags, properties, model_framework, model_framework_version, asset_id, sample_input_dataset, sample_output_dataset, resource_configuration, **kwargs)\u001b[0m\n\u001b[0;32m    483\u001b[0m     properties \u001b[39m=\u001b[39m \u001b[39mself\u001b[39m\u001b[39m.\u001b[39m_merge_dict(tags, asset\u001b[39m.\u001b[39mtags)\n\u001b[0;32m    484\u001b[0m     properties \u001b[39m=\u001b[39m \u001b[39mself\u001b[39m\u001b[39m.\u001b[39m_merge_dict(properties, asset\u001b[39m.\u001b[39mproperties)\n\u001b[1;32m--> 486\u001b[0m model \u001b[39m=\u001b[39m Model\u001b[39m.\u001b[39;49m_register_with_asset(\u001b[39mself\u001b[39;49m\u001b[39m.\u001b[39;49m_experiment\u001b[39m.\u001b[39;49mworkspace, model_name, asset_id, tags\u001b[39m=\u001b[39;49mtags,\n\u001b[0;32m    487\u001b[0m                                    properties\u001b[39m=\u001b[39;49mproperties, experiment_name\u001b[39m=\u001b[39;49m\u001b[39mself\u001b[39;49m\u001b[39m.\u001b[39;49m_experiment\u001b[39m.\u001b[39;49mname,\n\u001b[0;32m    488\u001b[0m                                    run_id\u001b[39m=\u001b[39;49m\u001b[39mself\u001b[39;49m\u001b[39m.\u001b[39;49m_run_id, model_framework\u001b[39m=\u001b[39;49mmodel_framework,\n\u001b[0;32m    489\u001b[0m                                    model_framework_version\u001b[39m=\u001b[39;49mmodel_framework_version,\n\u001b[0;32m    490\u001b[0m                                    sample_input_dataset\u001b[39m=\u001b[39;49msample_input_dataset,\n\u001b[0;32m    491\u001b[0m                                    sample_output_dataset\u001b[39m=\u001b[39;49msample_output_dataset,\n\u001b[0;32m    492\u001b[0m                                    resource_configuration\u001b[39m=\u001b[39;49mresource_configuration, \u001b[39m*\u001b[39;49m\u001b[39m*\u001b[39;49mkwargs)\n\u001b[0;32m    493\u001b[0m \u001b[39mreturn\u001b[39;00m model\n",
      "File \u001b[1;32mc:\\Miniconda\\envs\\azure_automl_esml_v148\\lib\\site-packages\\azureml\\core\\model.py:1167\u001b[0m, in \u001b[0;36mModel._register_with_asset\u001b[1;34m(workspace, model_name, asset_id, tags, properties, description, experiment_name, run_id, datasets, model_framework, model_framework_version, unpack, sample_input_dataset, sample_output_dataset, resource_configuration)\u001b[0m\n\u001b[0;32m   1164\u001b[0m     resource_configuration \u001b[39m=\u001b[39m resource_configuration\u001b[39m.\u001b[39mserialize()\n\u001b[0;32m   1166\u001b[0m models_client \u001b[39m=\u001b[39m ModelsClient(workspace\u001b[39m.\u001b[39mservice_context)\n\u001b[1;32m-> 1167\u001b[0m model_dto \u001b[39m=\u001b[39m models_client\u001b[39m.\u001b[39;49mregister_model(name\u001b[39m=\u001b[39;49mmodel_name, tags\u001b[39m=\u001b[39;49mtags, properties\u001b[39m=\u001b[39;49mproperties, url\u001b[39m=\u001b[39;49masset_url,\n\u001b[0;32m   1168\u001b[0m                                          framework\u001b[39m=\u001b[39;49mmodel_framework, framework_version\u001b[39m=\u001b[39;49mmodel_framework_version,\n\u001b[0;32m   1169\u001b[0m                                          unpack\u001b[39m=\u001b[39;49munpack, experiment_name\u001b[39m=\u001b[39;49mexperiment_name, run_id\u001b[39m=\u001b[39;49mrun_id,\n\u001b[0;32m   1170\u001b[0m                                          datasets\u001b[39m=\u001b[39;49mdatasets_payload,\n\u001b[0;32m   1171\u001b[0m                                          sample_input_data\u001b[39m=\u001b[39;49msample_input_dataset_id,\n\u001b[0;32m   1172\u001b[0m                                          sample_output_data\u001b[39m=\u001b[39;49msample_output_dataset_id,\n\u001b[0;32m   1173\u001b[0m                                          description\u001b[39m=\u001b[39;49mdescription, resource_requirements\u001b[39m=\u001b[39;49mresource_configuration)\n\u001b[0;32m   1175\u001b[0m \u001b[39mreturn\u001b[39;00m Model(workspace\u001b[39m=\u001b[39mworkspace, _model_dto\u001b[39m=\u001b[39mmodel_dto)\n",
      "File \u001b[1;32mc:\\Miniconda\\envs\\azure_automl_esml_v148\\lib\\site-packages\\azureml\\_restclient\\models_client.py:42\u001b[0m, in \u001b[0;36mModelsClient.error_with_model_param_handling.<locals>.wrapper\u001b[1;34m(self, *args, **kwargs)\u001b[0m\n\u001b[0;32m     40\u001b[0m     \u001b[39mreturn\u001b[39;00m func(\u001b[39mself\u001b[39m, \u001b[39m*\u001b[39margs, \u001b[39m*\u001b[39m\u001b[39m*\u001b[39mkwargs)\n\u001b[0;32m     41\u001b[0m \u001b[39mexcept\u001b[39;00m ModelErrorResponseException \u001b[39mas\u001b[39;00m ex:\n\u001b[1;32m---> 42\u001b[0m     \u001b[39mreturn\u001b[39;00m ModelsClient\u001b[39m.\u001b[39;49mmodel_error_response_to_webservice_exception(ex, \u001b[39m*\u001b[39;49m\u001b[39m*\u001b[39;49mkwargs)\n",
      "File \u001b[1;32mc:\\Miniconda\\envs\\azure_automl_esml_v148\\lib\\site-packages\\azureml\\_restclient\\models_client.py:114\u001b[0m, in \u001b[0;36mModelsClient.model_error_response_to_webservice_exception\u001b[1;34m(ex, **kwargs)\u001b[0m\n\u001b[0;32m    110\u001b[0m     error_message \u001b[39m=\u001b[39m populate_model_not_found_details(\u001b[39m*\u001b[39m\u001b[39m*\u001b[39mkwargs)\n\u001b[0;32m    112\u001b[0m     \u001b[39mraise\u001b[39;00m WebserviceException(error_message, logger\u001b[39m=\u001b[39mmodule_logger)\n\u001b[1;32m--> 114\u001b[0m \u001b[39mraise\u001b[39;00m WebserviceException(\u001b[39m'\u001b[39m\u001b[39mReceived bad response from Model Management Service:\u001b[39m\u001b[39m\\n\u001b[39;00m\u001b[39m'\u001b[39m\n\u001b[0;32m    115\u001b[0m                           \u001b[39m'\u001b[39m\u001b[39mResponse Code: \u001b[39m\u001b[39m{}\u001b[39;00m\u001b[39m\\n\u001b[39;00m\u001b[39m'\u001b[39m\n\u001b[0;32m    116\u001b[0m                           \u001b[39m'\u001b[39m\u001b[39mCorrelation: \u001b[39m\u001b[39m{}\u001b[39;00m\u001b[39m\\n\u001b[39;00m\u001b[39m'\u001b[39m\n\u001b[0;32m    117\u001b[0m                           \u001b[39m'\u001b[39m\u001b[39mContent: \u001b[39m\u001b[39m{}\u001b[39;00m\u001b[39m'\u001b[39m\u001b[39m.\u001b[39mformat(ex\u001b[39m.\u001b[39merror\u001b[39m.\u001b[39mstatus_code, ex\u001b[39m.\u001b[39merror\u001b[39m.\u001b[39mcorrelation, ex\u001b[39m.\u001b[39merror\u001b[39m.\u001b[39mdetails),\n\u001b[0;32m    118\u001b[0m                           logger\u001b[39m=\u001b[39mmodule_logger)\n",
      "\u001b[1;31mWebserviceException\u001b[0m: WebserviceException:\n\tMessage: Received bad response from Model Management Service:\nResponse Code: 400\nCorrelation: {'operation': '0b0c23f10e9feea1b331bf65405946ef', 'request': '830d14e319f6449c', 'RequestId': '830d14e319f6449c'}\nContent: [<azureml._restclient.models.error_details.ErrorDetails object at 0x000002A8E9D7ED90>]\n\tInnerException None\n\tErrorResponse \n{\n    \"error\": {\n        \"message\": \"Received bad response from Model Management Service:\\nResponse Code: 400\\nCorrelation: {'operation': '0b0c23f10e9feea1b331bf65405946ef', 'request': '830d14e319f6449c', 'RequestId': '830d14e319f6449c'}\\nContent: [<azureml._restclient.models.error_details.ErrorDetails object at 0x000002A8E9D7ED90>]\"\n    }\n}"
     ]
    }
   ],
   "source": [
    "\n",
    "#model_registered_in_target = controller.register_model(source_ws=p.ws, target_env=\"dev\", source_model=model, run=best_run,esml_status=IESMLController.esml_status_promoted_2_dev, model_path='outputs/model.pkl')\n",
    "\n",
    "'''\n",
    "{\n",
    "    \"error\": {\n",
    "        \"message\": \"Received bad response from Model Management Service:\\nResponse Code: 400\\nCorrelation: {'operation': '0b0c23f10e9feea1b331bf65405946ef', 'request': '830d14e319f6449c', 'RequestId': '830d14e319f6449c'}\\nContent: [<azureml._restclient.models.error_details.ErrorDetails object at 0x000002A8E9D7ED90>]\"\n",
    "    }\n",
    "}\n",
    "'''"
   ]
  },
  {
   "cell_type": "code",
   "execution_count": 18,
   "metadata": {},
   "outputs": [
    {
     "name": "stdout",
     "output_type": "stream",
     "text": [
      "...\n",
      "ESML info: get_test_scoring_regression: RUN exists, Model exists with name 11_diabetes_model_reg\n",
      "rmse is:57.08570225185653\n",
      "Replacing tag esml_time_updated -> 01/12/2023, 01:21:21 with esml_time_updated -> 01/12/2023, 01:21:21\n",
      "Replacing tag status_code -> esml_newly_trained with status_code -> esml_newly_trained\n",
      "Replacing tag mflow_stage -> None with mflow_stage -> None\n",
      "Replacing tag run_id -> AutoML_03534c53-e646-4372-8132-75e45d2fcaba_0 with run_id -> AutoML_03534c53-e646-4372-8132-75e45d2fcaba_0\n",
      "Replacing tag model_name -> 11_diabetes_model_reg with model_name -> 11_diabetes_model_reg\n",
      "Replacing tag trained_in_environment -> dev with trained_in_environment -> dev\n",
      "Replacing tag trained_in_workspace -> aml-prj001-weu-DEV-001 with trained_in_workspace -> aml-prj001-weu-DEV-001\n",
      "Replacing tag experiment_name -> 11_diabetes_model_reg with experiment_name -> 11_diabetes_model_reg\n",
      "Replacing tag trained_with -> AutoMLRun with trained_with -> AutoMLRun\n",
      "Replacing tag test_set_RMSE -> 57.085702 with test_set_RMSE -> 57.085702\n",
      "Replacing tag test_set_R2 -> 0.321046 with test_set_R2 -> 0.321046\n",
      "Replacing tag test_set_MAPE -> 0.272820 with test_set_MAPE -> 0.272820\n",
      "Replacing tag test_set_Spearman_Correlation -> 0.593598 with test_set_Spearman_Correlation -> 0.593598\n",
      "Replacing tag ml_type -> regression with ml_type -> regression\n",
      "Model tag add operation complete.\n"
     ]
    },
    {
     "data": {
      "image/png": "[encoded data removed]",
      "text/plain": [
       "<Figure size 1000x700 with 1 Axes>"
      ]
     },
     "metadata": {},
     "output_type": "display_data"
    }
   ],
   "source": [
    "run = best_run.parent # Since AutoML. If manual, then keep best_run since no parent\n",
    "model, val_1, val_2, val_3,val_4,val_5,reg_plt_6, val_7,class_plt_8 = controller.ESMLTestScoringFactory.get_test_scoring_8(\n",
    "    p.ws,\n",
    "    p.active_model[\"label\"],\n",
    "    p.GoldTest,\n",
    "    fitted_model,\n",
    "    run, # run or best_run\n",
    "    model)"
   ]
  },
  {
   "cell_type": "code",
   "execution_count": 19,
   "metadata": {},
   "outputs": [
    {
     "name": "stdout",
     "output_type": "stream",
     "text": [
      "RMSE = 57.08570225185653\n",
      "R2 = 0.32104609233321757\n",
      "MAPE = 0.32104609233321757\n",
      "MAE = 0.27282048085206756\n",
      "Spearman correlation = 45.332440980500316\n"
     ]
    }
   ],
   "source": [
    "controller.ESMLTestScoringFactory.print_test_scoring(val_1, val_2, val_2, val_3,val_4,val_5,reg_plt_6,val_7)"
   ]
  },
  {
   "attachments": {},
   "cell_type": "markdown",
   "metadata": {},
   "source": [
    "## 6) Compare - INNER LOOP & Register with PROMOTED status, if better\n",
    " - Better than other in DEV?"
   ]
  },
  {
   "cell_type": "code",
   "execution_count": 20,
   "metadata": {},
   "outputs": [
    {
     "name": "stdout",
     "output_type": "stream",
     "text": [
      "AutoML_03534c53-e646-4372-8132-75e45d2fcaba\n",
      "AutoML_03534c53-e646-4372-8132-75e45d2fcaba\n"
     ]
    }
   ],
   "source": [
    "if(best_run is not None):\n",
    "    print(best_run.parent.id)\n",
    "if(run is not None):    \n",
    "    print(run.id)"
   ]
  },
  {
   "cell_type": "code",
   "execution_count": 21,
   "metadata": {},
   "outputs": [
    {
     "name": "stdout",
     "output_type": "stream",
     "text": [
      "ESML INFO:ModelCompare: new_model is None, but new_run_id is set - trying to fetch model via hydrating RUN and model_name property\n",
      "SOURCE: Trying to hydrate RUN, since DEV environment.\n",
      "ESML INFO: try: automl_run or notebook_automl\n",
      "Experiment name: 11_diabetes_model_reg\n",
      "ws name: aml-prj001-weu-DEV-001\n",
      "run_id: AutoML_03534c53-e646-4372-8132-75e45d2fcaba\n",
      " ## ESML: AutoMLRun? \n",
      " ## ESML: AutoMLRun = TRUE\n",
      "Run, best_run, fitted_model is now hydrated:\n",
      "ESML: best_run.id AutoML_03534c53-e646-4372-8132-75e45d2fcaba_0\n",
      "ESML: run.id AutoML_03534c53-e646-4372-8132-75e45d2fcaba\n",
      "ESML test_model NAME: 11_diabetes_model_reg\n",
      "ESML test_model NAME: 1\n",
      "Searching with Model list LAMBDA FILTER, on experiment_name in Model.tags called: 11_diabetes_model_reg . Meaning ESML checks for both Notebook run (AutoMLRun, Run) and PipelineRuns (AutoMLStep, PipelineRun)\n",
      "E.g. Even if Pipeline experiment is called '11_diabetes_model_reg_IN_2_GOLD_TRAIN' it will be included, since original model_folder_name in ESML is '11_diabetes_model_reg' as a notebook Run experiment name. Both is included in search\n",
      "Filter search, minutes: 0.07297035058339436\n",
      "- source_model.name:11_diabetes_model_reg and version:1\n",
      "- source_model.tags[status_code] esml_newly_trained \n",
      "ESML INFO:ModelCompare:201:Source challenging model, name 11_diabetes_model_reg\n",
      "Run ID TAG: source_model.tags[run_id] AutoML_03534c53-e646-4372-8132-75e45d2fcaba_0\n",
      "Searching with Model list LAMBDA FILTER, on experiment_name in Model.tags called: 11_diabetes_model_reg . Meaning ESML checks for both Notebook run (AutoMLRun, Run) and PipelineRuns (AutoMLStep, PipelineRun)\n",
      "E.g. Even if Pipeline experiment is called '11_diabetes_model_reg_IN_2_GOLD_TRAIN' it will be included, since original model_folder_name in ESML is '11_diabetes_model_reg' as a notebook Run experiment name. Both is included in search\n",
      "Filter search, minutes: 0.06354830265045167\n",
      "ESML INFO:ModelCompare:202:Target challenging model, name 11_diabetes_model_reg\n",
      "ESML INFO:102:TARGET: Trying to hydrate RUN, since DEV environment is TARGET. INNER LOOP\n",
      "ESML Info: get_safe_automl_parent_run_id() did remove child _0 to get PARENT RUN, needed for rehydration of RUN\n",
      "ESML INFO: try: automl_run or notebook_automl\n",
      "Experiment name: 11_diabetes_model_reg\n",
      "ws name: aml-prj001-weu-DEV-001\n",
      "run_id: AutoML_03534c53-e646-4372-8132-75e45d2fcaba\n",
      " ## ESML: AutoMLRun? \n",
      " ## ESML: AutoMLRun = TRUE\n",
      "New trained model source run_id: AutoML_03534c53-e646-4372-8132-75e45d2fcaba\n",
      "\n",
      "Q: Do we have SCORING DRIFT / CONCEPT DRIFT? - Is a model trained on NEW data better? = the one in production degraded?\n",
      "\n",
      "New trained model: model id 11_diabetes_model_reg:1\n",
      "INFO: Using ESML TEST_SET SCORING, since tagged on MODEL - using this to compare SCORING\n",
      "RMSE (normalized_root_mean_squared_error): 57.085702\n",
      "MAPE (Mean average Percentage Error): 0.272820\n",
      "MAE (normalized_mean_absolute_error): -1\n",
      "R2 (r2_score): 0.321046\n",
      "Spearman (spearman_correlation): 0.593598\n",
      "\n",
      "Target model, to compare with. model id 11_diabetes_model_reg:1\n",
      "INFO: Using ESML TEST_SET SCORING, since tagged on MODEL - using this to compare SCORING\n",
      "RMSE (normalized_root_mean_squared_error): 57.085702\n",
      "MAPE (Mean average Percentage Error): 0.272820\n",
      "MAE (normalized_mean_absolute_error): -1\n",
      "R2 (r2_score): 0.321046\n",
      "Spearman (spearman_correlation): 0.593598\n",
      "\n",
      "Selected metrics, and weights, to be used when comparing for promotion/scoring drift\n",
      "Metric weight: RMSE_promote_weight is 0.3000\n",
      "Metric VALUE (incl. weight) 56.7857 (without weight:  57.0857)\n",
      "\n",
      "Metric weight: R2_promote_weight is -0.5000\n",
      "Metric VALUE (incl. weight) 0.8210 (without weight:  0.3210)\n",
      "\n",
      "Metric weight: Spearman_promote_weight is -0.3000\n",
      "Metric VALUE (incl. weight) 0.8936 (without weight:  0.5936)\n",
      "\n",
      "\n",
      "Promote model = True\n",
      "Correct RUN found. Parent run.\n",
      "INNER LOOP (dev->dev) - PROMOTE?\n",
      "Connecting to env: dev\n",
      "- ws name: aml-prj001-weu-DEV-001\n",
      "- self._secret_name_tenant: esml-tenant-id\n",
      "- self._secret_name_project_sp_id: esml-project-sp-id\n",
      "- self._secret_name_project_sp_secret: esml-project-sp-secret\n",
      "Connecting to env: dev\n",
      "- ws name: aml-prj001-weu-DEV-001\n",
      "- self._secret_name_tenant: esml-tenant-id\n",
      "- self._secret_name_project_sp_id: esml-project-sp-id\n",
      "- self._secret_name_project_sp_secret: esml-project-sp-secret\n",
      "model_name at remote_run.register_model:  11_diabetes_model_reg\n",
      "model_path (will override model_name when register) at remote_run.register_model:  None\n",
      "model.version 2\n",
      "Model name 11_diabetes_model_reg is registered.\n",
      "Promoted model! in environment dev\n"
     ]
    }
   ],
   "source": [
    "from esmlrt.interfaces.iESMLController import IESMLController\n",
    "\n",
    "dev_ws = p.ws\n",
    "esml_current_env = \"dev\"\n",
    "next_environment=\"dev\"\n",
    "#target_ws = controller.get_target_workspace(current_environment = esml_current_env, current_ws = dev_ws, target_environment = esml_current_env)\n",
    "target_ws = dev_ws\n",
    "\n",
    "if(run is None):\n",
    "    run_id = best_run.parent.id # This is set if you just ran the TRAIN cell in this notebook. AutoMLRun in notebook - we need its parent.\n",
    "else:\n",
    "    run_id = run.id # Rehydrated run=parent which is set in a CELL above in this noteboo you may use. If not having a fresh training in RAM.\n",
    "\n",
    "run_id = IESMLController.get_safe_automl_parent_run_id(run_id)\n",
    "promote_new_model,source_model_name,source_run_id,source_best_run,source_model,leading_model = controller.ESMLComparer.compare_scoring_current_vs_new_model(\n",
    "    new_run_id = run_id,#run_id_tag, #automl_step_run_id,\n",
    "    new_model = None,\n",
    "    model_name = model.name,\n",
    "    current_ws = dev_ws,\n",
    "    current_environment = esml_current_env,\n",
    "    target_environment = next_environment,\n",
    "    target_workspace = target_ws,\n",
    "    experiment_name = controller.experiment_name)\n",
    "\n",
    "if(source_best_run.id == run_id):\n",
    "    print(\"Correct RUN found. Parent run.\")\n",
    "\n",
    "print(\"INNER LOOP (dev->dev) - PROMOTE?\")\n",
    "if (promote_new_model == True): # Better than all in DEV/Curren environment?\n",
    "    model_registered_in_target = controller.register_model(source_ws=p.ws, target_env=esml_current_env, source_model=model, run=source_best_run,esml_status=IESMLController.esml_status_promoted_2_dev) \n",
    "    print(\"Promoted model! in environment {}\".format(esml_current_env))"
   ]
  },
  {
   "cell_type": "markdown",
   "metadata": {},
   "source": [
    "# END\n",
    "- Great job! Now you have trained a model, calculated test_set scoring, compared if it is better than leading model, registered the model if so. \n",
    "- Next step would be to create a PIPELINE that does all of this. \n",
    "    - In ESML this is as easy as running this See notebook [2_PRODUCTION_phase_TRAIN_Pipeline_M10_M11.ipynb](./1_quickstart/2_PRODUCTION_phase_TRAIN_Pipeline_M10_M11.ipynb)\n",
    "        - The only thing you need to change in the notebook is the `p.active_model=11` to correct model number `1` if your model has that number.\n",
    "            - See  [lake_settings.json](./settings/project_specific/model/lake_settings.json) to find YOUR model number."
   ]
  },
  {
   "cell_type": "markdown",
   "metadata": {},
   "source": [
    "#### DEBUG cell - before `PROMOTE model - INNER LOOP`\n",
    "- Purpose: Rehydrate Run"
   ]
  },
  {
   "cell_type": "markdown",
   "metadata": {},
   "source": [
    "from azureml.train.automl.run import AutoMLRun\n",
    "from azureml.core import Experiment\n",
    "id_1 = best_run.parent.id\n",
    "\n",
    "print(controller.experiment_name)\n",
    "print(id_1)\n",
    "exp = Experiment(p.ws,controller.experiment_name)\n",
    "\n",
    "run = AutoMLRun(experiment=exp, run_id=id_1)\n",
    "best_run, fitted_model = run.get_output()"
   ]
  },
  {
   "cell_type": "markdown",
   "metadata": {},
   "source": [
    "### DEBUG cell - after a TRAIN run\n",
    "- The train run, will generate a `temporary model_name (Azure ML will not update, when renamed at registration)`. The tag that Azure ML writes: `best_run.properties['model_name']`,this is NOT the correct model_name (since not same after REGISTRATION)\n",
    "- Why having your OWN model name? Since we in ESML want to \"lookup\" if a model name already exists, under same MODEL NAME - to collect all under same model name, but with versions. \n",
    "    - Aml may create a new random name under same experiment after a couple of runs. Hence good to have your own \"known\". Example: Stick with the 1st generated name AML creates for you.\n",
    "    - ESML also collects all models under same `experiment name TAG`, since you can TRAIN a model from a NOTEBOOK, or from a PIPELINE, and these will have different EXPERIMENT NAMES, hence using a TAG with a common name\n",
    "    - All and all for MLOps: This to be able to determing BEST promoted model, and LATEST challenger model"
   ]
  },
  {
   "cell_type": "markdown",
   "metadata": {},
   "source": [
    "from azureml.core import Model\n",
    "\n",
    "my_model_name_that_exists_in_registry = \"AutoMLd123123\" # Look in Model registry for a model name that exists\n",
    "\n",
    "print(best_run.id)\n",
    "model_name1 = best_run.properties['model_name']\n",
    "print(model_name1)\n",
    "\n",
    "try:\n",
    "    model_again = Model(p.ws, model_name1) # This will probably not be found, since this is not the registered models name, it only was the name temporary in the RUN..and is NOT updated when renamed.\n",
    "    print(model_again.name)\n",
    "except:\n",
    "    print(\"could not find a registered model with name {}. This is due we CUSTOMIZE the name, when register it. This is not updated on run.properties.\".format(model_name1))\n",
    "    model_again = Model(p.ws, my_model_name_that_exists_in_registry) \n",
    "    print(model_again.name)  \n"
   ]
  },
  {
   "cell_type": "markdown",
   "metadata": {},
   "source": [
    "## DEBUG cell - when SCORING pipeline runs, you pass MODEL VERSION, if VERSION=0...\n",
    "...then LATEST PROMOTED model is used to score with\n",
    "\n",
    "Below you can see how to HYDRATE the fitted_model, BEST_RUN and BEST_MODEL"
   ]
  },
  {
   "cell_type": "markdown",
   "metadata": {},
   "source": [
    "model_version_in_int = 0\n",
    "print(\"Fetching BEST MODEL that is promoted. To get its name\")\n",
    "current_model2,run_id_tag, model_name = IESMLController.get_best_model_via_modeltags_only_DevTestProd(p.ws,p.model_folder_name)\n",
    "\n",
    "if(current_model2 is None):\n",
    "    print(\"No existing model with experiment name {}. The Model name will now be same as experiment name\".format(p.model_folder_name))\n",
    "if(model_version_in_int == 0):\n",
    "    print(\"Initiating BEST MODEL - PROMOTED leading model (since model_version=0). Hydrating to get its run and fitted model.\")\n",
    "\n",
    "    run_id_2 = current_model2.tags.get(\"run_id\")\n",
    "    safe_run_id = IESMLController.get_safe_automl_parent_run_id(run_id_2)\n",
    "    run2,best_run2,fitted_model2 = IESMLController.init_run(p.ws,p.model_folder_name, safe_run_id)"
   ]
  }
 ],
 "metadata": {
  "kernelspec": {
   "display_name": "azure_automl_esml_v148",
   "language": "python",
   "name": "python3"
  },
  "language_info": {
   "codemirror_mode": {
    "name": "ipython",
    "version": 3
   },
   "file_extension": ".py",
   "mimetype": "text/x-python",
   "name": "python",
   "nbconvert_exporter": "python",
   "pygments_lexer": "ipython3",
   "version": "3.8.16"
  },
  "vscode": {
   "interpreter": {
    "hash": "4799850f3103fb5d9644ce9433832c953591f6eac3309b593d58ecf6d126f819"
   }
  }
 },
 "nbformat": 4,
 "nbformat_minor": 2
}
