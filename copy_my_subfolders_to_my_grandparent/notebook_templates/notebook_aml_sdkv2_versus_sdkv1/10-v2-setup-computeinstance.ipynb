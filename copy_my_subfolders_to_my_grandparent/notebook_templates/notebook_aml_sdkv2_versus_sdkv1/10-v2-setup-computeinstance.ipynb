{
 "cells": [
  {
   "cell_type": "markdown",
   "metadata": {},
   "source": [
    "# Pre requisites - INSTALL SDK + configure .env\n",
    "- Install Azure ML SDK v1.55 - recommended option is A) \n",
    "    - Option A) via ESML conda: Use conda/kernel in ESML: `azure_automl_esml_v155`, or kernel: `azure_automl_esml_v155_v155` (supports both SDK v1.55 and SDK v2 v 1.15)\n",
    "        - How to install: https://github.com/jostrm/azure-enterprise-scale-ml/blob/main/environment_setup/user_dev_env_install/01-install-azureml-sdk-v1+v2.md\n",
    "    - Option B) via Microsoft docs. Then you also need to pip install `%pip install -U python-dotenv`\n",
    "        - https://learn.microsoft.com/en-us/python/api/overview/azure/ml/install?view=azure-ml-py\n",
    "- Create an .env file, with the 3 variables: \n",
    "    - AZURE_CLIENT_ID - value from project specific keuvault for secret: `esml-project001-sp-id`\n",
    "    - AZURE_CLIENT_SECRET - value from project specific keuvault for secret: `esml-project001-sp-secret`\n",
    "    - AZURE_TENANT_ID - value from project specific keuvault for secret: `esml-tenant-id`\n"
   ]
  },
  {
   "cell_type": "markdown",
   "metadata": {},
   "source": [
    "# STATUS: Does NOT Work, since Azure ML SDK v2 \n",
    "- Error: It cannot talk private networking, hence the last cell will fail, creation of Compute Instance\n",
    "- Kernel/Conda: You need to use: `azure_automl_esml_v155_v155` (supports both SDK v1.55 and SDK v2 v 1.15), since SDK v2 in this notebook.\n",
    "- Use notebook  `10-v1-setup-computeinstance.ipynb` instead\n",
    "    - Which does same thing. But with Azure MLSDK v1"
   ]
  },
  {
   "cell_type": "markdown",
   "metadata": {},
   "source": [
    "### Pip these 3 cells, or not - depends if you did INSTALL SDK\n",
    "- If you have installed: \"azure-enterprise-scale-ml\\environment_setup\\user_dev_env_install\\AzureML_v1_55_and_v2_1_15\"\n",
    "    Then you dont need to run below PIP\n",
    "- If you have installed: \"azure-enterprise-scale-ml\\environment_setup\\user_dev_env_install\\AzureML_v1_55\"\n",
    "    - Then you need to run below PIP (3 cells)\n",
    "        - azure-ai-ml, azure-identity, python-dotenv\n"
   ]
  },
  {
   "cell_type": "markdown",
   "metadata": {},
   "source": [
    "%pip install azure-ai-ml"
   ]
  },
  {
   "cell_type": "markdown",
   "metadata": {},
   "source": [
    "%pip install azure-identity"
   ]
  },
  {
   "cell_type": "markdown",
   "metadata": {},
   "source": [
    "%pip install -U python-dotenv"
   ]
  },
  {
   "cell_type": "code",
   "execution_count": null,
   "metadata": {},
   "outputs": [],
   "source": [
    "subscription_id=\"guid\"\n",
    "resource_group_name=\"name\"\n",
    "workspace_name=\"name\"\n",
    "\n",
    "# TODO: CONFIGURE THIS\n",
    "project_number=\"1\"\n",
    "region_short = \"weu\"\n",
    "aifactory_environment = \"dev\" # dev,test,prod\n",
    "aifactory_prefix = \"dc-heroes\"\n",
    "\n",
    "sku_array = [\"Standard_DS11_v2\",\"STANDARD_NC24RS_V3\", \"Standard_D13_v2\"]\n",
    "compute_instance_sku = sku_array[0]\n",
    "compute_instance_suffix = \"01\"\n",
    "# TODO: CONFIGURE THIS\n",
    "\n",
    "# NO TOUCH: Auto, since convention:\n",
    "ai_factory_index = \"001\"\n",
    "resource_group_name=aifactory_prefix+\"-esml-project00\"+project_number+\"-\"+region_short+\"-\"+aifactory_environment+\"-\"+ai_factory_index+\"-rg\"\n",
    "resource_group_name_common=aifactory_prefix+\"-esml-common-\"+region_short+\"-\"+aifactory_environment+\"-\"+ai_factory_index\n",
    "workspace_name=\"aml-prj00\"+project_number+\"-\"+region_short+\"-\"+aifactory_environment+\"-\"+ai_factory_index\n",
    "vnet_name = \"vnt-esmlcmn-\"+region_short+\"-\"+aifactory_environment+\"-\"+ai_factory_index # vnt-esmlcmn-uks-dev-001\n",
    "subnet_name = \"snet-esml-cmn-001\"\n",
    "vnetId =  \"/\"+subscription_id+\"/resourceGroups/\"+resource_group_name_common+\"/providers/Microsoft.Network/virtualNetworks/\"+vnet_name+\"/subnets/\"\n",
    "subnet_fully_qualified = vnetId+subnet_name"
   ]
  },
  {
   "cell_type": "code",
   "execution_count": null,
   "metadata": {},
   "outputs": [],
   "source": [
    "print(resource_group_name)\n",
    "print(resource_group_name_common)\n",
    "print(workspace_name)\n",
    "print(vnet_name)\n",
    "print(subnet_fully_qualified)"
   ]
  },
  {
   "cell_type": "markdown",
   "metadata": {},
   "source": [
    "# Option A) Default or Interactive credential - FORCE refresh"
   ]
  },
  {
   "cell_type": "code",
   "execution_count": null,
   "metadata": {},
   "outputs": [],
   "source": [
    "from azure.ai.ml import MLClient\n",
    "from azure.identity import DefaultAzureCredential,InteractiveBrowserCredential\n",
    "\n",
    "credential = InteractiveBrowserCredential()\n",
    "\n",
    "#credential = DefaultAzureCredential()\n",
    "# Check if given credential can get token successfully.\n",
    "#credential.get_token(\"https://management.azure.com/.default\")\n",
    "\n",
    "ml_client = MLClient(\n",
    "    credential=credential,\n",
    "    subscription_id=subscription_id,\n",
    "    resource_group_name=resource_group_name,\n",
    "    workspace_name=workspace_name,\n",
    "    force_token_refresh=True\n",
    ")"
   ]
  },
  {
   "cell_type": "markdown",
   "metadata": {},
   "source": [
    "# Option B) Service principal"
   ]
  },
  {
   "cell_type": "code",
   "execution_count": null,
   "metadata": {},
   "outputs": [],
   "source": [
    "import os\n",
    "from dotenv import load_dotenv\n",
    "\n",
    "print(\"Loading environment variables from .env file\")\n",
    "load_dotenv(\".env\")\n",
    "\n",
    "from azure.identity import DefaultAzureCredential\n",
    "\n",
    "credential = DefaultAzureCredential()\n",
    "# Check if given credential can get token successfully.\n",
    "credential.get_token(\"https://management.azure.com/.default\")"
   ]
  },
  {
   "cell_type": "markdown",
   "metadata": {},
   "source": [
    "# After option a,b or c the below LOGIN code can be used"
   ]
  },
  {
   "cell_type": "code",
   "execution_count": null,
   "metadata": {},
   "outputs": [],
   "source": [
    "from azure.ai.ml import MLClient\n",
    "try:\n",
    "    ml_client = MLClient.from_config(credential=credential)\n",
    "except Exception as ex:\n",
    "    # NOTE: Update following workspace information to contain\n",
    "    #       your subscription ID, resource group name, and workspace name\n",
    "    client_config = {\n",
    "        \"subscription_id\": subscription_id,\n",
    "        \"resource_group\": resource_group_name,\n",
    "        \"workspace_name\": workspace_name,\n",
    "    }\n",
    "\n",
    "    # write and reload from config file\n",
    "    import json, os\n",
    "\n",
    "    config_path = \"../.azureml/config.json\"\n",
    "    os.makedirs(os.path.dirname(config_path), exist_ok=True)\n",
    "    with open(config_path, \"w\") as fo:\n",
    "        fo.write(json.dumps(client_config))\n",
    "    ml_client = MLClient.from_config(credential=credential, path=config_path)\n",
    "\n",
    "print(ml_client)"
   ]
  },
  {
   "cell_type": "markdown",
   "metadata": {},
   "source": [
    "# COMPUTE INSTANCE: No vnet, since SDK v2, only in SDK v1 this works\n",
    "\n",
    "## Workarounds\n",
    "- In AML SDK v1, we can specify another resource group where the vNet resides.\n",
    "- Using Azure CLI, we can borrow the SUBNET parameter, and pass fully qualified name, which will override vNet \n",
    "    - Name of the subnet. Can also reference a subnet in an existing vnet by ID instead of name. \n",
    "    - If subnet ID is specified then vnet-name will be ignored. Subnet ID can refer to a vnet/subnet in another RG by specifying the fully qualified subnet ID. Required when vnet name is specified.\n",
    "(In SDK v2 the AML workspace and the vNet need to be in the same Resource group (which rarely is the case...)"
   ]
  },
  {
   "cell_type": "code",
   "execution_count": null,
   "metadata": {},
   "outputs": [],
   "source": [
    "# Compute Instances need to have a unique name across the region.\n",
    "# Here we create a unique name with current datetime\n",
    "from azure.ai.ml.entities import ComputeInstance, AmlCompute\n",
    "import datetime\n",
    "\n",
    "ci_basic_name = \"p\"+project_number+\"-m\"+compute_instance_suffix+\"-xyz-dev-ci\"+compute_instance_suffix # + datetime.datetime.now().strftime(\"%Y%m%d%H%M\")\n",
    "\n",
    "ci_basic = ComputeInstance(name=ci_basic_name, size=compute_instance_sku)\n",
    "ml_client.begin_create_or_update(ci_basic).result()\n",
    "\n",
    "# Note that idle_time_before_shutdown has been deprecated.\n",
    "ComputeInstance(name=ci_basic_name, size=compute_instance_sku, idle_time_before_shutdown_minutes=\"30\")"
   ]
  },
  {
   "cell_type": "markdown",
   "metadata": {},
   "source": [
    "# COMPUTE INSTANCE: vNet secure, since below is SDK v1m"
   ]
  },
  {
   "cell_type": "code",
   "execution_count": null,
   "metadata": {},
   "outputs": [],
   "source": [
    "from azure.ai.ml.entities import ComputeInstance, AmlCompute, ComputeSchedules, ComputeStartStopSchedule, RecurrenceTrigger, RecurrencePattern\n",
    "from azure.ai.ml.constants import TimeZone\n",
    "import datetime\n",
    "from azure.ai.ml.entities import NetworkSettings\n",
    "from azure.ai.ml.entities import Schedule\n",
    "\n",
    "# Compute Instances need to have a unique name across the region.\n",
    "ci_basic_name = \"p00\"+project_number+\"-m01-pggpu-dev-ci\"+compute_instance_suffix # + datetime.datetime.now().strftime(\"%Y%m%d%H%M\")\n",
    "\n",
    "ci_minimal_name = \"ci-shutdown-all-days\"\n",
    "ci_start_time = \"2024-04-01T20:00:00\" #specify your stop time in the format yyyy-mm-ddThh:mm:ss. interval=1 (every day) interval=2 (every other day)\n",
    "rec_trigger = RecurrenceTrigger(start_time=ci_start_time, time_zone=TimeZone.CENTRAL_EUROPE_STANDARD_TIME, frequency=\"week\", interval=1, schedule=RecurrencePattern(week_days=[\"monday\",\"tuesday\",\"wednesday\",\"thursday\",\"friday\", \"saturday\", \"sunday\"], hours=15, minutes=[30]))\n",
    "myschedule = ComputeStartStopSchedule(trigger=rec_trigger, action=\"stop\")\n",
    "com_sch = ComputeSchedules(compute_start_stop=[myschedule])\n",
    "\n",
    "nw_settings = NetworkSettings(vnet_name=vnet_name, subnet=subnet_fully_qualified)\n",
    "\n",
    "ci_basic = ComputeInstance(name=ci_basic_name, size=compute_instance_sku, ssh_public_access_enabled=False,network_settings=nw_settings,enable_node_public_ip=False, idle_time_before_shutdown_minutes=30, schedules=com_sch)\n",
    "ml_client.begin_create_or_update(ci_basic).result()\n",
    "\n",
    "# Note that idle_time_before_shutdown has been deprecated.\n",
    "ComputeInstance(name=ci_basic_name, size=compute_instance_sku, idle_time_before_shutdown_minutes=\"30\")"
   ]
  }
 ],
 "metadata": {
  "kernelspec": {
   "display_name": "azure_automl_esml_v155_v115",
   "language": "python",
   "name": "python3"
  },
  "language_info": {
   "name": "python",
   "version": "3.9.19"
  }
 },
 "nbformat": 4,
 "nbformat_minor": 2
}
