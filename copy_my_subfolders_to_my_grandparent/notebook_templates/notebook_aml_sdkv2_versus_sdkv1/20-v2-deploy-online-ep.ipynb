{
 "cells": [
  {
   "cell_type": "markdown",
   "metadata": {},
   "source": [
    "- Pre requisites\n",
    "    - Install Azure ML SDK v1.55 - recommended option is A) \n",
    "        - Option A) via ESML conda: Use conda/kernel in ESML: `azure_automl_esml_v155`, or kernel: `azure_automl_esml_v155_v155` (supports both SDK v1.55 and SDK v2 v 1.15)\n",
    "            - How to install: https://github.com/jostrm/azure-enterprise-scale-ml/blob/main/environment_setup/user_dev_env_install/Readme_Install_VSCode_or_ComputeInstance.md\n",
    "        - Option B) via Microsoft docs. Then you also need to pip install `%pip install -U python-dotenv`\n",
    "            - https://learn.microsoft.com/en-us/python/api/overview/azure/ml/install?view=azure-ml-py\n",
    "    - Create an .env file, with the 3 variables: \n",
    "        - AZURE_CLIENT_ID - The client ID returned when you created the service principal.\n",
    "        - AZURE_TENANT_ID - The tenant ID returned when you created the service principal.\n",
    "        - AZURE_CLIENT_SECRET - The password/credential generated for the service principal."
   ]
  },
  {
   "cell_type": "markdown",
   "metadata": {},
   "source": [
    "## pip install Azure ML SDK v2 (v1.15) or not? \n",
    "- If you have installed: \"azure-enterprise-scale-ml\\environment_setup\\user_dev_env_install\\AzureML_v1_55_and_v2_1_15\"\n",
    "    Then you dont need to run below PIP\n",
    "- If you have installed: \"azure-enterprise-scale-ml\\environment_setup\\user_dev_env_install\\AzureML_v1_55\"\n",
    "    - Then you need to run below PIP (3 cells)\n",
    "        - azure-ai-ml, azure-identity, python-dotenv\n"
   ]
  },
  {
   "cell_type": "markdown",
   "metadata": {},
   "source": [
    "%pip install azure-ai-ml"
   ]
  },
  {
   "cell_type": "markdown",
   "metadata": {},
   "source": [
    "%pip install azure-identity"
   ]
  },
  {
   "cell_type": "markdown",
   "metadata": {},
   "source": [
    "%pip install -U python-dotenv"
   ]
  },
  {
   "cell_type": "code",
   "execution_count": null,
   "metadata": {},
   "outputs": [],
   "source": [
    "# TODO: CONFIGURE THIS\n",
    "project_number=\"1\"\n",
    "region_short = \"weu\"\n",
    "aifactory_environment = \"dev\" # dev,test,prod\n",
    "aifactory_prefix = \"ab-cbe\"\n",
    "\n",
    "sku_array = [\"Standard_DS11_v2\",\"STANDARD_NC24RS_V3\", \"Standard_D13_v2\"]\n",
    "compute_instance_sku = sku_array[0]\n",
    "compute_instance_suffix = \"01\"\n",
    "# TODO: CONFIGURE THIS\n",
    "\n",
    "# NO TOUCH: Auto, since convention:\n",
    "ai_factory_index = \"001\"\n",
    "aml_instance  =\"001\"\n",
    "subscription_id = \"guid\"\n",
    "resource_group_name=aifactory_prefix+\"-esml-project00\"+project_number+\"-\"+region_short+\"-\"+aifactory_environment+\"-\"+ai_factory_index+\"-rg\"\n",
    "resource_group_name_common=aifactory_prefix+\"-esml-common-\"+region_short+\"-\"+aifactory_environment+\"-\"+ai_factory_index\n",
    "workspace_name=\"aml-prj00\"+project_number+\"-\"+region_short+\"-\"+aifactory_environment+\"-\"+aml_instance\n",
    "vnet_name = \"vnt-esmlcmn-\"+region_short+\"-\"+aifactory_environment+\"-\"+ai_factory_index # vnt-esmlcmn-uks-dev-001\n",
    "subnet_name = \"snet-esml-cmn-001\"\n",
    "vnetId =  \"/\"+subscription_id+\"/resourceGroups/\"+resource_group_name_common+\"/providers/Microsoft.Network/virtualNetworks/\"+vnet_name+\"/subnets/\"\n",
    "subnet_fully_qualified = vnetId+subnet_name"
   ]
  },
  {
   "cell_type": "code",
   "execution_count": null,
   "metadata": {},
   "outputs": [],
   "source": [
    "print(resource_group_name)\n",
    "print(resource_group_name_common)\n",
    "print(workspace_name)\n",
    "print(vnet_name)\n",
    "print(subnet_fully_qualified)"
   ]
  },
  {
   "cell_type": "markdown",
   "metadata": {},
   "source": [
    "# Option A) Default credential"
   ]
  },
  {
   "cell_type": "code",
   "execution_count": null,
   "metadata": {},
   "outputs": [],
   "source": [
    "from azure.ai.ml import MLClient\n",
    "from azure.identity import DefaultAzureCredential,InteractiveBrowserCredential\n",
    "\n",
    "credential = InteractiveBrowserCredential()\n",
    "\n",
    "#credential = DefaultAzureCredential()\n",
    "# Check if given credential can get token successfully.\n",
    "#credential.get_token(\"https://management.azure.com/.default\")\n",
    "\n",
    "ml_client = MLClient(\n",
    "    credential=credential,\n",
    "    subscription_id=subscription_id,\n",
    "    resource_group_name=resource_group_name,\n",
    "    workspace_name=workspace_name,\n",
    "    force_token_refresh=True\n",
    ")"
   ]
  },
  {
   "cell_type": "markdown",
   "metadata": {},
   "source": [
    "# Option C) Service Principal login - with client secret in .env file\n",
    "- Create an .env file with the below properties: \n",
    "\n",
    "AZURE_CLIENT_ID=aGuid\n",
    "\n",
    "AZURE_TENANT_ID=aGuid\n",
    "\n",
    "AZURE_CLIENT_SECRET=aSecret\n",
    "\n"
   ]
  },
  {
   "cell_type": "markdown",
   "metadata": {},
   "source": [
    "# After option a,b or c the below LOGIN code can be used"
   ]
  },
  {
   "cell_type": "code",
   "execution_count": null,
   "metadata": {},
   "outputs": [],
   "source": [
    "from azure.ai.ml import MLClient\n",
    "try:\n",
    "    ml_client = MLClient.from_config(credential=credential)\n",
    "except Exception as ex:\n",
    "    # NOTE: Update following workspace information to contain\n",
    "    #       your subscription ID, resource group name, and workspace name\n",
    "    client_config = {\n",
    "        \"subscription_id\": subscription_id,\n",
    "        \"resource_group\": resource_group_name,\n",
    "        \"workspace_name\": workspace_name,\n",
    "    }\n",
    "\n",
    "    # write and reload from config file\n",
    "    import json, os\n",
    "\n",
    "    config_path = \"../.azureml/config.json\"\n",
    "    os.makedirs(os.path.dirname(config_path), exist_ok=True)\n",
    "    with open(config_path, \"w\") as fo:\n",
    "        fo.write(json.dumps(client_config))\n",
    "    ml_client = MLClient.from_config(credential=credential, path=config_path)\n",
    "\n",
    "print(ml_client)"
   ]
  },
  {
   "cell_type": "markdown",
   "metadata": {},
   "source": [
    "# DEFINE - Managed online endpoint"
   ]
  },
  {
   "cell_type": "code",
   "execution_count": null,
   "metadata": {},
   "outputs": [],
   "source": [
    "# import required libraries\n",
    "from azure.ai.ml import MLClient\n",
    "from azure.ai.ml.entities import (\n",
    "    ManagedOnlineEndpoint,\n",
    "    ManagedOnlineDeployment,\n",
    "    Model,\n",
    "    Environment,\n",
    "    CodeConfiguration,\n",
    ")\n",
    "from azure.identity import DefaultAzureCredential"
   ]
  },
  {
   "cell_type": "markdown",
   "metadata": {},
   "source": [
    "## EP-name and Auth model"
   ]
  },
  {
   "cell_type": "code",
   "execution_count": null,
   "metadata": {},
   "outputs": [],
   "source": [
    "# Example way to define a random name\n",
    "import datetime\n",
    "endpoint_name = \"p\"+project_number+\"-\"+datetime.datetime.now().strftime(\"%m%d%H%M%f\")+ \"-ep\"+compute_instance_suffix \n",
    "\n",
    "# create an online endpoint\n",
    "endpoint = ManagedOnlineEndpoint(\n",
    "    name = endpoint_name, \n",
    "    description=\"this is a sample endpoint\",\n",
    "    auth_mode=\"key\"\n",
    ")"
   ]
  },
  {
   "cell_type": "code",
   "execution_count": null,
   "metadata": {},
   "outputs": [],
   "source": [
    "option_a = True\n",
    "model = None\n",
    "env = None\n",
    "\n",
    "if(option_a):\n",
    "    model = Model(path=\"./model_diabetes/model.pkl\")\n",
    "    env = Environment(\n",
    "        conda_file=\"./model_diabetes/conda.yaml\",\n",
    "        image=\"mcr.microsoft.com/azureml/curated/azureml-automl:159\",\n",
    "        name=\"diabetes-env\")\n",
    "else:\n",
    "    model = Model(name=\"diabetes_automlsdk_mlflow\")\n",
    "    env = Environment(name=\"ESML-AzureML-155-AutoML_159_from_ctx\")\n",
    "\n",
    "blue_deployment = ManagedOnlineDeployment(\n",
    "    name=\"blue\",\n",
    "    endpoint_name=endpoint_name,\n",
    "    model=model,\n",
    "    environment=env,\n",
    "    code_configuration=CodeConfiguration(\n",
    "        code=\"./model_diabetes\", scoring_script=\"score.py\"\n",
    "    ),\n",
    "    instance_type=\"Standard_DS3_v2\",\n",
    "    instance_count=1,\n",
    ")"
   ]
  },
  {
   "cell_type": "markdown",
   "metadata": {},
   "source": [
    "# Check if it is alive"
   ]
  },
  {
   "cell_type": "markdown",
   "metadata": {},
   "source": [
    "ml_client.online_endpoints.begin_create_or_update(endpoint, local=False)\n",
    "ml_client.online_deployments.begin_create_or_update(\n",
    "    deployment=blue_deployment, local=False\n",
    ")"
   ]
  }
 ],
 "metadata": {
  "kernelspec": {
   "display_name": "azure_automl_esml_v155_v115",
   "language": "python",
   "name": "python3"
  },
  "language_info": {
   "codemirror_mode": {
    "name": "ipython",
    "version": 3
   },
   "file_extension": ".py",
   "mimetype": "text/x-python",
   "name": "python",
   "nbconvert_exporter": "python",
   "pygments_lexer": "ipython3",
   "version": "3.9.19"
  }
 },
 "nbformat": 4,
 "nbformat_minor": 2
}
