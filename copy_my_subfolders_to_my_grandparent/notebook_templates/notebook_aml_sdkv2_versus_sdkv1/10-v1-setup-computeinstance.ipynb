{
 "cells": [
  {
   "cell_type": "markdown",
   "metadata": {},
   "source": [
    "# Pre requisites - INSTALL SDK + configure .env\n",
    "- Install Azure ML SDK v1.55 - recommended option is A) \n",
    "    - Option A) via ESML conda: Use conda/kernel in ESML: `azure_automl_esml_v155`, or kernel: `azure_automl_esml_v155_v155` (supports both SDK v1.55 and SDK v2 v 1.15)\n",
    "        - How to install: https://github.com/jostrm/azure-enterprise-scale-ml/blob/main/environment_setup/user_dev_env_install/01-install-azureml-sdk-v1+v2.md\n",
    "    - Option B) via Microsoft docs. Then you also need to pip install `%pip install -U python-dotenv`\n",
    "        - https://learn.microsoft.com/en-us/python/api/overview/azure/ml/install?view=azure-ml-py\n",
    "- Create an .env file, with the 3 variables: \n",
    "    - AZURE_CLIENT_ID - value from project specific keuvault for secret: `esml-project001-sp-id`\n",
    "    - AZURE_CLIENT_SECRET - value from project specific keuvault for secret: `esml-project001-sp-secret`\n",
    "    - AZURE_TENANT_ID - value from project specific keuvault for secret: `esml-tenant-id`\n"
   ]
  },
  {
   "cell_type": "code",
   "execution_count": null,
   "metadata": {},
   "outputs": [],
   "source": [
    "from azureml.core.compute import ComputeTarget\n",
    "from azureml.core.compute import AmlCompute\n",
    "from azureml.core.compute_target import ComputeTargetException\n",
    "from azureml.core.authentication import ServicePrincipalAuthentication\n",
    "from azureml.core import Workspace\n",
    "from azureml.core import Experiment"
   ]
  },
  {
   "cell_type": "code",
   "execution_count": null,
   "metadata": {},
   "outputs": [],
   "source": [
    "# TODO: USER MANDATORY - each USER CONFIGURE THIS\n",
    "user_objectid_to_own_computeinstance = 'guid-object-id-of-ad-user'\n",
    "sku_array = [\"Standard_DS11_v2\",\"STANDARD_NC24RS_V3\",\"Standard_ND96amsr_A100_v4\",\"Standard_D13_v2\"]\n",
    "compute_instance_sku = sku_array[0]\n",
    "compute_instance_suffix = \"03\" # A (two character max) suffix, to make your compute, unique within your workspace/project.\n",
    "project_number=\"2\" #Change to YOUR esml project number\n",
    "# TODO: END - USER MANDATORY\n",
    "\n",
    "\n",
    "# TODO: CONFIGURE ONCE - Core team of AIFactory\n",
    "subscription_id=\"guid\"\n",
    "region_short = \"uks\"\n",
    "aifactory_environment = \"dev\" # dev,test,prod\n",
    "aifactory_prefix = \"dc-heroes\"\n",
    "# TODO: END - CONFIGURE ONCE"
   ]
  },
  {
   "cell_type": "code",
   "execution_count": null,
   "metadata": {},
   "outputs": [],
   "source": [
    "# NO TOUCH: Auto, since convention:\n",
    "ai_factory_index = \"001\"\n",
    "resource_group_name=aifactory_prefix+\"-esml-project00\"+project_number+\"-\"+region_short+\"-\"+aifactory_environment+\"-\"+ai_factory_index+\"-rg\"\n",
    "resource_group_name_common=aifactory_prefix+\"-esml-common-\"+region_short+\"-\"+aifactory_environment+\"-\"+ai_factory_index\n",
    "workspace_name=\"aml-prj00\"+project_number+\"-\"+region_short+\"-\"+aifactory_environment+\"-\"+ai_factory_index\n",
    "vnet_name = \"vnt-esmlcmn-\"+region_short+\"-\"+aifactory_environment+\"-\"+ai_factory_index # vnt-esmlcmn-uks-dev-001\n",
    "\n",
    "subnet_name = \"snet-esml-cmn-001\"\n",
    "vnetId =  \"/\"+subscription_id+\"/resourceGroups/\"+resource_group_name_common+\"/providers/Microsoft.Network/virtualNetworks/\"+vnet_name+\"/subnets/\"\n",
    "subnet_fully_qualified = vnetId+subnet_name\n",
    "ws_config_name = aifactory_environment+\"_ws_config.json\"\n",
    "ws_config_path = \"../.azureml/\""
   ]
  },
  {
   "cell_type": "code",
   "execution_count": null,
   "metadata": {},
   "outputs": [],
   "source": [
    "import os\n",
    "from dotenv import load_dotenv\n",
    "print(\"Loading environment variables from .env file - Logging in via CMN SP\")\n",
    "load_dotenv()\n",
    "tenant_id = os.getenv('AZURE_TENANT_ID')"
   ]
  },
  {
   "cell_type": "code",
   "execution_count": null,
   "metadata": {},
   "outputs": [],
   "source": [
    "print(resource_group_name)\n",
    "print(resource_group_name_common)\n",
    "print(workspace_name)\n",
    "print(vnet_name)\n",
    "print(subnet_fully_qualified)\n",
    "print(tenant_id)"
   ]
  },
  {
   "cell_type": "code",
   "execution_count": null,
   "metadata": {},
   "outputs": [],
   "source": [
    "ws = None"
   ]
  },
  {
   "cell_type": "markdown",
   "metadata": {},
   "source": [
    "# LOGIN - Alternative B - via Service principal \n",
    "- Possibly elevated access, than your user"
   ]
  },
  {
   "cell_type": "code",
   "execution_count": null,
   "metadata": {},
   "outputs": [],
   "source": [
    "import os\n",
    "from dotenv import load_dotenv\n",
    "\n",
    "if (ws is None):\n",
    "    print(\"Loading environment variables from .env file - Logging in via CMN SP\")\n",
    "    load_dotenv()\n",
    "\n",
    "    tenant_id = os.getenv('AZURE_TENANT_ID')\n",
    "    sp_app_id = os.getenv('AZURE_CLIENT_ID')\n",
    "    sp_secret = os.getenv('AZURE_CLIENT_SECRET')\n",
    "\n",
    "    sp = ServicePrincipalAuthentication(\n",
    "        tenant_id=tenant_id,\n",
    "        service_principal_id=sp_app_id, \n",
    "        service_principal_password=sp_secret)\n",
    "else:\n",
    "    kv = ws.get_default_keyvault()\n",
    "    sp = ServicePrincipalAuthentication(tenant_id=kv.get_secret(name=\"esml-tenant-id\"),\n",
    "                                        service_principal_id=kv.get_secret(name=\"esml-project-sp-id\"),\n",
    "                                        service_principal_password=kv.get_secret(name=\"esml-project-sp-secret\"))\n",
    "\n",
    "ws = Workspace.get(\n",
    "    name =workspace_name,\n",
    "    subscription_id = subscription_id,\n",
    "    resource_group = resource_group_name,auth=sp)\n",
    "\n",
    "# write config\n",
    "ws.write_config(path=\"../\", file_name=ws_config_name)\n"
   ]
  },
  {
   "cell_type": "markdown",
   "metadata": {},
   "source": [
    "## Cached LOGIN: 2nd time and later, with INTERACTIV Login as fallback"
   ]
  },
  {
   "cell_type": "markdown",
   "metadata": {},
   "source": [
    "import os\n",
    "from azureml.core.authentication import InteractiveLoginAuthentication\n",
    "from dotenv import load_dotenv\n",
    "\n",
    "try: \n",
    "    ws = Workspace.from_config(path=\"../\", file_name=ws_config_name)\n",
    "except:\n",
    "    print(\"Loading environment variables from .env file - Logging in via CMN SP\")\n",
    "    load_dotenv()\n",
    "    tenant_id = os.getenv('AZURE_TENANT_ID')\n",
    "\n",
    "    auth = InteractiveLoginAuthentication(force=False,tenant_id = tenant_id)\n",
    "\n",
    "    ws = Workspace.get(\n",
    "        name = workspace_name,\n",
    "        subscription_id =subscription_id,\n",
    "        resource_group =resource_group_name,\n",
    "        auth=auth)\n",
    "    \n",
    "    ws.write_config(path=\"../\", file_name=ws_config_name)"
   ]
  },
  {
   "cell_type": "markdown",
   "metadata": {},
   "source": [
    "# Create - Compute Instance, in vNet\n",
    "- If not exists, otherwise start existing cluster"
   ]
  },
  {
   "cell_type": "code",
   "execution_count": null,
   "metadata": {},
   "outputs": [],
   "source": [
    "from azureml.core.compute import ComputeTarget\n",
    "from azureml.core.compute import ComputeInstance\n",
    "from azureml.core.compute_target import ComputeTargetException\n",
    "\n",
    "#user_objectid_to_own_computeinstance = '262dfa84-bc95-4191-adcb-cb9398ca1741'\n",
    "compute_instance_suffix = \"04\"\n",
    "try:\n",
    "    name = \"p00\"+project_number+\"-m01-pggpu-dev-ci\"+compute_instance_suffix # + datetime.datetime.now().strftime(\"%Y%m%d%H%M\")\n",
    "    cpu_cluster = ComputeInstance(workspace=ws, name=name)\n",
    "    print('Found existing cluster {} for project and environment, using it.'.format(name))\n",
    "    cpu_cluster.start(wait_for_completion=False, show_output=True)\n",
    "except ComputeTargetException as e:\n",
    "    if(\"ComputeTargetNotFound\" in str(e)):\n",
    "        print('Creating new cluster - ' + name)\n",
    "\n",
    "        if((len(subnet_name) > 0)):\n",
    "            compute_config = ComputeInstance.provisioning_configuration(vm_size=compute_instance_sku,\n",
    "                                                                        ssh_public_access=False,\n",
    "                                                                        assigned_user_object_id=user_objectid_to_own_computeinstance,\n",
    "                                                                        assigned_user_tenant_id=tenant_id,\n",
    "                                                                        vnet_resourcegroup_name=resource_group_name_common,\n",
    "                                                                        vnet_name=vnet_name,\n",
    "                                                                        subnet_name=subnet_name)\n",
    "        else:\n",
    "            compute_config = ComputeInstance.provisioning_configuration(vm_size=compute_instance_sku,\n",
    "                                                                        ssh_public_access=False,\n",
    "                                                                        assigned_user_object_id=user_objectid_to_own_computeinstance,\n",
    "                                                                        assigned_user_tenant_id=tenant_id)\n",
    "                                                                    \n",
    "\n",
    "        cpu_cluster = ComputeTarget.create(ws, name, compute_config)\n",
    "\n",
    "        # Can poll for a minimum number of nodes and for a specific timeout.\n",
    "        # If min_node_count=None is provided, it will use the scale settings for the cluster instead\n",
    "        cpu_cluster.wait_for_completion(show_output=True)\n",
    "    else:\n",
    "        print(\"En error occured when trying to start the compute. Please see error\")\n",
    "        print(e)\n"
   ]
  },
  {
   "cell_type": "code",
   "execution_count": null,
   "metadata": {},
   "outputs": [],
   "source": [
    "#cpu_cluster.stop()"
   ]
  },
  {
   "cell_type": "markdown",
   "metadata": {},
   "source": [
    "# Create AML cluster, in vNet\n",
    "- If not exists, otherwise start existing cluster"
   ]
  },
  {
   "cell_type": "markdown",
   "metadata": {},
   "source": [
    "#Compute Train & batch scoring\n",
    "from azureml.core.compute import ComputeTarget\n",
    "from azureml.core.compute import AmlCompute\n",
    "from azureml.core.compute_target import ComputeTargetException\n",
    "\n",
    "try:\n",
    "    name = \"p00\"+project_number+\"-m01\"+region_short+\"-\"+aifactory_environment # \"p001-m01uks-dev\"  + datetime.datetime.now().strftime(\"%Y%m%d%H%M\")\n",
    "    cpu_cluster = AmlCompute(workspace=ws, name=name)\n",
    "    print('Found existing cluster {} for project and environment, using it.'.format(name))\n",
    "except ComputeTargetException as e:\n",
    "    if(\"ComputeTargetNotFound\" in str(e)):\n",
    "        print('Creating new cluster - ' + name)\n",
    "\n",
    "        if((len(subnet_name) > 0)):\n",
    "            compute_config = AmlCompute.provisioning_configuration(vm_size=compute_instance_sku,\n",
    "                                                                    vm_priority='dedicated',  # 'dedicated', 'lowpriority'\n",
    "                                                                    min_nodes=0,\n",
    "                                                                    max_nodes=3,\n",
    "                                                                    vnet_resourcegroup_name=resource_group_name_common,\n",
    "                                                                    vnet_name=vnet_name,\n",
    "                                                                    subnet_name=subnet_name)\n",
    "        else:\n",
    "            compute_config = AmlCompute.provisioning_configuration(vm_size=compute_instance_sku,\n",
    "                                                                vm_priority= 'dedicated',  # 'dedicated', 'lowpriority'\n",
    "                                                                min_nodes=0,\n",
    "                                                                max_nodes=3)\n",
    "\n",
    "        cpu_cluster = ComputeTarget.create(ws, name, compute_config)\n",
    "    else:\n",
    "        print(\"En error occured when trying to start the compute. Please see error\")\n",
    "        print(e)\n",
    "\n",
    "# Can poll for a minimum number of nodes and for a specific timeout.\n",
    "# If min_node_count=None is provided, it will use the scale settings for the cluster instead\n",
    "cpu_cluster.wait_for_completion(show_output=True, min_node_count=None, timeout_in_minutes=30)"
   ]
  }
 ],
 "metadata": {
  "language_info": {
   "name": "python"
  }
 },
 "nbformat": 4,
 "nbformat_minor": 2
}
