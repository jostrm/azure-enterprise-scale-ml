{
 "cells": [
  {
   "cell_type": "markdown",
   "metadata": {},
   "source": [
    "# Azure ML SDK v2 (v1.15)-  Notebook to login in different ways\n",
    "- If you have installed: \"azure-enterprise-scale-ml\\environment_setup\\user_dev_env_install\\AzureML_v1_55_and_v2_1_15\"\n",
    "    Then you dont need to run below PIP\n",
    "- If you have installed: \"azure-enterprise-scale-ml\\environment_setup\\user_dev_env_install\\AzureML_v1_55\"\n",
    "    - Then you need to run below PIP (3 cells)\n",
    "        - azure-ai-ml, azure-identity, python-dotenv\n"
   ]
  },
  {
   "cell_type": "code",
   "execution_count": null,
   "metadata": {},
   "outputs": [],
   "source": [
    "%pip install azure-ai-ml"
   ]
  },
  {
   "cell_type": "code",
   "execution_count": null,
   "metadata": {},
   "outputs": [],
   "source": [
    "%pip install azure-identity"
   ]
  },
  {
   "cell_type": "code",
   "execution_count": null,
   "metadata": {},
   "outputs": [],
   "source": [
    "%pip install -U python-dotenv"
   ]
  },
  {
   "cell_type": "code",
   "execution_count": null,
   "metadata": {},
   "outputs": [],
   "source": [
    "subscription_id=\"guid\"\n",
    "resource_group_name=\"name\"\n",
    "workspace_name=\"name\"\n",
    "\n",
    "project_numnber=\"1\"\n",
    "compute_instance_sku = \"Standard_DS11_v2\" # \"STANDARD_NC24RS_V3\", \"Standard_D13_v2\"\n",
    "compute_instance_suffix = \"01\""
   ]
  },
  {
   "cell_type": "markdown",
   "metadata": {},
   "source": [
    "# Option A) Default credential"
   ]
  },
  {
   "cell_type": "code",
   "execution_count": null,
   "metadata": {},
   "outputs": [],
   "source": [
    "from azure.ai.ml import MLClient\n",
    "from azure.identity import DefaultAzureCredential\n",
    "\n",
    "ml_client = MLClient(\n",
    "    DefaultAzureCredential(), subscription_id, resource_group_name, workspace_name\n",
    ")"
   ]
  },
  {
   "cell_type": "markdown",
   "metadata": {},
   "source": [
    "# Option B) Interactive login (forced)"
   ]
  },
  {
   "cell_type": "code",
   "execution_count": null,
   "metadata": {},
   "outputs": [],
   "source": [
    "from azure.identity import DefaultAzureCredential, InteractiveBrowserCredential\n",
    "\n",
    "credential = InteractiveBrowserCredential()"
   ]
  },
  {
   "cell_type": "markdown",
   "metadata": {},
   "source": [
    "# Option C) Service Principal login - with client secret in .env file\n",
    "- Create an .env file with the below properties: \n",
    "\n",
    "AZURE_CLIENT_ID=aGuid\n",
    "\n",
    "AZURE_TENANT_ID=aGuid\n",
    "\n",
    "AZURE_CLIENT_SECRET=aSecret\n",
    "\n"
   ]
  },
  {
   "cell_type": "code",
   "execution_count": null,
   "metadata": {},
   "outputs": [],
   "source": [
    "import os\n",
    "from dotenv import load_dotenv\n",
    "\n",
    "print(\"Loading environment variables from .env file\")\n",
    "load_dotenv(\".env\")\n",
    "\n",
    "from azure.identity import DefaultAzureCredential\n",
    "\n",
    "credential = DefaultAzureCredential()\n",
    "# Check if given credential can get token successfully.\n",
    "credential.get_token(\"https://management.azure.com/.default\")"
   ]
  },
  {
   "cell_type": "markdown",
   "metadata": {},
   "source": [
    "# After option a,b or c the below LOGIN code can be used"
   ]
  },
  {
   "cell_type": "code",
   "execution_count": null,
   "metadata": {},
   "outputs": [],
   "source": [
    "from azure.ai.ml import MLClient\n",
    "try:\n",
    "    ml_client = MLClient.from_config(credential=credential)\n",
    "except Exception as ex:\n",
    "    # NOTE: Update following workspace information to contain\n",
    "    #       your subscription ID, resource group name, and workspace name\n",
    "    client_config = {\n",
    "        \"subscription_id\": subscription_id,\n",
    "        \"resource_group\": resource_group_name,\n",
    "        \"workspace_name\": workspace_name,\n",
    "    }\n",
    "\n",
    "    # write and reload from config file\n",
    "    import json, os\n",
    "\n",
    "    config_path = \"../.azureml/config.json\"\n",
    "    os.makedirs(os.path.dirname(config_path), exist_ok=True)\n",
    "    with open(config_path, \"w\") as fo:\n",
    "        fo.write(json.dumps(client_config))\n",
    "    ml_client = MLClient.from_config(credential=credential, path=config_path)\n",
    "\n",
    "print(ml_client)"
   ]
  },
  {
   "cell_type": "code",
   "execution_count": null,
   "metadata": {},
   "outputs": [],
   "source": [
    "# Compute Instances need to have a unique name across the region.\n",
    "# Here we create a unique name with current datetime\n",
    "from azure.ai.ml.entities import ComputeInstance, AmlCompute\n",
    "import datetime\n",
    "\n",
    "ci_basic_name = \"p00\"+project_numnber+\"-m01-xyz-dev-ci\"+compute_instance_suffix # + datetime.datetime.now().strftime(\"%Y%m%d%H%M\")\n",
    "\n",
    "ci_basic = ComputeInstance(name=ci_basic_name, size=compute_instance_sku)\n",
    "ml_client.begin_create_or_update(ci_basic).result()\n",
    "\n",
    "# Note that idle_time_before_shutdown has been deprecated.\n",
    "ComputeInstance(name=ci_basic_name, size=compute_instance_sku, idle_time_before_shutdown_minutes=\"30\")"
   ]
  }
 ],
 "metadata": {
  "language_info": {
   "name": "python"
  }
 },
 "nbformat": 4,
 "nbformat_minor": 2
}
