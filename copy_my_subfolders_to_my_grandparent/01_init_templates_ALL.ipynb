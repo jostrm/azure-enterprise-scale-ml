{
 "cells": [
  {
   "cell_type": "markdown",
   "metadata": {},
   "source": [
    "# About this notebook: Copies TEMPLATES: \n",
    "- Notebook templates, Pipeline templates, lake_settings & model_settings, etc"
   ]
  },
  {
   "cell_type": "markdown",
   "metadata": {},
   "source": [
    "## Details\n",
    "ESML have muliple templates +20 templates, in 7 template categories:\n",
    "\n",
    "`Inititally at ESML AI Factory setup`\n",
    "- ESML AI Factory INFRA configs: your specific configurations for BICEP \n",
    "    - Example: enable / disable services. private DNS zones by policy VS ESML standalone\n",
    "- Datalake template: structure & ACL permissions\n",
    "\n",
    "\n",
    "`Continously at ESML updates (You decided frequency: monthly, quartely, yearly)`\n",
    "- ESML Config Templates: DEV,TEST,PROD environments: Compute, Training performance, etc \n",
    "   - `**`Enteprise specific: `pipeline_template folder`\n",
    "    - `*`Project specific: `lake_settings.json`\n",
    "- `*`ESML DataOps templates: Azure Data factory\n",
    "- `*`ESML MLOps templates: ADO & Python MLOps\n",
    "- `***`ESML Jupyter Notebook templates: Demonstrating ESML accelerators\n",
    "    - ESML Python SDK\n",
    "- `*`ESML Databricks Notebook templates: demonstrating ESML Accelerators in Databricks\n",
    "    - ESML PySpark SDK\n",
    "\n",
    "`*...***`= The more stars, the more often you may want to update the templates. \n",
    "\n",
    "#### WHAT: This notebooks copies / updates, the templates from ESML central GITHUB repo, to your local code repo\n",
    "- Not all template categories NEEDS to be updated, some are generic and centrally mainateind in ESML\n",
    "- But some are a template with `YOUR specific config` that you sometimes, needs to update to get the latest features, or when ESML have bridged a gap or `fixed a breaking change` in AML.\n",
    "- The ones with a `*` are the ones you need to update sometimes, more stars - more frequently update.\n"
   ]
  },
  {
   "cell_type": "code",
   "execution_count": 1,
   "metadata": {},
   "outputs": [],
   "source": [
    "import os\n",
    "import shutil\n",
    "import uuid\n",
    "target_start_path = \"../../\"\n",
    "def copy_and_overwrite_folder(source,target):\n",
    "    os.makedirs(os.path.dirname(target), exist_ok=True)\n",
    "    if os.path.exists(target):\n",
    "        shutil.rmtree(target)\n",
    "    shutil.copytree(source, target)\n",
    "\n",
    "def copy_and_overwrite_file(source,target):\n",
    "    if(os.path.exists(target) == False):\n",
    "        os.makedirs(os.path.dirname(target), exist_ok=True)\n",
    "    if os.path.exists(target):\n",
    "        os.remove(target)\n",
    "    shutil.copy(source, target)"
   ]
  },
  {
   "cell_type": "markdown",
   "metadata": {},
   "source": [
    "# 1) AI Factory BICEP including Azure Devops pipelines\n",
    "- ESML AI Factory is 100% IaC: These BICEP files you don't need to copy. They are generic, you can use the centralized GITHUB one.\n",
    "    - Tip: If you want to customize the ESML AI Factory, add or remove services, a good practice is to have a GIT BRANCH from the MAIN branch, for you to pull/merge updates ESML community does.\n",
    "        - A poor pratice, is to do a hard copy, and maintain all yourself, not leverageing the centralized ESML community (breaking changes happens to the Azure services from time to time)\n",
    "- The template files copied here, are only the CONFIGURATION files to the BICEP and Azure devops templates - to kick off an ESML AI Factory."
   ]
  },
  {
   "cell_type": "code",
   "execution_count": 3,
   "metadata": {},
   "outputs": [
    {
     "ename": "FileNotFoundError",
     "evalue": "[WinError 3] The system cannot find the path specified: '../environment_setup/aifactory/bicep/copy_to_local_settings/github-actions/bicep'",
     "output_type": "error",
     "traceback": [
      "\u001b[1;31m---------------------------------------------------------------------------\u001b[0m",
      "\u001b[1;31mFileNotFoundError\u001b[0m                         Traceback (most recent call last)",
      "\u001b[1;32m<ipython-input-3-594116da3677>\u001b[0m in \u001b[0;36m<module>\u001b[1;34m\u001b[0m\n\u001b[0;32m     17\u001b[0m \u001b[0msource_bicep\u001b[0m \u001b[1;33m=\u001b[0m \u001b[1;34m\"../environment_setup/aifactory/bicep/copy_to_local_settings/github-actions/bicep\"\u001b[0m\u001b[1;33m\u001b[0m\u001b[1;33m\u001b[0m\u001b[0m\n\u001b[0;32m     18\u001b[0m \u001b[0mtarget_bicep\u001b[0m \u001b[1;33m=\u001b[0m \u001b[0mtarget_start_path\u001b[0m\u001b[1;33m+\u001b[0m\u001b[1;34m\"aifactory/esml-infra/github-actions/bicep\"\u001b[0m\u001b[1;33m\u001b[0m\u001b[1;33m\u001b[0m\u001b[0m\n\u001b[1;32m---> 19\u001b[1;33m \u001b[0mcopy_and_overwrite_folder\u001b[0m\u001b[1;33m(\u001b[0m\u001b[0msource_bicep\u001b[0m\u001b[1;33m,\u001b[0m\u001b[0mtarget_bicep\u001b[0m\u001b[1;33m)\u001b[0m\u001b[1;33m\u001b[0m\u001b[1;33m\u001b[0m\u001b[0m\n\u001b[0m\u001b[0;32m     20\u001b[0m \u001b[1;33m\u001b[0m\u001b[0m\n\u001b[0;32m     21\u001b[0m \u001b[1;31m# AIFACTORY - TERRAFORM (Gihub Actions)\u001b[0m\u001b[1;33m\u001b[0m\u001b[1;33m\u001b[0m\u001b[0m\n",
      "\u001b[1;32m<ipython-input-1-0919e17cacaf>\u001b[0m in \u001b[0;36mcopy_and_overwrite_folder\u001b[1;34m(source, target)\u001b[0m\n\u001b[0;32m      7\u001b[0m     \u001b[1;32mif\u001b[0m \u001b[0mos\u001b[0m\u001b[1;33m.\u001b[0m\u001b[0mpath\u001b[0m\u001b[1;33m.\u001b[0m\u001b[0mexists\u001b[0m\u001b[1;33m(\u001b[0m\u001b[0mtarget\u001b[0m\u001b[1;33m)\u001b[0m\u001b[1;33m:\u001b[0m\u001b[1;33m\u001b[0m\u001b[1;33m\u001b[0m\u001b[0m\n\u001b[0;32m      8\u001b[0m         \u001b[0mshutil\u001b[0m\u001b[1;33m.\u001b[0m\u001b[0mrmtree\u001b[0m\u001b[1;33m(\u001b[0m\u001b[0mtarget\u001b[0m\u001b[1;33m)\u001b[0m\u001b[1;33m\u001b[0m\u001b[1;33m\u001b[0m\u001b[0m\n\u001b[1;32m----> 9\u001b[1;33m     \u001b[0mshutil\u001b[0m\u001b[1;33m.\u001b[0m\u001b[0mcopytree\u001b[0m\u001b[1;33m(\u001b[0m\u001b[0msource\u001b[0m\u001b[1;33m,\u001b[0m \u001b[0mtarget\u001b[0m\u001b[1;33m)\u001b[0m\u001b[1;33m\u001b[0m\u001b[1;33m\u001b[0m\u001b[0m\n\u001b[0m\u001b[0;32m     10\u001b[0m \u001b[1;33m\u001b[0m\u001b[0m\n\u001b[0;32m     11\u001b[0m \u001b[1;32mdef\u001b[0m \u001b[0mcopy_and_overwrite_file\u001b[0m\u001b[1;33m(\u001b[0m\u001b[0msource\u001b[0m\u001b[1;33m,\u001b[0m\u001b[0mtarget\u001b[0m\u001b[1;33m)\u001b[0m\u001b[1;33m:\u001b[0m\u001b[1;33m\u001b[0m\u001b[1;33m\u001b[0m\u001b[0m\n",
      "\u001b[1;32mc:\\Users\\jostrm\\.conda\\envs\\azure_automl_esml_v155_v115\\lib\\shutil.py\u001b[0m in \u001b[0;36mcopytree\u001b[1;34m(src, dst, symlinks, ignore, copy_function, ignore_dangling_symlinks, dirs_exist_ok)\u001b[0m\n\u001b[0;32m    564\u001b[0m     \"\"\"\n\u001b[0;32m    565\u001b[0m     \u001b[0msys\u001b[0m\u001b[1;33m.\u001b[0m\u001b[0maudit\u001b[0m\u001b[1;33m(\u001b[0m\u001b[1;34m\"shutil.copytree\"\u001b[0m\u001b[1;33m,\u001b[0m \u001b[0msrc\u001b[0m\u001b[1;33m,\u001b[0m \u001b[0mdst\u001b[0m\u001b[1;33m)\u001b[0m\u001b[1;33m\u001b[0m\u001b[1;33m\u001b[0m\u001b[0m\n\u001b[1;32m--> 566\u001b[1;33m     \u001b[1;32mwith\u001b[0m \u001b[0mos\u001b[0m\u001b[1;33m.\u001b[0m\u001b[0mscandir\u001b[0m\u001b[1;33m(\u001b[0m\u001b[0msrc\u001b[0m\u001b[1;33m)\u001b[0m \u001b[1;32mas\u001b[0m \u001b[0mitr\u001b[0m\u001b[1;33m:\u001b[0m\u001b[1;33m\u001b[0m\u001b[1;33m\u001b[0m\u001b[0m\n\u001b[0m\u001b[0;32m    567\u001b[0m         \u001b[0mentries\u001b[0m \u001b[1;33m=\u001b[0m \u001b[0mlist\u001b[0m\u001b[1;33m(\u001b[0m\u001b[0mitr\u001b[0m\u001b[1;33m)\u001b[0m\u001b[1;33m\u001b[0m\u001b[1;33m\u001b[0m\u001b[0m\n\u001b[0;32m    568\u001b[0m     return _copytree(entries=entries, src=src, dst=dst, symlinks=symlinks,\n",
      "\u001b[1;31mFileNotFoundError\u001b[0m: [WinError 3] The system cannot find the path specified: '../environment_setup/aifactory/bicep/copy_to_local_settings/github-actions/bicep'"
     ]
    }
   ],
   "source": [
    "# AI FACTORY - BICEP (ADO Actions)\n",
    "\n",
    "# TODO jostrm - move to subfolder\n",
    "# source_bicep = \"../environment_setup/aifactory/bicep/copy_to_local_settings/azure-devops\"\n",
    "\n",
    "# AIFACTORY - BICEP: ADO Classic\n",
    "source_bicep = \"../environment_setup/aifactory/bicep/copy_to_local_settings/azure-devops/esml-ado-pipelines\"\n",
    "target_bicep = target_start_path+\"aifactory/esml-infra/azure-devops/bicep/classic\"\n",
    "copy_and_overwrite_folder(source_bicep,target_bicep)\n",
    "\n",
    "# AIFACTORY - BICEP:ADO YAML\n",
    "source_bicep = \"../environment_setup/aifactory/bicep/copy_to_local_settings/azure-devops/esml-yaml-pipelines\"\n",
    "target_bicep = target_start_path+\"aifactory/esml-infra/azure-devops/bicep/yaml\"\n",
    "copy_and_overwrite_folder(source_bicep,target_bicep)\n",
    "\n",
    "# AIFACTORY - BICEP: Gihub Actions\n",
    "source_bicep = \"../environment_setup/aifactory/bicep/copy_to_local_settings/github-actions\"\n",
    "target_bicep = target_start_path+\"aifactory/esml-infra/github-actions/bicep\"\n",
    "copy_and_overwrite_folder(source_bicep,target_bicep)\n",
    "\n",
    "# AIFACTORY - TERRAFORM (Gihub Actions)\n",
    "source_bicep = \"../environment_setup/aifactory/terraform/copy_to_local_settings/github-actions\"\n",
    "target_bicep = target_start_path+\"aifactory/esml-infra/github-actions/terraform\"\n",
    "copy_and_overwrite_folder(source_bicep,target_bicep)\n",
    "\n",
    "# AI FACTORY - BICEP utils: Add private DSVM, Create and attach a private AKS cluster to Azure ML\n",
    "source_bicep_util = \"../environment_setup/aifactory/bicep/esml-util\"\n",
    "target_bicep_util = target_start_path+\"aifactory/esml-util\"\n",
    "copy_and_overwrite_folder(source_bicep_util,target_bicep_util)\n",
    "\n",
    "# AI FACTORY - PARAMETERS\n",
    "source_bicep_params = \"../environment_setup/aifactory/parameters/10-esml-globals-1.json\"\n",
    "target_bicep_params = target_start_path+\"aifactory/parameters/10-esml-globals-1.json\"\n",
    "copy_and_overwrite_file(source_bicep_params,target_bicep_params)\n",
    "source_bicep_params = \"../environment_setup/aifactory/parameters/10-esml-globals-2-12_13_21_22.json\"\n",
    "target_bicep_params = target_start_path+\"aifactory/parameters/10-esml-globals-2-12_13_21_22.json\"\n",
    "copy_and_overwrite_file(source_bicep_params,target_bicep_params)\n",
    "source_bicep_params = \"../environment_setup/aifactory/parameters/10-esml-globals-3-12_13.json\"\n",
    "target_bicep_params = target_start_path+\"aifactory/parameters/10-esml-globals-3-12_13.json\"\n",
    "copy_and_overwrite_file(source_bicep_params,target_bicep_params)\n",
    "source_bicep_params = \"../environment_setup/aifactory/parameters/10-esml-globals-4-13_21_22.json\"\n",
    "target_bicep_params = target_start_path+\"aifactory/parameters/10-esml-globals-4-13_21_22.json\"\n",
    "copy_and_overwrite_file(source_bicep_params,target_bicep_params)\n",
    "source_bicep_params = \"../environment_setup/aifactory/parameters/10-esml-globals-5-13_23.json\"\n",
    "target_bicep_params = target_start_path+\"aifactory/parameters/10-esml-globals-5-13_23.json\"\n",
    "copy_and_overwrite_file(source_bicep_params,target_bicep_params)\n",
    "source_bicep_params = \"../environment_setup/aifactory/parameters/10-esml-globals-override.json\"\n",
    "target_bicep_params = target_start_path+\"aifactory/parameters/10-esml-globals-override.json\"\n",
    "copy_and_overwrite_file(source_bicep_params,target_bicep_params)\n",
    "source_bicep_params = \"../environment_setup/aifactory/parameters/11-esml-globals-11_13.json\"\n",
    "target_bicep_params = target_start_path+\"aifactory/parameters/11-esml-globals-11_13.json\"\n",
    "copy_and_overwrite_file(source_bicep_params,target_bicep_params)\n",
    "source_bicep_params = \"../environment_setup/aifactory/parameters/12-esml-cmn-parameters.json\"\n",
    "target_bicep_params = target_start_path+\"aifactory/parameters/12-esml-cmn-parameters.json\"\n",
    "copy_and_overwrite_file(source_bicep_params,target_bicep_params)\n",
    "source_bicep_params = \"../environment_setup/aifactory/parameters/13-esml-cmn-parameters.json\"\n",
    "target_bicep_params = target_start_path+\"aifactory/parameters/13-esml-cmn-parameters.json\"\n",
    "copy_and_overwrite_file(source_bicep_params,target_bicep_params)\n",
    "source_bicep_params = \"../environment_setup/aifactory/parameters/21-22-esml-prj-parameters.json\"\n",
    "target_bicep_params = target_start_path+\"aifactory/parameters/21-22-esml-prj-parameters.json\"\n",
    "copy_and_overwrite_file(source_bicep_params,target_bicep_params)\n",
    "source_bicep_params = \"../environment_setup/aifactory/parameters/23-esml-prj-rbac-parameters.json\"\n",
    "target_bicep_params = target_start_path+\"aifactory/parameters/23-esml-prj-rbac-parameters.json\"\n",
    "copy_and_overwrite_file(source_bicep_params,target_bicep_params)\n"
   ]
  },
  {
   "cell_type": "markdown",
   "metadata": {},
   "source": [
    "## 1b) COPY ALL SETTINGS: Enterprise & Project specicic settings: \n",
    "- Dev Test Prod compute settings, AutoML settings, etc - all.\n",
    "- Update notebook templates, pipeline templates, mlops template, bicep template\n",
    "\n",
    "`NB! Usually just done initially. Do not do this without having backup on some files`\n",
    "\n",
    "`NB! If you only want to do a SMALL & SAFE UPDATE`: Notebooks, Pipelie template \n",
    "- Use the other Notebook [./02_update_templates_QUICK.ipynb](./02_update_templates_QUICK.ipynb) "
   ]
  },
  {
   "cell_type": "code",
   "execution_count": 2,
   "metadata": {},
   "outputs": [],
   "source": [
    "uid = uuid.uuid4().hex\n",
    "bak_name = \"bak_\"+uid[0:5]\n",
    "\n",
    "# AML v1 (v 1.55 2024-04-05) NOTEBOOK TEMPLATES (generic with ESML acceleration)\n",
    "    # RUNTIME: Azure ML v1.55 + AutoML + ESML acceleration\n",
    "    # STABLE notebooks, frequently tested, for Long Term Support feeling, for notebooks with `PRODUCTION` in its name\n",
    "    # Example: When a NEW Azure ML SDK version comes, these are tested. 2024-04-05: SDK v1 (v1.55)\n",
    "source_notebooks_quickstart = \"./notebook_templates/1_quickstart/\"\n",
    "target_notebooks_quickstart = target_start_path+\"notebook_aml_v1_templates\"\n",
    "copy_and_overwrite_folder(source_notebooks_quickstart,target_notebooks_quickstart)\n",
    "\n",
    "# AML v2 (v 1.15, 2024-04-05) NOTEBOOK EXAMPLES (vanilla with parameters)\n",
    "source_notebooks_amlv2 = \"./notebook_templates/notebook_aml_sdkv2_versus_sdkv1/\"\n",
    "target_notebooks_amlv2 = target_start_path+\"notebook_aml_v2_examples\"\n",
    "copy_and_overwrite_folder(source_notebooks_amlv2,target_notebooks_amlv2)\n",
    "# model\n",
    "source_model = \"./notebook_templates/model_diabetes/\"\n",
    "target_model = target_start_path+\"notebook_aml_v2_examples/model_diabetes\"\n",
    "copy_and_overwrite_folder(source_model,target_model)\n",
    "\n",
    "# AML v1 - VARIOUS NOTEBOOKS - Not stable, may fail.\n",
    "#source_notebooks_quickstart = \"./notebook_templates/notebook_templates_esml_v14_2022-06-2023_aml_v143/\"\n",
    "#target_notebooks_quickstart = target_start_path+\"notebook_aml_v1_examples_all\"\n",
    "#copy_and_overwrite_folder(source_notebooks_quickstart,target_notebooks_quickstart)\n",
    "\n",
    "# AML v1 - PIPELINE TEMPLATES\n",
    "source_templates = \"./settings/enterprise_specific/dev_test_prod_defaults/pipeline_template\"\n",
    "target_templates = target_start_path+\"settings/enterprise_specific/dev_test_prod_defaults/pipeline_template\"\n",
    "copy_and_overwrite_folder(source_templates,target_templates)\n",
    "\n",
    "# BACKUP - LAKE_SETTINGS\n",
    "bak_source_templates = target_start_path+\"settings/project_specific/model/lake_settings.json\"\n",
    "if os.path.exists(bak_source_templates):\n",
    "    bak_target_templates = target_start_path+\"settings/project_specific/model/lake_settings.\"+bak_name+\".json\"\n",
    "    copy_and_overwrite_file(bak_source_templates,bak_target_templates)\n",
    "\n",
    "# BACKUP - MODEL_SETTINGS\n",
    "bak_source_templates = target_start_path+\"settings/project_specific/model/model_settings.json\"\n",
    "if os.path.exists(bak_source_templates):\n",
    "    bak_target_templates = target_start_path+\"settings/project_specific/model/model_settings.\"+bak_name+\".json\"\n",
    "    copy_and_overwrite_file(bak_source_templates,bak_target_templates)\n",
    "\n",
    "# BACKUP - SECURITY_SETTINGS\n",
    "bak_source_templates = target_start_path+\"settings/project_specific/security_config.json\"\n",
    "if os.path.exists(bak_source_templates):\n",
    "    bak_target_templates = target_start_path+\"settings/project_specific/security_config.\"+bak_name+\".json\"\n",
    "    copy_and_overwrite_file(bak_source_templates,bak_target_templates)\n",
    "\n",
    "# BACKUP - enterprise_specific\n",
    "bak_source_templates = target_start_path+\"settings/enterprise_specific/dev_test_prod_settings.json\"\n",
    "if os.path.exists(bak_source_templates):\n",
    "    bak_target_templates = target_start_path+\"settings/enterprise_specific/dev_test_prod_settings.\"+bak_name+\".json\"\n",
    "    copy_and_overwrite_file(bak_source_templates,bak_target_templates)\n",
    "\n",
    "# OVERWRITE ALL TEMPLATES\n",
    "source_templates = \"./settings/\"\n",
    "target_templates = target_start_path+\"settings/\"\n",
    "copy_and_overwrite_folder(source_templates,target_templates)\n"
   ]
  },
  {
   "cell_type": "markdown",
   "metadata": {},
   "source": [
    "# 3 A) mlops\n",
    "- Note: The mlops template is generic (does not need to be copied), hence you can use the centralized GITHUB one, but then you need to change the `start path` in Azure Devops Azure CLI steps.\n",
    "- If copy as your own templat (run the below cell), which is recommended - you can customize it, and the Azure Devops template will find the files directly."
   ]
  },
  {
   "cell_type": "code",
   "execution_count": null,
   "metadata": {},
   "outputs": [],
   "source": [
    "# A) MLOPS\n",
    "source_templates = \"./mlops/01_template_v14\"\n",
    "target_templates = target_start_path+\"mlops/01_template_v14\"\n",
    "copy_and_overwrite_folder(source_templates,target_templates)"
   ]
  },
  {
   "cell_type": "markdown",
   "metadata": {},
   "source": [
    "# 4) Central ESML Templates: `No copy needed` (Just FYI) - always LATEST\n",
    "-Note: The mlops template is generic (does not need to be copied), hence you can use the centralized GITHUB one.\n",
    "- This is nod needed to be updated.\n",
    "- You will always run against the latest central ESML repo. (Analogy: Same way as the ESML runtime SDK)"
   ]
  },
  {
   "cell_type": "code",
   "execution_count": null,
   "metadata": {},
   "outputs": [],
   "source": [
    "# DataOps: Azure data factory templates\n",
    "adf = \"azure-enterprise-scale-ml/copy_my_subfolders_to_my_grandparent/adf/\" # Data factory templates for DataOps / MLOps"
   ]
  },
  {
   "cell_type": "markdown",
   "metadata": {},
   "source": [
    "# TODO: Lakedesign, ACL on lakefolders"
   ]
  },
  {
   "cell_type": "markdown",
   "metadata": {},
   "source": [
    "- It is not possible today to automatically update the ESML datalake design\n",
    "- This is extremely rarely done. Example: Have not update the ESML lake design in 2 years."
   ]
  }
 ],
 "metadata": {
  "kernelspec": {
   "display_name": "azure_automl_esml_v155_v115",
   "language": "python",
   "name": "python3"
  },
  "language_info": {
   "codemirror_mode": {
    "name": "ipython",
    "version": 3
   },
   "file_extension": ".py",
   "mimetype": "text/x-python",
   "name": "python",
   "nbconvert_exporter": "python",
   "pygments_lexer": "ipython3",
   "version": "3.9.19"
  },
  "orig_nbformat": 4
 },
 "nbformat": 4,
 "nbformat_minor": 2
}
