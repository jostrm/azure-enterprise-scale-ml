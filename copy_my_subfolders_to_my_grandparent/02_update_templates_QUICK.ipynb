{
 "cells": [
  {
   "cell_type": "markdown",
   "metadata": {},
   "source": [
    "# Copies TEMPLATES (SAFE Notebook to use for UPDATE.)\n",
    "- About this notebook: Copies TEMPLATES: Notebook templates, Pipeline templates, lake_settings & model_settings"
   ]
  },
  {
   "cell_type": "code",
   "execution_count": 2,
   "metadata": {},
   "outputs": [],
   "source": [
    "import os\n",
    "import shutil\n",
    "import uuid\n",
    "target_start_path = \"../../\"\n",
    "def copy_and_overwrite_folder(source,target):\n",
    "    os.makedirs(os.path.dirname(target), exist_ok=True)\n",
    "    if os.path.exists(target):\n",
    "        shutil.rmtree(target)\n",
    "    shutil.copytree(source, target)\n",
    "\n",
    "def copy_and_overwrite_file(source,target):\n",
    "    if(os.path.exists(target) == False):\n",
    "        os.makedirs(os.path.dirname(target), exist_ok=True)\n",
    "    if os.path.exists(target):\n",
    "        os.remove(target)\n",
    "    shutil.copy(source, target)"
   ]
  },
  {
   "cell_type": "markdown",
   "metadata": {},
   "source": [
    "# 1) ESML AI Factory infrastructure\n",
    "- Azure Devops (BICEP)\n",
    "    - .json which is ADO native with UI\n",
    "        - RELEASE pipelines: COMMON, ESML-PROJECT, ESML-GENAI\n",
    "    - .yaml code based\n",
    "        - BUILD PIPELINES:  COMMON, ESML-PROJECT, ESML-GENAI\n",
    "        - RELEASE pipelines: COMMON, ESML-PROJECT, ESML-GENAI\n",
    "- GITHUB Actions (Terraform) - TBA"
   ]
  },
  {
   "cell_type": "code",
   "execution_count": 3,
   "metadata": {},
   "outputs": [],
   "source": [
    "# 1) ESML AI Factory infrastructure\n",
    "\n",
    "# AI FACTORY - BICEP (Azure Devops)\n",
    "source_bicep = \"../environment_setup/aifactory/bicep/copy_to_local_settings/esml-ado-pipelines\"\n",
    "target_bicep = target_start_path+\"aifactory/esml-infra/azuredevops/bicep\"\n",
    "copy_and_overwrite_folder(source_bicep,target_bicep)\n",
    "\n",
    "source_bicep = \"../environment_setup/aifactory/bicep/copy_to_local_settings/esml-yaml-pipelines\"\n",
    "target_bicep = target_start_path+\"aifactory/esml-infra/azuredevops/bicep\"\n",
    "copy_and_overwrite_folder(source_bicep,target_bicep)\n",
    "\n",
    "# AIFACTORY - TERRAFORM (Gihub Actions)\n",
    "source_bicep = \"../environment_setup/aifactory/terraform\"\n",
    "target_bicep = target_start_path+\"aifactory/esml-infra/githubactions/terraform\"\n",
    "copy_and_overwrite_folder(source_bicep,target_bicep)"
   ]
  },
  {
   "attachments": {},
   "cell_type": "markdown",
   "metadata": {},
   "source": [
    "# 1 A) BICEP utils\n",
    "- Add private DSVM to a project\n",
    "- Create and attach a private AKS cluster to Azure ML"
   ]
  },
  {
   "cell_type": "code",
   "execution_count": null,
   "metadata": {},
   "outputs": [],
   "source": [
    "# AI FACTORY - BICEP utils: Add private DSVM, Create and attach a private AKS cluster to Azure ML\n",
    "source_bicep_util = \"../environment_setup/aifactory/bicep/esml-util\"\n",
    "target_bicep_util = target_start_path+\"aifactory/esml-util\"\n",
    "copy_and_overwrite_folder(source_bicep_util,target_bicep_util)"
   ]
  },
  {
   "cell_type": "markdown",
   "metadata": {},
   "source": [
    "# 1 B) mlops template\n",
    "- Note: The mlops template is generic (does not need to be copied), hence you can use the centralized GITHUB one, but then you need to change the `start path` in Azure Devops Azure CLI steps.\n",
    "- If copy as your own templat (run the below cell), which is recommended - you can customize it, and the Azure Devops template will find the files directly."
   ]
  },
  {
   "cell_type": "code",
   "execution_count": null,
   "metadata": {},
   "outputs": [],
   "source": [
    "# A) MLOPS\n",
    "source_templates = \"./mlops/01_template_v14\"\n",
    "target_templates = target_start_path+\"mlops/01_template_v14\"\n",
    "copy_and_overwrite_folder(source_templates,target_templates)"
   ]
  },
  {
   "attachments": {},
   "cell_type": "markdown",
   "metadata": {},
   "source": [
    "# NOTEBOOKS: 2 A,B,C MORE FREQUENTLY - Update notebook TEMPLATES\n"
   ]
  },
  {
   "cell_type": "markdown",
   "metadata": {},
   "source": [
    "<div class=\"warning\" style='background-color:#E9D8FD; color: #69337A; border-left: solid #805AD5 4px; border-radius: 4px; padding:0.7em;'>\n",
    "<span>\n",
    "<p style='margin-top:1em; text-align:left'>\n",
    "<b>ESML ACCELERATION - Notebook TEAMPLATE vs notebook EXAMPLE</b></p>\n",
    "<p style='margin-left:1em;'>\n",
    "\n",
    "In ESML AI Factory we distinguish between a `TEMPLATE` notebook and a `EXAMPLE` notebook.<br>\n",
    "\n",
    "- `TEMPLATE notebooks`(AML v1 - this): is generic, metadata-driven from ESML settings, almost no parameters need to be given<br>\n",
    "    - Example: No parameters is needed to...<br>\n",
    "        - <b>Login to workspace:</b> No parameters needed - The ESMLProject object, already knows your infrastructure (dev, test, prod config)<br>\n",
    "        - <b>Read/write data:</b> No path needed - ESML datalake design - just work with the python properties ().IN .Bronze, .Silver,.Gold) to get the paths<br>\n",
    "        - <b>Create and deploy a pipeline</b>: Automatic - pipelinestructure, compute is all created from  config (dev, test, prod config)<br>\n",
    "        - <b>MLOps:</b>Calculate Model testeset scoring & comparing to promote model across Dev, Test, Prod environments: Automatic: INNER & OUTER LOOP MLOps<br>\n",
    "- `EXAMPLE notebooks` (AML v2): all paremeters needs to be provided. It is like workign with Azure ML SDK `vanilla` without acceleration<br>\n",
    "    - Example: <br>\n",
    "        - <b>Login to workspace:</b>  Resourcegroupname, Azure ML workspace name, credentials, etc<br>\n",
    "        - <b>Read/write data:</b> You need to know and defined the full folder path to every file. You need to study the datalake-design. <br>\n",
    "        - <b>Create and deploy a pipeline</b>:All pipelinestructure needs to be defined, all compute needs to be pre-created, etc.<br>\n",
    "        - <b>MLOps:</b> Calculate Model testeset scoring & comparing to promote model across Dev, Test, Prod environments:  all logic needs to be writtenm<br>\n",
    "</p>\n",
    "<p style='margin-bottom:1em; margin-right:1em; text-align:right; font-family:Georgia'> <b></b> <i></i>\n",
    "</p></span>\n",
    "</div>"
   ]
  },
  {
   "cell_type": "markdown",
   "metadata": {},
   "source": [
    "## 2 A) AML v1 notebook `TEMPLATES` (generic + ESML acceleration)\n",
    "- RUNTIME: Azure ML v1.55 + AutoML + ESML acceleration\n",
    "- STABLE notebooks, frequently tested, for Long Term Support feeling, for notebooks with `PRODUCTION` in its name\n",
    "- When a NEW Azure ML SDK version comes, these are tested. 2024-04-05: SDK v1 (v1.55)"
   ]
  },
  {
   "cell_type": "code",
   "execution_count": 2,
   "metadata": {},
   "outputs": [],
   "source": [
    "# QUICKSTART NOTEBOOKS\n",
    "source_notebooks_quickstart = \"./notebook_templates/1_quickstart/\"\n",
    "target_notebooks_quickstart = target_start_path+\"notebook_aml_v1_templates\"\n",
    "copy_and_overwrite_folder(source_notebooks_quickstart,target_notebooks_quickstart)"
   ]
  },
  {
   "attachments": {},
   "cell_type": "markdown",
   "metadata": {},
   "source": [
    "## 2B) Databricks notebook `TEMPLATES` + settings (which is backed up)\n",
    "- RUNTIME: 9.1LTS + Azure ML v1.55 + AutoML + ESML acceleration"
   ]
  },
  {
   "cell_type": "code",
   "execution_count": null,
   "metadata": {},
   "outputs": [],
   "source": [
    "uid = uuid.uuid4().hex\n",
    "bak_name = \"bak_\"+uid[0:5]\n",
    "\n",
    "# BACKUP - 00_project_settings (similar to ~LAKE_SETTINGS)\n",
    "bak_source_templates = target_start_path + \"notebook_databricks/esml/dev/project/00_project_settings/esml_project.py\"\n",
    "if os.path.exists(bak_source_templates):\n",
    "    bak_target_templates = target_start_path +\"notebook_databricks_\"+bak_name+\"/esml/dev/project/00_project_settings/esml_project_\"+bak_name+\".py\"\n",
    "    copy_and_overwrite_file(bak_source_templates,bak_target_templates)\n",
    "\n",
    "# QUICKSTART NOTEBOOKS - Databricks\n",
    "source_notebooks_quickstart = \"./notebook_templates/notebook_databricks/\"\n",
    "target_notebooks_quickstart = target_start_path+\"notebook_databricks\"\n",
    "copy_and_overwrite_folder(source_notebooks_quickstart,target_notebooks_quickstart)"
   ]
  },
  {
   "attachments": {},
   "cell_type": "markdown",
   "metadata": {},
   "source": [
    "# 2C) Databricks - `TEMPLATES` (no settings)\n",
    "- RUNTIME: 9.1LTS + Azure ML v1.55 + AutoML + ESML acceleration\n",
    "- Update only DEMO notebooks and nb-placeholder. Not overwrite settings"
   ]
  },
  {
   "cell_type": "code",
   "execution_count": 5,
   "metadata": {},
   "outputs": [],
   "source": [
    "# QUICKSTART NOTEBOOKS - Databricks\n",
    "source_notebooks_quickstart = \"./notebook_templates/notebook_databricks/esml/dev/project/11_diabetes_model_reg/\"\n",
    "target_notebooks_quickstart = target_start_path+\"notebook_databricks/esml/dev/project/11_diabetes_model_reg\"\n",
    "copy_and_overwrite_folder(source_notebooks_quickstart,target_notebooks_quickstart)\n",
    "\n",
    "source_notebooks_quickstart = \"./notebook_templates/notebook_databricks/esml/dev/project/01_model_placeholder/\"\n",
    "target_notebooks_quickstart = target_start_path+\"notebook_databricks/esml/dev/project/01_model_placeholder\"\n",
    "copy_and_overwrite_folder(source_notebooks_quickstart,target_notebooks_quickstart)"
   ]
  },
  {
   "cell_type": "markdown",
   "metadata": {},
   "source": [
    "# 2D) Azure ML SDK v2 notebook EXAMPLES (no ESML acceleration)\n",
    "- RUNTIME: Azure ML SDK v2 v1.15 \"vanilla\""
   ]
  },
  {
   "cell_type": "code",
   "execution_count": null,
   "metadata": {},
   "outputs": [],
   "source": [
    "# QUICKSTART NOTEBOOKS\n",
    "source_notebooks_amlv2 = \"./notebook_templates/notebook_aml_sdkv2_versus_sdkv1/\"\n",
    "target_notebooks_amlv2 = target_start_path+\"notebook_aml_v2_examples\"\n",
    "copy_and_overwrite_folder(source_notebooks_amlv2,target_notebooks_amlv2)\n",
    "\n",
    "# model\n",
    "source_model = \"./notebook_templates/model_diabetes/\"\n",
    "target_model = target_start_path+\"notebook_aml_v2_examples/model_diabetes\"\n",
    "copy_and_overwrite_folder(source_model,target_model)"
   ]
  },
  {
   "cell_type": "markdown",
   "metadata": {},
   "source": [
    "# 2E) Azure ML SDK v1 notebook EXAMPLES\n",
    "- RUNTIME: Azure ML SDK v1.44 with ESML acceleration (these notebooks may not work today 2024-04-05)\"\n",
    "- PURPOSE: A lot of examples. NB! these are not tested frequently. \n",
    "- BUT - For STABLE notebooks - use `notebook_aml_v1_templates` instead"
   ]
  },
  {
   "cell_type": "code",
   "execution_count": null,
   "metadata": {},
   "outputs": [],
   "source": [
    "# QUICKSTART NOTEBOOKS\n",
    "source_notebooks_amlv2 = \"./notebook_templates/notebook_templates_esml_v14_2022-06-2023_aml_v143/\"\n",
    "target_notebooks_amlv2 = target_start_path+\"notebook_aml_v1_examples\"\n",
    "copy_and_overwrite_folder(source_notebooks_amlv2,target_notebooks_amlv2)"
   ]
  },
  {
   "attachments": {},
   "cell_type": "markdown",
   "metadata": {},
   "source": [
    "# 3) Azure ML SDK v1 - PIPELINE `TEMPLATES`\n",
    "- RUNTIME: Azure ML v1.55 + AutoML + ESML acceleration\n",
    "- STABLE pipelines: Frequently tested, for Long Term Support feeling, for notebooks with `PRODUCTION` in its name that generates these\n",
    "    - When a NEW Azure ML SDK version comes, these are tested. 2024-04-05: SDK v1 (v1.55)\n",
    "- WHEN to update? \n",
    "    - Needs to be updated if ESML fix is in ESMLRT, Runtime, or in the Pipeline template python files themselves"
   ]
  },
  {
   "cell_type": "code",
   "execution_count": null,
   "metadata": {},
   "outputs": [],
   "source": [
    "# PIPELINE TEMPLATES ONLY\n",
    "source_templates = \"./settings/enterprise_specific/dev_test_prod_defaults/pipeline_template\"\n",
    "target_templates = target_start_path+\"settings/enterprise_specific/dev_test_prod_defaults/pipeline_template\"\n",
    "copy_and_overwrite_folder(source_templates,target_templates)"
   ]
  },
  {
   "attachments": {},
   "cell_type": "markdown",
   "metadata": {},
   "source": [
    "## 4) SETTINGS: Lake_Settings, Model_settings\n",
    "- When  to update? \n",
    "    - For monthly / quartely ESML updates, such as the OCTOBER 2022 update"
   ]
  },
  {
   "cell_type": "code",
   "execution_count": null,
   "metadata": {},
   "outputs": [],
   "source": [
    "uid = uuid.uuid4().hex\n",
    "bak_name = \"bak_\"+uid[0:5]\n",
    "\n",
    "# BACKUP - LAKE_SETTINGS\n",
    "bak_source_templates = target_start_path+\"settings/project_specific/model/lake_settings.json\"\n",
    "if os.path.exists(bak_source_templates):\n",
    "    bak_target_templates = target_start_path+\"settings/project_specific/model/lake_settings.\"+bak_name+\".json\"\n",
    "    copy_and_overwrite_file(bak_source_templates,bak_target_templates)\n",
    "\n",
    "# OVERWRITE - LAKE_SETTINGS\n",
    "bak_source_templates = \"./settings/project_specific/model/lake_settings.json\"\n",
    "bak_target_templates = target_start_path+\"settings/project_specific/model/lake_settings.json\"\n",
    "copy_and_overwrite_file(bak_source_templates,bak_target_templates)\n",
    "\n",
    "# BACKUP - MODEL_SETTINGS\n",
    "bak_source_templates = target_start_path+\"settings/project_specific/model/model_settings.json\"\n",
    "if os.path.exists(bak_source_templates):\n",
    "    bak_target_templates = target_start_path+\"settings/project_specific/model/model_settings.\"+bak_name+\".json\"\n",
    "    copy_and_overwrite_file(bak_source_templates,bak_target_templates)\n",
    "\n",
    "# OVERWRITE - - MODEL_SETTINGS\n",
    "bak_source_templates = \"./settings/project_specific/model/model_settings.json\"\n",
    "bak_target_templates = target_start_path+\"settings/project_specific/model/model_settings.json\"\n",
    "copy_and_overwrite_file(bak_source_templates,bak_target_templates)"
   ]
  }
 ],
 "metadata": {
  "kernelspec": {
   "display_name": "Python (azure_automl_esml_v144)",
   "language": "python",
   "name": "azure_automl_esml_v144"
  },
  "language_info": {
   "codemirror_mode": {
    "name": "ipython",
    "version": 3
   },
   "file_extension": ".py",
   "mimetype": "text/x-python",
   "name": "python",
   "nbconvert_exporter": "python",
   "pygments_lexer": "ipython3",
   "version": "3.8.13"
  },
  "orig_nbformat": 4,
  "vscode": {
   "interpreter": {
    "hash": "a4a3f6f829c0fbf992fdd78de6ec4e694e293d154a9b96895f90a426de0ee97e"
   }
  }
 },
 "nbformat": 4,
 "nbformat_minor": 2
}
