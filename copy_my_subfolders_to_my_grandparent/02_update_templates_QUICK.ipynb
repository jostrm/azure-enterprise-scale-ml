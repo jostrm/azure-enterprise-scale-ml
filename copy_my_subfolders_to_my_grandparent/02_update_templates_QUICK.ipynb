{
 "cells": [
  {
   "cell_type": "markdown",
   "metadata": {},
   "source": [
    "# Copies TEMPLATES (SAFE Notebook to use for UPDATE.)\n",
    "- About this notebook: Copies TEMPLATES: Notebook templates, Pipeline templates, lake_settings & model_settings"
   ]
  },
  {
   "cell_type": "code",
   "execution_count": 4,
   "metadata": {},
   "outputs": [],
   "source": [
    "import os\n",
    "import shutil\n",
    "import uuid\n",
    "target_start_path = \"../../\"\n",
    "def copy_and_overwrite_folder(source,target):\n",
    "    os.makedirs(os.path.dirname(target), exist_ok=True)\n",
    "    if os.path.exists(target):\n",
    "        shutil.rmtree(target)\n",
    "    shutil.copytree(source, target)\n",
    "\n",
    "def copy_and_overwrite_file(source,target):\n",
    "    if(os.path.exists(target) == False):\n",
    "        os.makedirs(os.path.dirname(target), exist_ok=True)\n",
    "    if os.path.exists(target):\n",
    "        os.remove(target)\n",
    "    shutil.copy(source, target)"
   ]
  },
  {
   "attachments": {},
   "cell_type": "markdown",
   "metadata": {},
   "source": [
    "# 1 A) BICEP utils\n",
    "- Add private DSVM to a project\n",
    "- Create and attach a private AKS cluster to Azure ML"
   ]
  },
  {
   "cell_type": "code",
   "execution_count": null,
   "metadata": {},
   "outputs": [],
   "source": [
    "# AI FACTORY - BICEP utils: Add private DSVM, Create and attach a private AKS cluster to Azure ML\n",
    "source_bicep_util = \"../environment_setup/aifactory/bicep/esml-util\"\n",
    "target_bicep_util = target_start_path+\"aifactory/esml-util\"\n",
    "copy_and_overwrite_folder(source_bicep_util,target_bicep_util)"
   ]
  },
  {
   "cell_type": "markdown",
   "metadata": {},
   "source": [
    "# 1 B) mlops template\n",
    "- Note: The mlops template is generic (does not need to be copied), hence you can use the centralized GITHUB one, but then you need to change the `start path` in Azure Devops Azure CLI steps.\n",
    "- If copy as your own templat (run the below cell), which is recommended - you can customize it, and the Azure Devops template will find the files directly."
   ]
  },
  {
   "cell_type": "code",
   "execution_count": null,
   "metadata": {},
   "outputs": [],
   "source": [
    "# A) MLOPS\n",
    "source_templates = \"./mlops/01_template_v14\"\n",
    "target_templates = target_start_path+\"mlops/01_template_v14\"\n",
    "copy_and_overwrite_folder(source_templates,target_templates)"
   ]
  },
  {
   "attachments": {},
   "cell_type": "markdown",
   "metadata": {},
   "source": [
    "# NOTEBOOKS: 2 A,B,C MORE FREQUENTLY - Update notebook templates\n"
   ]
  },
  {
   "cell_type": "markdown",
   "metadata": {},
   "source": [
    "## 2 A) QUICKSTART notebook templates ONLY"
   ]
  },
  {
   "cell_type": "code",
   "execution_count": 2,
   "metadata": {},
   "outputs": [],
   "source": [
    "# QUICKSTART NOTEBOOKS\n",
    "source_notebooks_quickstart = \"./notebook_templates/1_quickstart/\"\n",
    "target_notebooks_quickstart = target_start_path+\"notebook_templates_quickstart\"\n",
    "copy_and_overwrite_folder(source_notebooks_quickstart,target_notebooks_quickstart)"
   ]
  },
  {
   "attachments": {},
   "cell_type": "markdown",
   "metadata": {},
   "source": [
    "## 2B) Databricks notebooks + settings (which is backed up)"
   ]
  },
  {
   "cell_type": "code",
   "execution_count": null,
   "metadata": {},
   "outputs": [],
   "source": [
    "uid = uuid.uuid4().hex\n",
    "bak_name = \"bak_\"+uid[0:5]\n",
    "\n",
    "# BACKUP - 00_project_settings (similar to ~LAKE_SETTINGS)\n",
    "bak_source_templates = target_start_path + \"notebook_databricks/esml/dev/project/00_project_settings/esml_project.py\"\n",
    "if os.path.exists(bak_source_templates):\n",
    "    bak_target_templates = target_start_path +\"notebook_databricks_\"+bak_name+\"/esml/dev/project/00_project_settings/esml_project_\"+bak_name+\".py\"\n",
    "    copy_and_overwrite_file(bak_source_templates,bak_target_templates)\n",
    "\n",
    "# QUICKSTART NOTEBOOKS - Databricks\n",
    "source_notebooks_quickstart = \"./notebook_templates/notebook_databricks/\"\n",
    "target_notebooks_quickstart = target_start_path+\"notebook_databricks\"\n",
    "copy_and_overwrite_folder(source_notebooks_quickstart,target_notebooks_quickstart)"
   ]
  },
  {
   "attachments": {},
   "cell_type": "markdown",
   "metadata": {},
   "source": [
    "# 2C) Databricks - NOTEBOOKS (no settings)\n",
    "- Update only DEMO notebooks and nb-placeholder. Not overwrite settings"
   ]
  },
  {
   "cell_type": "code",
   "execution_count": 5,
   "metadata": {},
   "outputs": [],
   "source": [
    "# QUICKSTART NOTEBOOKS - Databricks\n",
    "source_notebooks_quickstart = \"./notebook_templates/notebook_databricks/esml/dev/project/11_diabetes_model_reg/\"\n",
    "target_notebooks_quickstart = target_start_path+\"notebook_databricks/esml/dev/project/11_diabetes_model_reg\"\n",
    "copy_and_overwrite_folder(source_notebooks_quickstart,target_notebooks_quickstart)\n",
    "\n",
    "source_notebooks_quickstart = \"./notebook_templates/notebook_databricks/esml/dev/project/01_model_placeholder/\"\n",
    "target_notebooks_quickstart = target_start_path+\"notebook_databricks/esml/dev/project/01_model_placeholder\"\n",
    "copy_and_overwrite_folder(source_notebooks_quickstart,target_notebooks_quickstart)"
   ]
  },
  {
   "cell_type": "markdown",
   "metadata": {},
   "source": [
    "# 2D) Azure ML SDK v2 notebooks"
   ]
  },
  {
   "cell_type": "code",
   "execution_count": null,
   "metadata": {},
   "outputs": [],
   "source": [
    "# QUICKSTART NOTEBOOKS\n",
    "source_notebooks_amlv2 = \"./notebook_templates/notebook_aml_sdkv2_versus_sdkv1/\"\n",
    "target_notebooks_amlv2 = target_start_path+\"notebook_aml_sdkv2_vs_sdkv1\"\n",
    "copy_and_overwrite_folder(source_notebooks_amlv2,source_notebooks_amlv2)"
   ]
  },
  {
   "attachments": {},
   "cell_type": "markdown",
   "metadata": {},
   "source": [
    "# 3) Pipeline templates only\n",
    "- WHEN to update? \n",
    "    - Needs to be updated if ESML fix is in ESMLRT, Runtime, or in the Pipeline template python files themselves"
   ]
  },
  {
   "cell_type": "code",
   "execution_count": null,
   "metadata": {},
   "outputs": [],
   "source": [
    "# PIPELINE TEMPLATES ONLY\n",
    "source_templates = \"./settings/enterprise_specific/dev_test_prod_defaults/pipeline_template\"\n",
    "target_templates = target_start_path+\"settings/enterprise_specific/dev_test_prod_defaults/pipeline_template\"\n",
    "copy_and_overwrite_folder(source_templates,target_templates)"
   ]
  },
  {
   "attachments": {},
   "cell_type": "markdown",
   "metadata": {},
   "source": [
    "## 4) SETTINGS: Lake_Settings, Model_settings\n",
    "- When  to update? \n",
    "    - For monthly / quartely ESML updates, such as the OCTOBER 2022 update"
   ]
  },
  {
   "cell_type": "code",
   "execution_count": null,
   "metadata": {},
   "outputs": [],
   "source": [
    "uid = uuid.uuid4().hex\n",
    "bak_name = \"bak_\"+uid[0:5]\n",
    "\n",
    "# BACKUP - LAKE_SETTINGS\n",
    "bak_source_templates = target_start_path+\"settings/project_specific/model/lake_settings.json\"\n",
    "if os.path.exists(bak_source_templates):\n",
    "    bak_target_templates = target_start_path+\"settings/project_specific/model/lake_settings.\"+bak_name+\".json\"\n",
    "    copy_and_overwrite_file(bak_source_templates,bak_target_templates)\n",
    "\n",
    "# OVERWRITE - LAKE_SETTINGS\n",
    "bak_source_templates = \"./settings/project_specific/model/lake_settings.json\"\n",
    "bak_target_templates = target_start_path+\"settings/project_specific/model/lake_settings.json\"\n",
    "copy_and_overwrite_file(bak_source_templates,bak_target_templates)\n",
    "\n",
    "# BACKUP - MODEL_SETTINGS\n",
    "bak_source_templates = target_start_path+\"settings/project_specific/model/model_settings.json\"\n",
    "if os.path.exists(bak_source_templates):\n",
    "    bak_target_templates = target_start_path+\"settings/project_specific/model/model_settings.\"+bak_name+\".json\"\n",
    "    copy_and_overwrite_file(bak_source_templates,bak_target_templates)\n",
    "\n",
    "# OVERWRITE - - MODEL_SETTINGS\n",
    "bak_source_templates = \"./settings/project_specific/model/model_settings.json\"\n",
    "bak_target_templates = target_start_path+\"settings/project_specific/model/model_settings.json\"\n",
    "copy_and_overwrite_file(bak_source_templates,bak_target_templates)"
   ]
  }
 ],
 "metadata": {
  "kernelspec": {
   "display_name": "Python (azure_automl_esml_v144)",
   "language": "python",
   "name": "azure_automl_esml_v144"
  },
  "language_info": {
   "codemirror_mode": {
    "name": "ipython",
    "version": 3
   },
   "file_extension": ".py",
   "mimetype": "text/x-python",
   "name": "python",
   "nbconvert_exporter": "python",
   "pygments_lexer": "ipython3",
   "version": "3.8.13"
  },
  "orig_nbformat": 4,
  "vscode": {
   "interpreter": {
    "hash": "a4a3f6f829c0fbf992fdd78de6ec4e694e293d154a9b96895f90a426de0ee97e"
   }
  }
 },
 "nbformat": 4,
 "nbformat_minor": 2
}
